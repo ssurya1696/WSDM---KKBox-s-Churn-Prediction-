{
 "cells": [
  {
   "cell_type": "code",
   "execution_count": 1,
   "metadata": {},
   "outputs": [
    {
     "name": "stderr",
     "output_type": "stream",
     "text": [
      "C:\\Users\\Surya\\Anaconda3\\lib\\site-packages\\sklearn\\utils\\deprecation.py:144: FutureWarning: The sklearn.metrics.classification module is  deprecated in version 0.22 and will be removed in version 0.24. The corresponding classes / functions should instead be imported from sklearn.metrics. Anything that cannot be imported from sklearn.metrics is now part of the private API.\n",
      "  warnings.warn(message, FutureWarning)\n"
     ]
    }
   ],
   "source": [
    "import pandas as pd\n",
    "import matplotlib.pyplot as plt\n",
    "import re\n",
    "import time\n",
    "import warnings\n",
    "from sklearn.feature_extraction.text import CountVectorizer\n",
    "import numpy as np\n",
    "from nltk.corpus import stopwords\n",
    "from sklearn.decomposition import TruncatedSVD\n",
    "from sklearn.preprocessing import normalize\n",
    "from sklearn.feature_extraction.text import CountVectorizer\n",
    "from sklearn.manifold import TSNE\n",
    "import seaborn as sns\n",
    "from sklearn.neighbors import KNeighborsClassifier\n",
    "from sklearn.metrics import confusion_matrix\n",
    "from sklearn.metrics.classification import accuracy_score, log_loss\n",
    "from sklearn.feature_extraction.text import TfidfVectorizer\n",
    "from sklearn.linear_model import SGDClassifier\n",
    "from collections import Counter\n",
    "from scipy.sparse import hstack\n",
    "from sklearn.multiclass import OneVsRestClassifier\n",
    "from sklearn.svm import SVC\n",
    "from sklearn.model_selection import StratifiedKFold \n",
    "from collections import Counter, defaultdict\n",
    "from sklearn.calibration import CalibratedClassifierCV\n",
    "from sklearn.naive_bayes import MultinomialNB\n",
    "from sklearn.naive_bayes import GaussianNB\n",
    "from sklearn.model_selection import train_test_split\n",
    "from sklearn.model_selection import GridSearchCV\n",
    "import math\n",
    "from sklearn.metrics import normalized_mutual_info_score\n",
    "from sklearn.ensemble import RandomForestClassifier\n",
    "warnings.filterwarnings(\"ignore\")\n",
    "\n",
    "from mlxtend.classifier import StackingClassifier\n",
    "\n",
    "from sklearn import model_selection\n",
    "from sklearn.linear_model import LogisticRegression\n"
   ]
  },
  {
   "cell_type": "code",
   "execution_count": 4,
   "metadata": {},
   "outputs": [],
   "source": [
    "from sklearn.externals import joblib\n"
   ]
  },
  {
   "cell_type": "markdown",
   "metadata": {},
   "source": [
    "## Train "
   ]
  },
  {
   "cell_type": "code",
   "execution_count": 405,
   "metadata": {},
   "outputs": [
    {
     "data": {
      "text/plain": [
       "(970960, 2)"
      ]
     },
     "execution_count": 405,
     "metadata": {},
     "output_type": "execute_result"
    }
   ],
   "source": [
    "train = pd.read_csv('train_v2.csv')\n",
    "train.shape"
   ]
  },
  {
   "cell_type": "markdown",
   "metadata": {},
   "source": [
    "## Members"
   ]
  },
  {
   "cell_type": "code",
   "execution_count": 406,
   "metadata": {},
   "outputs": [
    {
     "data": {
      "text/plain": [
       "(6769473, 6)"
      ]
     },
     "execution_count": 406,
     "metadata": {},
     "output_type": "execute_result"
    }
   ],
   "source": [
    "members = pd.read_csv('members_v3.csv')\n",
    "members.shape"
   ]
  },
  {
   "cell_type": "code",
   "execution_count": 407,
   "metadata": {},
   "outputs": [],
   "source": [
    "# we are joining members and train dataframe based on msno \n",
    "\n",
    "a = pd.merge(train, members, on = 'msno', how = 'left')"
   ]
  },
  {
   "cell_type": "code",
   "execution_count": null,
   "metadata": {},
   "outputs": [],
   "source": [
    "## mention reasons"
   ]
  },
  {
   "cell_type": "code",
   "execution_count": 408,
   "metadata": {},
   "outputs": [
    {
     "data": {
      "text/html": [
       "<div>\n",
       "<style scoped>\n",
       "    .dataframe tbody tr th:only-of-type {\n",
       "        vertical-align: middle;\n",
       "    }\n",
       "\n",
       "    .dataframe tbody tr th {\n",
       "        vertical-align: top;\n",
       "    }\n",
       "\n",
       "    .dataframe thead th {\n",
       "        text-align: right;\n",
       "    }\n",
       "</style>\n",
       "<table border=\"1\" class=\"dataframe\">\n",
       "  <thead>\n",
       "    <tr style=\"text-align: right;\">\n",
       "      <th></th>\n",
       "      <th>msno</th>\n",
       "      <th>is_churn</th>\n",
       "      <th>city</th>\n",
       "      <th>registered_via</th>\n",
       "      <th>registration_init_time_year</th>\n",
       "      <th>registration_init_time_month</th>\n",
       "      <th>registration_init_time_day</th>\n",
       "    </tr>\n",
       "  </thead>\n",
       "  <tbody>\n",
       "    <tr>\n",
       "      <th>0</th>\n",
       "      <td>ugx0CjOMzazClkFzU2xasmDZaoIqOUAZPsH1q0teWCg=</td>\n",
       "      <td>1</td>\n",
       "      <td>5.0</td>\n",
       "      <td>3.0</td>\n",
       "      <td>2013</td>\n",
       "      <td>12</td>\n",
       "      <td>23</td>\n",
       "    </tr>\n",
       "    <tr>\n",
       "      <th>1</th>\n",
       "      <td>f/NmvEzHfhINFEYZTR05prUdr+E+3+oewvweYz9cCQE=</td>\n",
       "      <td>1</td>\n",
       "      <td>13.0</td>\n",
       "      <td>3.0</td>\n",
       "      <td>2013</td>\n",
       "      <td>12</td>\n",
       "      <td>23</td>\n",
       "    </tr>\n",
       "    <tr>\n",
       "      <th>2</th>\n",
       "      <td>zLo9f73nGGT1p21ltZC3ChiRnAVvgibMyazbCxvWPcg=</td>\n",
       "      <td>1</td>\n",
       "      <td>13.0</td>\n",
       "      <td>3.0</td>\n",
       "      <td>2013</td>\n",
       "      <td>12</td>\n",
       "      <td>27</td>\n",
       "    </tr>\n",
       "    <tr>\n",
       "      <th>3</th>\n",
       "      <td>8iF/+8HY8lJKFrTc7iR9ZYGCG2Ecrogbc2Vy5YhsfhQ=</td>\n",
       "      <td>1</td>\n",
       "      <td>1.0</td>\n",
       "      <td>7.0</td>\n",
       "      <td>2014</td>\n",
       "      <td>1</td>\n",
       "      <td>9</td>\n",
       "    </tr>\n",
       "    <tr>\n",
       "      <th>4</th>\n",
       "      <td>K6fja4+jmoZ5xG6BypqX80Uw/XKpMgrEMdG2edFOxnA=</td>\n",
       "      <td>1</td>\n",
       "      <td>13.0</td>\n",
       "      <td>7.0</td>\n",
       "      <td>2014</td>\n",
       "      <td>1</td>\n",
       "      <td>25</td>\n",
       "    </tr>\n",
       "  </tbody>\n",
       "</table>\n",
       "</div>"
      ],
      "text/plain": [
       "                                           msno  is_churn  city  \\\n",
       "0  ugx0CjOMzazClkFzU2xasmDZaoIqOUAZPsH1q0teWCg=         1   5.0   \n",
       "1  f/NmvEzHfhINFEYZTR05prUdr+E+3+oewvweYz9cCQE=         1  13.0   \n",
       "2  zLo9f73nGGT1p21ltZC3ChiRnAVvgibMyazbCxvWPcg=         1  13.0   \n",
       "3  8iF/+8HY8lJKFrTc7iR9ZYGCG2Ecrogbc2Vy5YhsfhQ=         1   1.0   \n",
       "4  K6fja4+jmoZ5xG6BypqX80Uw/XKpMgrEMdG2edFOxnA=         1  13.0   \n",
       "\n",
       "   registered_via  registration_init_time_year  registration_init_time_month  \\\n",
       "0             3.0                         2013                            12   \n",
       "1             3.0                         2013                            12   \n",
       "2             3.0                         2013                            12   \n",
       "3             7.0                         2014                             1   \n",
       "4             7.0                         2014                             1   \n",
       "\n",
       "   registration_init_time_day  \n",
       "0                          23  \n",
       "1                          23  \n",
       "2                          27  \n",
       "3                           9  \n",
       "4                          25  "
      ]
     },
     "execution_count": 408,
     "metadata": {},
     "output_type": "execute_result"
    }
   ],
   "source": [
    "# dropping the bd ,gender and all null columns\n",
    "\n",
    "a = a.drop(['bd', 'gender'], axis = 1)\n",
    "a = a.dropna(axis = 0, how = 'any')\n",
    "\n",
    "# splitting the date to year,month and day\n",
    "\n",
    "a['registration_init_time'] = pd.to_datetime(a['registration_init_time'], format = \"%Y%m%d\")\n",
    "a['registration_init_time_year'] = a['registration_init_time'].apply(lambda date : date.year)\n",
    "a['registration_init_time_month'] = a['registration_init_time'].apply(lambda date : date.month)\n",
    "a['registration_init_time_day'] = a['registration_init_time'].apply(lambda date : date.day)\n",
    "\n",
    "a = a.drop('registration_init_time', 1)\n",
    "a.head()"
   ]
  },
  {
   "cell_type": "markdown",
   "metadata": {},
   "source": [
    "## Transactions"
   ]
  },
  {
   "cell_type": "code",
   "execution_count": 409,
   "metadata": {},
   "outputs": [],
   "source": [
    "# combining both the transaction data\n",
    "\n",
    "transactions_1 = pd.read_csv('transactions.csv')\n",
    "transactions = transactions_1.append(pd.read_csv('transactions_v2.csv'))"
   ]
  },
  {
   "cell_type": "code",
   "execution_count": 410,
   "metadata": {},
   "outputs": [
    {
     "data": {
      "text/html": [
       "<div>\n",
       "<style scoped>\n",
       "    .dataframe tbody tr th:only-of-type {\n",
       "        vertical-align: middle;\n",
       "    }\n",
       "\n",
       "    .dataframe tbody tr th {\n",
       "        vertical-align: top;\n",
       "    }\n",
       "\n",
       "    .dataframe thead th {\n",
       "        text-align: right;\n",
       "    }\n",
       "</style>\n",
       "<table border=\"1\" class=\"dataframe\">\n",
       "  <thead>\n",
       "    <tr style=\"text-align: right;\">\n",
       "      <th></th>\n",
       "      <th>msno</th>\n",
       "      <th>trans_count</th>\n",
       "      <th>transaction_span</th>\n",
       "      <th>total_list_price</th>\n",
       "      <th>total_amount_paid</th>\n",
       "      <th>is_auto_renew</th>\n",
       "      <th>is_cancel_sum</th>\n",
       "      <th>difference_in_price_paid</th>\n",
       "      <th>amount_paid_perday</th>\n",
       "    </tr>\n",
       "  </thead>\n",
       "  <tbody>\n",
       "    <tr>\n",
       "      <th>0</th>\n",
       "      <td>+++FOrTS7ab3tIgIh8eWwX4FqRv8w/FoiOuyXsFvphY=</td>\n",
       "      <td>1</td>\n",
       "      <td>7</td>\n",
       "      <td>0</td>\n",
       "      <td>0</td>\n",
       "      <td>0</td>\n",
       "      <td>0</td>\n",
       "      <td>0</td>\n",
       "      <td>0.000000</td>\n",
       "    </tr>\n",
       "    <tr>\n",
       "      <th>1</th>\n",
       "      <td>+++IZseRRiQS9aaSkH6cMYU6bGDcxUieAi/tH67sC5s=</td>\n",
       "      <td>2</td>\n",
       "      <td>805</td>\n",
       "      <td>3387</td>\n",
       "      <td>3387</td>\n",
       "      <td>0</td>\n",
       "      <td>0</td>\n",
       "      <td>0</td>\n",
       "      <td>4.207453</td>\n",
       "    </tr>\n",
       "    <tr>\n",
       "      <th>2</th>\n",
       "      <td>+++hVY1rZox/33YtvDgmKA2Frg/2qhkz12B9ylCvh8o=</td>\n",
       "      <td>5</td>\n",
       "      <td>150</td>\n",
       "      <td>495</td>\n",
       "      <td>495</td>\n",
       "      <td>1</td>\n",
       "      <td>0</td>\n",
       "      <td>0</td>\n",
       "      <td>3.300000</td>\n",
       "    </tr>\n",
       "    <tr>\n",
       "      <th>3</th>\n",
       "      <td>+++l/EXNMLTijfLBa8p2TUVVVp2aFGSuUI/h7mLmthw=</td>\n",
       "      <td>21</td>\n",
       "      <td>603</td>\n",
       "      <td>2980</td>\n",
       "      <td>3129</td>\n",
       "      <td>1</td>\n",
       "      <td>0</td>\n",
       "      <td>-149</td>\n",
       "      <td>5.189055</td>\n",
       "    </tr>\n",
       "    <tr>\n",
       "      <th>4</th>\n",
       "      <td>+++snpr7pmobhLKUgSHTv/mpkqgBT0tQJ0zQj6qKrqc=</td>\n",
       "      <td>27</td>\n",
       "      <td>780</td>\n",
       "      <td>3874</td>\n",
       "      <td>4023</td>\n",
       "      <td>1</td>\n",
       "      <td>0</td>\n",
       "      <td>-149</td>\n",
       "      <td>5.157692</td>\n",
       "    </tr>\n",
       "  </tbody>\n",
       "</table>\n",
       "</div>"
      ],
      "text/plain": [
       "                                           msno  trans_count  \\\n",
       "0  +++FOrTS7ab3tIgIh8eWwX4FqRv8w/FoiOuyXsFvphY=            1   \n",
       "1  +++IZseRRiQS9aaSkH6cMYU6bGDcxUieAi/tH67sC5s=            2   \n",
       "2  +++hVY1rZox/33YtvDgmKA2Frg/2qhkz12B9ylCvh8o=            5   \n",
       "3  +++l/EXNMLTijfLBa8p2TUVVVp2aFGSuUI/h7mLmthw=           21   \n",
       "4  +++snpr7pmobhLKUgSHTv/mpkqgBT0tQJ0zQj6qKrqc=           27   \n",
       "\n",
       "   transaction_span  total_list_price  total_amount_paid  is_auto_renew  \\\n",
       "0                 7                 0                  0              0   \n",
       "1               805              3387               3387              0   \n",
       "2               150               495                495              1   \n",
       "3               603              2980               3129              1   \n",
       "4               780              3874               4023              1   \n",
       "\n",
       "   is_cancel_sum  difference_in_price_paid  amount_paid_perday  \n",
       "0              0                         0            0.000000  \n",
       "1              0                         0            4.207453  \n",
       "2              0                         0            3.300000  \n",
       "3              0                      -149            5.189055  \n",
       "4              0                      -149            5.157692  "
      ]
     },
     "execution_count": 410,
     "metadata": {},
     "output_type": "execute_result"
    }
   ],
   "source": [
    "# https://www.shanelynn.ie/summarising-aggregation-and-grouping-data-in-python-pandas/\n",
    "\n",
    "# grouping the data based on msno and performing aggregation to make it as a single record\n",
    "\n",
    "grouped = transactions.copy().groupby('msno')\n",
    "b = grouped.agg({'msno' :{'trans_count': 'count'},\n",
    "                       'payment_plan_days' :{'transaction_span': 'sum'},\n",
    "                       'plan_list_price' :{'total_list_price':'sum'},\n",
    "                       'actual_amount_paid' : {'total_amount_paid' : 'sum'},\n",
    "                       'is_auto_renew' :{'is_auto_renew': 'max'},\n",
    "                       'is_cancel' : {'is_cancel_sum': 'sum'}})\n",
    "\n",
    "b.columns = b.columns.droplevel(0)\n",
    "b.reset_index(inplace = True)\n",
    "\n",
    "# getting new features difference_in_price_paid and amount_paid_perday\n",
    "\n",
    "b['difference_in_price_paid'] = b['total_list_price'] - b['total_amount_paid']\n",
    "b['amount_paid_perday'] = b['total_amount_paid'] / b['transaction_span']\n",
    "b.head()"
   ]
  },
  {
   "cell_type": "code",
   "execution_count": 411,
   "metadata": {},
   "outputs": [
    {
     "data": {
      "text/html": [
       "<div>\n",
       "<style scoped>\n",
       "    .dataframe tbody tr th:only-of-type {\n",
       "        vertical-align: middle;\n",
       "    }\n",
       "\n",
       "    .dataframe tbody tr th {\n",
       "        vertical-align: top;\n",
       "    }\n",
       "\n",
       "    .dataframe thead th {\n",
       "        text-align: right;\n",
       "    }\n",
       "</style>\n",
       "<table border=\"1\" class=\"dataframe\">\n",
       "  <thead>\n",
       "    <tr style=\"text-align: right;\">\n",
       "      <th></th>\n",
       "      <th>msno</th>\n",
       "      <th>payment_method_id</th>\n",
       "      <th>payment_plan_days</th>\n",
       "      <th>plan_list_price</th>\n",
       "      <th>actual_amount_paid</th>\n",
       "      <th>transaction_date</th>\n",
       "      <th>is_cancel</th>\n",
       "    </tr>\n",
       "  </thead>\n",
       "  <tbody>\n",
       "    <tr>\n",
       "      <th>0</th>\n",
       "      <td>nlwI4rVeDrFDFjkHBXuMBBXAWvhTv9miDiEGdaMDiXs=</td>\n",
       "      <td>41</td>\n",
       "      <td>30</td>\n",
       "      <td>99</td>\n",
       "      <td>99</td>\n",
       "      <td>20170331</td>\n",
       "      <td>0</td>\n",
       "    </tr>\n",
       "    <tr>\n",
       "      <th>1</th>\n",
       "      <td>GOKnXKY9XXaf3PaL9seD4HENmWw3o5WFUKTKL2irFrA=</td>\n",
       "      <td>39</td>\n",
       "      <td>30</td>\n",
       "      <td>149</td>\n",
       "      <td>149</td>\n",
       "      <td>20170331</td>\n",
       "      <td>0</td>\n",
       "    </tr>\n",
       "    <tr>\n",
       "      <th>2</th>\n",
       "      <td>TJ6nxPb8NDfeKb8HpZz2HemVvZHZdS52OJdMYFCZHv4=</td>\n",
       "      <td>41</td>\n",
       "      <td>30</td>\n",
       "      <td>99</td>\n",
       "      <td>99</td>\n",
       "      <td>20170331</td>\n",
       "      <td>0</td>\n",
       "    </tr>\n",
       "    <tr>\n",
       "      <th>3</th>\n",
       "      <td>9NwzFDrPGKgEuLKrM7EXsqg+VtebHhJ5WJFDOWhY4bQ=</td>\n",
       "      <td>41</td>\n",
       "      <td>30</td>\n",
       "      <td>99</td>\n",
       "      <td>99</td>\n",
       "      <td>20170331</td>\n",
       "      <td>0</td>\n",
       "    </tr>\n",
       "    <tr>\n",
       "      <th>4</th>\n",
       "      <td>TM/4vR23dnG79lZCqimPzRLBCq6RlG3ibOqs1Wd9IgY=</td>\n",
       "      <td>34</td>\n",
       "      <td>30</td>\n",
       "      <td>149</td>\n",
       "      <td>149</td>\n",
       "      <td>20170331</td>\n",
       "      <td>0</td>\n",
       "    </tr>\n",
       "  </tbody>\n",
       "</table>\n",
       "</div>"
      ],
      "text/plain": [
       "                                           msno  payment_method_id  \\\n",
       "0  nlwI4rVeDrFDFjkHBXuMBBXAWvhTv9miDiEGdaMDiXs=                 41   \n",
       "1  GOKnXKY9XXaf3PaL9seD4HENmWw3o5WFUKTKL2irFrA=                 39   \n",
       "2  TJ6nxPb8NDfeKb8HpZz2HemVvZHZdS52OJdMYFCZHv4=                 41   \n",
       "3  9NwzFDrPGKgEuLKrM7EXsqg+VtebHhJ5WJFDOWhY4bQ=                 41   \n",
       "4  TM/4vR23dnG79lZCqimPzRLBCq6RlG3ibOqs1Wd9IgY=                 34   \n",
       "\n",
       "   payment_plan_days  plan_list_price  actual_amount_paid  transaction_date  \\\n",
       "0                 30               99                  99          20170331   \n",
       "1                 30              149                 149          20170331   \n",
       "2                 30               99                  99          20170331   \n",
       "3                 30               99                  99          20170331   \n",
       "4                 30              149                 149          20170331   \n",
       "\n",
       "   is_cancel  \n",
       "0          0  \n",
       "1          0  \n",
       "2          0  \n",
       "3          0  \n",
       "4          0  "
      ]
     },
     "execution_count": 411,
     "metadata": {},
     "output_type": "execute_result"
    }
   ],
   "source": [
    "# removing the duplicate records and is_auto_renew,membership_expire_date columns\n",
    "\n",
    "c = transactions.sort_values('transaction_date', ascending = False).reset_index(drop = True)\n",
    "c = c.drop_duplicates(subset = ['msno'], keep = 'first')\n",
    "c = c.drop(['is_auto_renew', 'membership_expire_date'], 1)\n",
    "c.head()"
   ]
  },
  {
   "cell_type": "code",
   "execution_count": 412,
   "metadata": {},
   "outputs": [
    {
     "data": {
      "text/html": [
       "<div>\n",
       "<style scoped>\n",
       "    .dataframe tbody tr th:only-of-type {\n",
       "        vertical-align: middle;\n",
       "    }\n",
       "\n",
       "    .dataframe tbody tr th {\n",
       "        vertical-align: top;\n",
       "    }\n",
       "\n",
       "    .dataframe thead th {\n",
       "        text-align: right;\n",
       "    }\n",
       "</style>\n",
       "<table border=\"1\" class=\"dataframe\">\n",
       "  <thead>\n",
       "    <tr style=\"text-align: right;\">\n",
       "      <th></th>\n",
       "      <th>msno</th>\n",
       "      <th>is_churn</th>\n",
       "      <th>city</th>\n",
       "      <th>registered_via</th>\n",
       "      <th>registration_init_time_year</th>\n",
       "      <th>registration_init_time_month</th>\n",
       "      <th>registration_init_time_day</th>\n",
       "      <th>payment_method_id</th>\n",
       "      <th>payment_plan_days</th>\n",
       "      <th>plan_list_price</th>\n",
       "      <th>...</th>\n",
       "      <th>transaction_date</th>\n",
       "      <th>is_cancel</th>\n",
       "      <th>trans_count</th>\n",
       "      <th>transaction_span</th>\n",
       "      <th>total_list_price</th>\n",
       "      <th>total_amount_paid</th>\n",
       "      <th>is_auto_renew</th>\n",
       "      <th>is_cancel_sum</th>\n",
       "      <th>difference_in_price_paid</th>\n",
       "      <th>amount_paid_perday</th>\n",
       "    </tr>\n",
       "  </thead>\n",
       "  <tbody>\n",
       "    <tr>\n",
       "      <th>0</th>\n",
       "      <td>ugx0CjOMzazClkFzU2xasmDZaoIqOUAZPsH1q0teWCg=</td>\n",
       "      <td>1</td>\n",
       "      <td>5.0</td>\n",
       "      <td>3.0</td>\n",
       "      <td>2013</td>\n",
       "      <td>12</td>\n",
       "      <td>23</td>\n",
       "      <td>38</td>\n",
       "      <td>30</td>\n",
       "      <td>149</td>\n",
       "      <td>...</td>\n",
       "      <td>20170228</td>\n",
       "      <td>0</td>\n",
       "      <td>6</td>\n",
       "      <td>60</td>\n",
       "      <td>298</td>\n",
       "      <td>894</td>\n",
       "      <td>1</td>\n",
       "      <td>1</td>\n",
       "      <td>-596</td>\n",
       "      <td>14.900000</td>\n",
       "    </tr>\n",
       "    <tr>\n",
       "      <th>1</th>\n",
       "      <td>f/NmvEzHfhINFEYZTR05prUdr+E+3+oewvweYz9cCQE=</td>\n",
       "      <td>1</td>\n",
       "      <td>13.0</td>\n",
       "      <td>3.0</td>\n",
       "      <td>2013</td>\n",
       "      <td>12</td>\n",
       "      <td>23</td>\n",
       "      <td>36</td>\n",
       "      <td>30</td>\n",
       "      <td>180</td>\n",
       "      <td>...</td>\n",
       "      <td>20170311</td>\n",
       "      <td>0</td>\n",
       "      <td>6</td>\n",
       "      <td>157</td>\n",
       "      <td>807</td>\n",
       "      <td>807</td>\n",
       "      <td>0</td>\n",
       "      <td>0</td>\n",
       "      <td>0</td>\n",
       "      <td>5.140127</td>\n",
       "    </tr>\n",
       "    <tr>\n",
       "      <th>2</th>\n",
       "      <td>zLo9f73nGGT1p21ltZC3ChiRnAVvgibMyazbCxvWPcg=</td>\n",
       "      <td>1</td>\n",
       "      <td>13.0</td>\n",
       "      <td>3.0</td>\n",
       "      <td>2013</td>\n",
       "      <td>12</td>\n",
       "      <td>27</td>\n",
       "      <td>15</td>\n",
       "      <td>90</td>\n",
       "      <td>300</td>\n",
       "      <td>...</td>\n",
       "      <td>20170314</td>\n",
       "      <td>0</td>\n",
       "      <td>20</td>\n",
       "      <td>690</td>\n",
       "      <td>2982</td>\n",
       "      <td>2982</td>\n",
       "      <td>0</td>\n",
       "      <td>0</td>\n",
       "      <td>0</td>\n",
       "      <td>4.321739</td>\n",
       "    </tr>\n",
       "    <tr>\n",
       "      <th>3</th>\n",
       "      <td>8iF/+8HY8lJKFrTc7iR9ZYGCG2Ecrogbc2Vy5YhsfhQ=</td>\n",
       "      <td>1</td>\n",
       "      <td>1.0</td>\n",
       "      <td>7.0</td>\n",
       "      <td>2014</td>\n",
       "      <td>1</td>\n",
       "      <td>9</td>\n",
       "      <td>41</td>\n",
       "      <td>30</td>\n",
       "      <td>149</td>\n",
       "      <td>...</td>\n",
       "      <td>20160225</td>\n",
       "      <td>1</td>\n",
       "      <td>29</td>\n",
       "      <td>787</td>\n",
       "      <td>3874</td>\n",
       "      <td>4172</td>\n",
       "      <td>1</td>\n",
       "      <td>3</td>\n",
       "      <td>-298</td>\n",
       "      <td>5.301144</td>\n",
       "    </tr>\n",
       "    <tr>\n",
       "      <th>4</th>\n",
       "      <td>K6fja4+jmoZ5xG6BypqX80Uw/XKpMgrEMdG2edFOxnA=</td>\n",
       "      <td>1</td>\n",
       "      <td>13.0</td>\n",
       "      <td>7.0</td>\n",
       "      <td>2014</td>\n",
       "      <td>1</td>\n",
       "      <td>25</td>\n",
       "      <td>41</td>\n",
       "      <td>30</td>\n",
       "      <td>99</td>\n",
       "      <td>...</td>\n",
       "      <td>20170316</td>\n",
       "      <td>0</td>\n",
       "      <td>32</td>\n",
       "      <td>870</td>\n",
       "      <td>3321</td>\n",
       "      <td>3748</td>\n",
       "      <td>1</td>\n",
       "      <td>3</td>\n",
       "      <td>-427</td>\n",
       "      <td>4.308046</td>\n",
       "    </tr>\n",
       "  </tbody>\n",
       "</table>\n",
       "<p>5 rows × 21 columns</p>\n",
       "</div>"
      ],
      "text/plain": [
       "                                           msno  is_churn  city  \\\n",
       "0  ugx0CjOMzazClkFzU2xasmDZaoIqOUAZPsH1q0teWCg=         1   5.0   \n",
       "1  f/NmvEzHfhINFEYZTR05prUdr+E+3+oewvweYz9cCQE=         1  13.0   \n",
       "2  zLo9f73nGGT1p21ltZC3ChiRnAVvgibMyazbCxvWPcg=         1  13.0   \n",
       "3  8iF/+8HY8lJKFrTc7iR9ZYGCG2Ecrogbc2Vy5YhsfhQ=         1   1.0   \n",
       "4  K6fja4+jmoZ5xG6BypqX80Uw/XKpMgrEMdG2edFOxnA=         1  13.0   \n",
       "\n",
       "   registered_via  registration_init_time_year  registration_init_time_month  \\\n",
       "0             3.0                         2013                            12   \n",
       "1             3.0                         2013                            12   \n",
       "2             3.0                         2013                            12   \n",
       "3             7.0                         2014                             1   \n",
       "4             7.0                         2014                             1   \n",
       "\n",
       "   registration_init_time_day  payment_method_id  payment_plan_days  \\\n",
       "0                          23                 38                 30   \n",
       "1                          23                 36                 30   \n",
       "2                          27                 15                 90   \n",
       "3                           9                 41                 30   \n",
       "4                          25                 41                 30   \n",
       "\n",
       "   plan_list_price         ...          transaction_date  is_cancel  \\\n",
       "0              149         ...                  20170228          0   \n",
       "1              180         ...                  20170311          0   \n",
       "2              300         ...                  20170314          0   \n",
       "3              149         ...                  20160225          1   \n",
       "4               99         ...                  20170316          0   \n",
       "\n",
       "   trans_count  transaction_span  total_list_price  total_amount_paid  \\\n",
       "0            6                60               298                894   \n",
       "1            6               157               807                807   \n",
       "2           20               690              2982               2982   \n",
       "3           29               787              3874               4172   \n",
       "4           32               870              3321               3748   \n",
       "\n",
       "   is_auto_renew  is_cancel_sum  difference_in_price_paid  amount_paid_perday  \n",
       "0              1              1                      -596           14.900000  \n",
       "1              0              0                         0            5.140127  \n",
       "2              0              0                         0            4.321739  \n",
       "3              1              3                      -298            5.301144  \n",
       "4              1              3                      -427            4.308046  \n",
       "\n",
       "[5 rows x 21 columns]"
      ]
     },
     "execution_count": 412,
     "metadata": {},
     "output_type": "execute_result"
    }
   ],
   "source": [
    "# merging the previous data frame into a single data frame\n",
    "\n",
    "d = pd.merge(a, c, on = 'msno', how = 'left')\n",
    "d = pd.merge(d, b, on = 'msno', how = 'left')\n",
    "d.head()"
   ]
  },
  {
   "cell_type": "code",
   "execution_count": 413,
   "metadata": {},
   "outputs": [
    {
     "data": {
      "text/html": [
       "<div>\n",
       "<style scoped>\n",
       "    .dataframe tbody tr th:only-of-type {\n",
       "        vertical-align: middle;\n",
       "    }\n",
       "\n",
       "    .dataframe tbody tr th {\n",
       "        vertical-align: top;\n",
       "    }\n",
       "\n",
       "    .dataframe thead th {\n",
       "        text-align: right;\n",
       "    }\n",
       "</style>\n",
       "<table border=\"1\" class=\"dataframe\">\n",
       "  <thead>\n",
       "    <tr style=\"text-align: right;\">\n",
       "      <th></th>\n",
       "      <th>msno</th>\n",
       "      <th>is_churn</th>\n",
       "      <th>city</th>\n",
       "      <th>registered_via</th>\n",
       "      <th>registration_init_time_year</th>\n",
       "      <th>registration_init_time_month</th>\n",
       "      <th>registration_init_time_day</th>\n",
       "      <th>payment_method_id</th>\n",
       "      <th>payment_plan_days</th>\n",
       "      <th>plan_list_price</th>\n",
       "      <th>...</th>\n",
       "      <th>transaction_span</th>\n",
       "      <th>total_list_price</th>\n",
       "      <th>total_amount_paid</th>\n",
       "      <th>is_auto_renew</th>\n",
       "      <th>is_cancel_sum</th>\n",
       "      <th>difference_in_price_paid</th>\n",
       "      <th>amount_paid_perday</th>\n",
       "      <th>transaction_date_year</th>\n",
       "      <th>transaction_date_month</th>\n",
       "      <th>transaction_date_day</th>\n",
       "    </tr>\n",
       "  </thead>\n",
       "  <tbody>\n",
       "    <tr>\n",
       "      <th>0</th>\n",
       "      <td>ugx0CjOMzazClkFzU2xasmDZaoIqOUAZPsH1q0teWCg=</td>\n",
       "      <td>1</td>\n",
       "      <td>5.0</td>\n",
       "      <td>3.0</td>\n",
       "      <td>2013</td>\n",
       "      <td>12</td>\n",
       "      <td>23</td>\n",
       "      <td>38</td>\n",
       "      <td>30</td>\n",
       "      <td>149</td>\n",
       "      <td>...</td>\n",
       "      <td>60</td>\n",
       "      <td>298</td>\n",
       "      <td>894</td>\n",
       "      <td>1</td>\n",
       "      <td>1</td>\n",
       "      <td>-596</td>\n",
       "      <td>14.900000</td>\n",
       "      <td>2017</td>\n",
       "      <td>2</td>\n",
       "      <td>28</td>\n",
       "    </tr>\n",
       "    <tr>\n",
       "      <th>1</th>\n",
       "      <td>f/NmvEzHfhINFEYZTR05prUdr+E+3+oewvweYz9cCQE=</td>\n",
       "      <td>1</td>\n",
       "      <td>13.0</td>\n",
       "      <td>3.0</td>\n",
       "      <td>2013</td>\n",
       "      <td>12</td>\n",
       "      <td>23</td>\n",
       "      <td>36</td>\n",
       "      <td>30</td>\n",
       "      <td>180</td>\n",
       "      <td>...</td>\n",
       "      <td>157</td>\n",
       "      <td>807</td>\n",
       "      <td>807</td>\n",
       "      <td>0</td>\n",
       "      <td>0</td>\n",
       "      <td>0</td>\n",
       "      <td>5.140127</td>\n",
       "      <td>2017</td>\n",
       "      <td>3</td>\n",
       "      <td>11</td>\n",
       "    </tr>\n",
       "    <tr>\n",
       "      <th>2</th>\n",
       "      <td>zLo9f73nGGT1p21ltZC3ChiRnAVvgibMyazbCxvWPcg=</td>\n",
       "      <td>1</td>\n",
       "      <td>13.0</td>\n",
       "      <td>3.0</td>\n",
       "      <td>2013</td>\n",
       "      <td>12</td>\n",
       "      <td>27</td>\n",
       "      <td>15</td>\n",
       "      <td>90</td>\n",
       "      <td>300</td>\n",
       "      <td>...</td>\n",
       "      <td>690</td>\n",
       "      <td>2982</td>\n",
       "      <td>2982</td>\n",
       "      <td>0</td>\n",
       "      <td>0</td>\n",
       "      <td>0</td>\n",
       "      <td>4.321739</td>\n",
       "      <td>2017</td>\n",
       "      <td>3</td>\n",
       "      <td>14</td>\n",
       "    </tr>\n",
       "    <tr>\n",
       "      <th>3</th>\n",
       "      <td>8iF/+8HY8lJKFrTc7iR9ZYGCG2Ecrogbc2Vy5YhsfhQ=</td>\n",
       "      <td>1</td>\n",
       "      <td>1.0</td>\n",
       "      <td>7.0</td>\n",
       "      <td>2014</td>\n",
       "      <td>1</td>\n",
       "      <td>9</td>\n",
       "      <td>41</td>\n",
       "      <td>30</td>\n",
       "      <td>149</td>\n",
       "      <td>...</td>\n",
       "      <td>787</td>\n",
       "      <td>3874</td>\n",
       "      <td>4172</td>\n",
       "      <td>1</td>\n",
       "      <td>3</td>\n",
       "      <td>-298</td>\n",
       "      <td>5.301144</td>\n",
       "      <td>2016</td>\n",
       "      <td>2</td>\n",
       "      <td>25</td>\n",
       "    </tr>\n",
       "    <tr>\n",
       "      <th>4</th>\n",
       "      <td>K6fja4+jmoZ5xG6BypqX80Uw/XKpMgrEMdG2edFOxnA=</td>\n",
       "      <td>1</td>\n",
       "      <td>13.0</td>\n",
       "      <td>7.0</td>\n",
       "      <td>2014</td>\n",
       "      <td>1</td>\n",
       "      <td>25</td>\n",
       "      <td>41</td>\n",
       "      <td>30</td>\n",
       "      <td>99</td>\n",
       "      <td>...</td>\n",
       "      <td>870</td>\n",
       "      <td>3321</td>\n",
       "      <td>3748</td>\n",
       "      <td>1</td>\n",
       "      <td>3</td>\n",
       "      <td>-427</td>\n",
       "      <td>4.308046</td>\n",
       "      <td>2017</td>\n",
       "      <td>3</td>\n",
       "      <td>16</td>\n",
       "    </tr>\n",
       "  </tbody>\n",
       "</table>\n",
       "<p>5 rows × 23 columns</p>\n",
       "</div>"
      ],
      "text/plain": [
       "                                           msno  is_churn  city  \\\n",
       "0  ugx0CjOMzazClkFzU2xasmDZaoIqOUAZPsH1q0teWCg=         1   5.0   \n",
       "1  f/NmvEzHfhINFEYZTR05prUdr+E+3+oewvweYz9cCQE=         1  13.0   \n",
       "2  zLo9f73nGGT1p21ltZC3ChiRnAVvgibMyazbCxvWPcg=         1  13.0   \n",
       "3  8iF/+8HY8lJKFrTc7iR9ZYGCG2Ecrogbc2Vy5YhsfhQ=         1   1.0   \n",
       "4  K6fja4+jmoZ5xG6BypqX80Uw/XKpMgrEMdG2edFOxnA=         1  13.0   \n",
       "\n",
       "   registered_via  registration_init_time_year  registration_init_time_month  \\\n",
       "0             3.0                         2013                            12   \n",
       "1             3.0                         2013                            12   \n",
       "2             3.0                         2013                            12   \n",
       "3             7.0                         2014                             1   \n",
       "4             7.0                         2014                             1   \n",
       "\n",
       "   registration_init_time_day  payment_method_id  payment_plan_days  \\\n",
       "0                          23                 38                 30   \n",
       "1                          23                 36                 30   \n",
       "2                          27                 15                 90   \n",
       "3                           9                 41                 30   \n",
       "4                          25                 41                 30   \n",
       "\n",
       "   plan_list_price          ...           transaction_span  total_list_price  \\\n",
       "0              149          ...                         60               298   \n",
       "1              180          ...                        157               807   \n",
       "2              300          ...                        690              2982   \n",
       "3              149          ...                        787              3874   \n",
       "4               99          ...                        870              3321   \n",
       "\n",
       "   total_amount_paid  is_auto_renew  is_cancel_sum  difference_in_price_paid  \\\n",
       "0                894              1              1                      -596   \n",
       "1                807              0              0                         0   \n",
       "2               2982              0              0                         0   \n",
       "3               4172              1              3                      -298   \n",
       "4               3748              1              3                      -427   \n",
       "\n",
       "   amount_paid_perday  transaction_date_year  transaction_date_month  \\\n",
       "0           14.900000                   2017                       2   \n",
       "1            5.140127                   2017                       3   \n",
       "2            4.321739                   2017                       3   \n",
       "3            5.301144                   2016                       2   \n",
       "4            4.308046                   2017                       3   \n",
       "\n",
       "   transaction_date_day  \n",
       "0                    28  \n",
       "1                    11  \n",
       "2                    14  \n",
       "3                    25  \n",
       "4                    16  \n",
       "\n",
       "[5 rows x 23 columns]"
      ]
     },
     "execution_count": 413,
     "metadata": {},
     "output_type": "execute_result"
    }
   ],
   "source": [
    "# splitting the date to year,month and day\n",
    "\n",
    "d['transaction_date'] = pd.to_datetime(d['transaction_date'], format = \"%Y%m%d\")\n",
    "d['transaction_date_year'] = d['transaction_date'].apply(lambda date : date.year)\n",
    "d['transaction_date_month'] = d['transaction_date'].apply(lambda date : date.month)\n",
    "d['transaction_date_day'] = d['transaction_date'].apply(lambda date : date.day)\n",
    "\n",
    "d = d.drop('transaction_date', 1)\n",
    "d.head()"
   ]
  },
  {
   "cell_type": "markdown",
   "metadata": {},
   "source": [
    "## User logs"
   ]
  },
  {
   "cell_type": "code",
   "execution_count": 414,
   "metadata": {},
   "outputs": [
    {
     "data": {
      "text/html": [
       "<div>\n",
       "<style scoped>\n",
       "    .dataframe tbody tr th:only-of-type {\n",
       "        vertical-align: middle;\n",
       "    }\n",
       "\n",
       "    .dataframe tbody tr th {\n",
       "        vertical-align: top;\n",
       "    }\n",
       "\n",
       "    .dataframe thead th {\n",
       "        text-align: right;\n",
       "    }\n",
       "</style>\n",
       "<table border=\"1\" class=\"dataframe\">\n",
       "  <thead>\n",
       "    <tr style=\"text-align: right;\">\n",
       "      <th></th>\n",
       "      <th>msno</th>\n",
       "      <th>date</th>\n",
       "      <th>num_25</th>\n",
       "      <th>num_50</th>\n",
       "      <th>num_75</th>\n",
       "      <th>num_985</th>\n",
       "      <th>num_100</th>\n",
       "      <th>num_unq</th>\n",
       "      <th>total_secs</th>\n",
       "    </tr>\n",
       "  </thead>\n",
       "  <tbody>\n",
       "    <tr>\n",
       "      <th>0</th>\n",
       "      <td>u9E91QDTvHLq6NXjEaWv8u4QIqhrHk72kE+w31Gnhdg=</td>\n",
       "      <td>20170331</td>\n",
       "      <td>8</td>\n",
       "      <td>4</td>\n",
       "      <td>0</td>\n",
       "      <td>1</td>\n",
       "      <td>21</td>\n",
       "      <td>18</td>\n",
       "      <td>6309.273</td>\n",
       "    </tr>\n",
       "    <tr>\n",
       "      <th>1</th>\n",
       "      <td>nTeWW/eOZA/UHKdD5L7DEqKKFTjaAj3ALLPoAWsU8n0=</td>\n",
       "      <td>20170330</td>\n",
       "      <td>2</td>\n",
       "      <td>2</td>\n",
       "      <td>1</td>\n",
       "      <td>0</td>\n",
       "      <td>9</td>\n",
       "      <td>11</td>\n",
       "      <td>2390.699</td>\n",
       "    </tr>\n",
       "    <tr>\n",
       "      <th>2</th>\n",
       "      <td>2UqkWXwZbIjs03dHLU9KHJNNEvEkZVzm69f3jCS+uLI=</td>\n",
       "      <td>20170331</td>\n",
       "      <td>52</td>\n",
       "      <td>3</td>\n",
       "      <td>5</td>\n",
       "      <td>3</td>\n",
       "      <td>84</td>\n",
       "      <td>110</td>\n",
       "      <td>23203.337</td>\n",
       "    </tr>\n",
       "    <tr>\n",
       "      <th>3</th>\n",
       "      <td>ycwLc+m2O0a85jSLALtr941AaZt9ai8Qwlg9n0Nql5U=</td>\n",
       "      <td>20170331</td>\n",
       "      <td>176</td>\n",
       "      <td>4</td>\n",
       "      <td>2</td>\n",
       "      <td>2</td>\n",
       "      <td>19</td>\n",
       "      <td>191</td>\n",
       "      <td>7100.454</td>\n",
       "    </tr>\n",
       "    <tr>\n",
       "      <th>4</th>\n",
       "      <td>EGcbTofOSOkMmQyN1NMLxHEXJ1yV3t/JdhGwQ9wXjnI=</td>\n",
       "      <td>20170331</td>\n",
       "      <td>2</td>\n",
       "      <td>1</td>\n",
       "      <td>0</td>\n",
       "      <td>1</td>\n",
       "      <td>112</td>\n",
       "      <td>93</td>\n",
       "      <td>28401.558</td>\n",
       "    </tr>\n",
       "  </tbody>\n",
       "</table>\n",
       "</div>"
      ],
      "text/plain": [
       "                                           msno      date  num_25  num_50  \\\n",
       "0  u9E91QDTvHLq6NXjEaWv8u4QIqhrHk72kE+w31Gnhdg=  20170331       8       4   \n",
       "1  nTeWW/eOZA/UHKdD5L7DEqKKFTjaAj3ALLPoAWsU8n0=  20170330       2       2   \n",
       "2  2UqkWXwZbIjs03dHLU9KHJNNEvEkZVzm69f3jCS+uLI=  20170331      52       3   \n",
       "3  ycwLc+m2O0a85jSLALtr941AaZt9ai8Qwlg9n0Nql5U=  20170331     176       4   \n",
       "4  EGcbTofOSOkMmQyN1NMLxHEXJ1yV3t/JdhGwQ9wXjnI=  20170331       2       1   \n",
       "\n",
       "   num_75  num_985  num_100  num_unq  total_secs  \n",
       "0       0        1       21       18    6309.273  \n",
       "1       1        0        9       11    2390.699  \n",
       "2       5        3       84      110   23203.337  \n",
       "3       2        2       19      191    7100.454  \n",
       "4       0        1      112       93   28401.558  "
      ]
     },
     "execution_count": 414,
     "metadata": {},
     "output_type": "execute_result"
    }
   ],
   "source": [
    "user_logs = pd.read_csv('user_logs_v2.csv')\n",
    "user_logs.head()"
   ]
  },
  {
   "cell_type": "code",
   "execution_count": 415,
   "metadata": {},
   "outputs": [
    {
     "data": {
      "text/html": [
       "<div>\n",
       "<style scoped>\n",
       "    .dataframe tbody tr th:only-of-type {\n",
       "        vertical-align: middle;\n",
       "    }\n",
       "\n",
       "    .dataframe tbody tr th {\n",
       "        vertical-align: top;\n",
       "    }\n",
       "\n",
       "    .dataframe thead th {\n",
       "        text-align: right;\n",
       "    }\n",
       "</style>\n",
       "<table border=\"1\" class=\"dataframe\">\n",
       "  <thead>\n",
       "    <tr style=\"text-align: right;\">\n",
       "      <th></th>\n",
       "      <th>msno</th>\n",
       "      <th>logs_count</th>\n",
       "      <th>num_25</th>\n",
       "      <th>num_50</th>\n",
       "      <th>num_75</th>\n",
       "      <th>num_985</th>\n",
       "      <th>num_100</th>\n",
       "      <th>num_unq</th>\n",
       "      <th>total_secs</th>\n",
       "    </tr>\n",
       "  </thead>\n",
       "  <tbody>\n",
       "    <tr>\n",
       "      <th>0</th>\n",
       "      <td>+++IZseRRiQS9aaSkH6cMYU6bGDcxUieAi/tH67sC5s=</td>\n",
       "      <td>26</td>\n",
       "      <td>86</td>\n",
       "      <td>11</td>\n",
       "      <td>10</td>\n",
       "      <td>5</td>\n",
       "      <td>472</td>\n",
       "      <td>530</td>\n",
       "      <td>117907.425</td>\n",
       "    </tr>\n",
       "    <tr>\n",
       "      <th>1</th>\n",
       "      <td>+++hVY1rZox/33YtvDgmKA2Frg/2qhkz12B9ylCvh8o=</td>\n",
       "      <td>31</td>\n",
       "      <td>191</td>\n",
       "      <td>90</td>\n",
       "      <td>75</td>\n",
       "      <td>144</td>\n",
       "      <td>589</td>\n",
       "      <td>885</td>\n",
       "      <td>192527.892</td>\n",
       "    </tr>\n",
       "    <tr>\n",
       "      <th>2</th>\n",
       "      <td>+++l/EXNMLTijfLBa8p2TUVVVp2aFGSuUI/h7mLmthw=</td>\n",
       "      <td>28</td>\n",
       "      <td>43</td>\n",
       "      <td>12</td>\n",
       "      <td>15</td>\n",
       "      <td>12</td>\n",
       "      <td>485</td>\n",
       "      <td>468</td>\n",
       "      <td>115411.260</td>\n",
       "    </tr>\n",
       "    <tr>\n",
       "      <th>3</th>\n",
       "      <td>+++snpr7pmobhLKUgSHTv/mpkqgBT0tQJ0zQj6qKrqc=</td>\n",
       "      <td>21</td>\n",
       "      <td>207</td>\n",
       "      <td>163</td>\n",
       "      <td>100</td>\n",
       "      <td>64</td>\n",
       "      <td>436</td>\n",
       "      <td>828</td>\n",
       "      <td>149896.558</td>\n",
       "    </tr>\n",
       "    <tr>\n",
       "      <th>4</th>\n",
       "      <td>++/9R3sX37CjxbY/AaGvbwr3QkwElKBCtSvVzhCBDOk=</td>\n",
       "      <td>29</td>\n",
       "      <td>105</td>\n",
       "      <td>24</td>\n",
       "      <td>39</td>\n",
       "      <td>35</td>\n",
       "      <td>479</td>\n",
       "      <td>230</td>\n",
       "      <td>116433.247</td>\n",
       "    </tr>\n",
       "  </tbody>\n",
       "</table>\n",
       "</div>"
      ],
      "text/plain": [
       "                                           msno  logs_count  num_25  num_50  \\\n",
       "0  +++IZseRRiQS9aaSkH6cMYU6bGDcxUieAi/tH67sC5s=          26      86      11   \n",
       "1  +++hVY1rZox/33YtvDgmKA2Frg/2qhkz12B9ylCvh8o=          31     191      90   \n",
       "2  +++l/EXNMLTijfLBa8p2TUVVVp2aFGSuUI/h7mLmthw=          28      43      12   \n",
       "3  +++snpr7pmobhLKUgSHTv/mpkqgBT0tQJ0zQj6qKrqc=          21     207     163   \n",
       "4  ++/9R3sX37CjxbY/AaGvbwr3QkwElKBCtSvVzhCBDOk=          29     105      24   \n",
       "\n",
       "   num_75  num_985  num_100  num_unq  total_secs  \n",
       "0      10        5      472      530  117907.425  \n",
       "1      75      144      589      885  192527.892  \n",
       "2      15       12      485      468  115411.260  \n",
       "3     100       64      436      828  149896.558  \n",
       "4      39       35      479      230  116433.247  "
      ]
     },
     "execution_count": 415,
     "metadata": {},
     "output_type": "execute_result"
    }
   ],
   "source": [
    "# grouping the data based on msno and performing aggregation to make it as a single record\n",
    "\n",
    "grouped = user_logs.copy().groupby('msno')\n",
    "e = grouped.agg({'msno' :{'logs_count': 'count'},\n",
    "                  'num_25' : {'num_25' : 'sum'},\n",
    "                  'num_50' : {'num_50' : 'sum'},\n",
    "                  'num_75' : {'num_75' : 'sum'},\n",
    "                  'num_985' : {'num_985' : 'sum'},\n",
    "                  'num_100' : {'num_100' : 'sum'},\n",
    "                  'num_unq' : {'num_unq' : 'sum'},\n",
    "                  'total_secs' : {'total_secs' : 'sum'},\n",
    "                       })\n",
    "\n",
    "e.columns = e.columns.droplevel(0)\n",
    "e.reset_index(inplace = True)\n",
    "e.head()"
   ]
  },
  {
   "cell_type": "code",
   "execution_count": 416,
   "metadata": {},
   "outputs": [
    {
     "data": {
      "text/html": [
       "<div>\n",
       "<style scoped>\n",
       "    .dataframe tbody tr th:only-of-type {\n",
       "        vertical-align: middle;\n",
       "    }\n",
       "\n",
       "    .dataframe tbody tr th {\n",
       "        vertical-align: top;\n",
       "    }\n",
       "\n",
       "    .dataframe thead th {\n",
       "        text-align: right;\n",
       "    }\n",
       "</style>\n",
       "<table border=\"1\" class=\"dataframe\">\n",
       "  <thead>\n",
       "    <tr style=\"text-align: right;\">\n",
       "      <th></th>\n",
       "      <th>msno</th>\n",
       "      <th>is_churn</th>\n",
       "      <th>city</th>\n",
       "      <th>registered_via</th>\n",
       "      <th>registration_init_time_year</th>\n",
       "      <th>registration_init_time_month</th>\n",
       "      <th>registration_init_time_day</th>\n",
       "      <th>payment_method_id</th>\n",
       "      <th>payment_plan_days</th>\n",
       "      <th>plan_list_price</th>\n",
       "      <th>...</th>\n",
       "      <th>transaction_date_month</th>\n",
       "      <th>transaction_date_day</th>\n",
       "      <th>logs_count</th>\n",
       "      <th>num_25</th>\n",
       "      <th>num_50</th>\n",
       "      <th>num_75</th>\n",
       "      <th>num_985</th>\n",
       "      <th>num_100</th>\n",
       "      <th>num_unq</th>\n",
       "      <th>total_secs</th>\n",
       "    </tr>\n",
       "  </thead>\n",
       "  <tbody>\n",
       "    <tr>\n",
       "      <th>0</th>\n",
       "      <td>ugx0CjOMzazClkFzU2xasmDZaoIqOUAZPsH1q0teWCg=</td>\n",
       "      <td>1</td>\n",
       "      <td>5.0</td>\n",
       "      <td>3.0</td>\n",
       "      <td>2013</td>\n",
       "      <td>12</td>\n",
       "      <td>23</td>\n",
       "      <td>38</td>\n",
       "      <td>30</td>\n",
       "      <td>149</td>\n",
       "      <td>...</td>\n",
       "      <td>2</td>\n",
       "      <td>28</td>\n",
       "      <td>11.0</td>\n",
       "      <td>186.0</td>\n",
       "      <td>23.0</td>\n",
       "      <td>13.0</td>\n",
       "      <td>10.0</td>\n",
       "      <td>318.0</td>\n",
       "      <td>348.0</td>\n",
       "      <td>80598.557</td>\n",
       "    </tr>\n",
       "    <tr>\n",
       "      <th>1</th>\n",
       "      <td>f/NmvEzHfhINFEYZTR05prUdr+E+3+oewvweYz9cCQE=</td>\n",
       "      <td>1</td>\n",
       "      <td>13.0</td>\n",
       "      <td>3.0</td>\n",
       "      <td>2013</td>\n",
       "      <td>12</td>\n",
       "      <td>23</td>\n",
       "      <td>36</td>\n",
       "      <td>30</td>\n",
       "      <td>180</td>\n",
       "      <td>...</td>\n",
       "      <td>3</td>\n",
       "      <td>11</td>\n",
       "      <td>6.0</td>\n",
       "      <td>0.0</td>\n",
       "      <td>4.0</td>\n",
       "      <td>2.0</td>\n",
       "      <td>0.0</td>\n",
       "      <td>26.0</td>\n",
       "      <td>30.0</td>\n",
       "      <td>6986.509</td>\n",
       "    </tr>\n",
       "    <tr>\n",
       "      <th>2</th>\n",
       "      <td>zLo9f73nGGT1p21ltZC3ChiRnAVvgibMyazbCxvWPcg=</td>\n",
       "      <td>1</td>\n",
       "      <td>13.0</td>\n",
       "      <td>3.0</td>\n",
       "      <td>2013</td>\n",
       "      <td>12</td>\n",
       "      <td>27</td>\n",
       "      <td>15</td>\n",
       "      <td>90</td>\n",
       "      <td>300</td>\n",
       "      <td>...</td>\n",
       "      <td>3</td>\n",
       "      <td>14</td>\n",
       "      <td>20.0</td>\n",
       "      <td>239.0</td>\n",
       "      <td>57.0</td>\n",
       "      <td>32.0</td>\n",
       "      <td>22.0</td>\n",
       "      <td>205.0</td>\n",
       "      <td>432.0</td>\n",
       "      <td>67810.467</td>\n",
       "    </tr>\n",
       "    <tr>\n",
       "      <th>3</th>\n",
       "      <td>8iF/+8HY8lJKFrTc7iR9ZYGCG2Ecrogbc2Vy5YhsfhQ=</td>\n",
       "      <td>1</td>\n",
       "      <td>1.0</td>\n",
       "      <td>7.0</td>\n",
       "      <td>2014</td>\n",
       "      <td>1</td>\n",
       "      <td>9</td>\n",
       "      <td>41</td>\n",
       "      <td>30</td>\n",
       "      <td>149</td>\n",
       "      <td>...</td>\n",
       "      <td>2</td>\n",
       "      <td>25</td>\n",
       "      <td>NaN</td>\n",
       "      <td>NaN</td>\n",
       "      <td>NaN</td>\n",
       "      <td>NaN</td>\n",
       "      <td>NaN</td>\n",
       "      <td>NaN</td>\n",
       "      <td>NaN</td>\n",
       "      <td>NaN</td>\n",
       "    </tr>\n",
       "    <tr>\n",
       "      <th>4</th>\n",
       "      <td>K6fja4+jmoZ5xG6BypqX80Uw/XKpMgrEMdG2edFOxnA=</td>\n",
       "      <td>1</td>\n",
       "      <td>13.0</td>\n",
       "      <td>7.0</td>\n",
       "      <td>2014</td>\n",
       "      <td>1</td>\n",
       "      <td>25</td>\n",
       "      <td>41</td>\n",
       "      <td>30</td>\n",
       "      <td>99</td>\n",
       "      <td>...</td>\n",
       "      <td>3</td>\n",
       "      <td>16</td>\n",
       "      <td>15.0</td>\n",
       "      <td>9.0</td>\n",
       "      <td>7.0</td>\n",
       "      <td>4.0</td>\n",
       "      <td>4.0</td>\n",
       "      <td>962.0</td>\n",
       "      <td>548.0</td>\n",
       "      <td>239882.241</td>\n",
       "    </tr>\n",
       "  </tbody>\n",
       "</table>\n",
       "<p>5 rows × 31 columns</p>\n",
       "</div>"
      ],
      "text/plain": [
       "                                           msno  is_churn  city  \\\n",
       "0  ugx0CjOMzazClkFzU2xasmDZaoIqOUAZPsH1q0teWCg=         1   5.0   \n",
       "1  f/NmvEzHfhINFEYZTR05prUdr+E+3+oewvweYz9cCQE=         1  13.0   \n",
       "2  zLo9f73nGGT1p21ltZC3ChiRnAVvgibMyazbCxvWPcg=         1  13.0   \n",
       "3  8iF/+8HY8lJKFrTc7iR9ZYGCG2Ecrogbc2Vy5YhsfhQ=         1   1.0   \n",
       "4  K6fja4+jmoZ5xG6BypqX80Uw/XKpMgrEMdG2edFOxnA=         1  13.0   \n",
       "\n",
       "   registered_via  registration_init_time_year  registration_init_time_month  \\\n",
       "0             3.0                         2013                            12   \n",
       "1             3.0                         2013                            12   \n",
       "2             3.0                         2013                            12   \n",
       "3             7.0                         2014                             1   \n",
       "4             7.0                         2014                             1   \n",
       "\n",
       "   registration_init_time_day  payment_method_id  payment_plan_days  \\\n",
       "0                          23                 38                 30   \n",
       "1                          23                 36                 30   \n",
       "2                          27                 15                 90   \n",
       "3                           9                 41                 30   \n",
       "4                          25                 41                 30   \n",
       "\n",
       "   plan_list_price     ...      transaction_date_month  transaction_date_day  \\\n",
       "0              149     ...                           2                    28   \n",
       "1              180     ...                           3                    11   \n",
       "2              300     ...                           3                    14   \n",
       "3              149     ...                           2                    25   \n",
       "4               99     ...                           3                    16   \n",
       "\n",
       "   logs_count  num_25  num_50  num_75  num_985  num_100  num_unq  total_secs  \n",
       "0        11.0   186.0    23.0    13.0     10.0    318.0    348.0   80598.557  \n",
       "1         6.0     0.0     4.0     2.0      0.0     26.0     30.0    6986.509  \n",
       "2        20.0   239.0    57.0    32.0     22.0    205.0    432.0   67810.467  \n",
       "3         NaN     NaN     NaN     NaN      NaN      NaN      NaN         NaN  \n",
       "4        15.0     9.0     7.0     4.0      4.0    962.0    548.0  239882.241  \n",
       "\n",
       "[5 rows x 31 columns]"
      ]
     },
     "execution_count": 416,
     "metadata": {},
     "output_type": "execute_result"
    }
   ],
   "source": [
    "# final df\n",
    "\n",
    "final = pd.merge(d, e, on = 'msno', how = 'left')\n",
    "final.head()"
   ]
  },
  {
   "cell_type": "code",
   "execution_count": 417,
   "metadata": {},
   "outputs": [],
   "source": [
    "# dropping all null records\n",
    "\n",
    "final = final.dropna(axis = 0, how = 'any')"
   ]
  },
  {
   "cell_type": "code",
   "execution_count": 418,
   "metadata": {},
   "outputs": [
    {
     "data": {
      "text/html": [
       "<div>\n",
       "<style scoped>\n",
       "    .dataframe tbody tr th:only-of-type {\n",
       "        vertical-align: middle;\n",
       "    }\n",
       "\n",
       "    .dataframe tbody tr th {\n",
       "        vertical-align: top;\n",
       "    }\n",
       "\n",
       "    .dataframe thead th {\n",
       "        text-align: right;\n",
       "    }\n",
       "</style>\n",
       "<table border=\"1\" class=\"dataframe\">\n",
       "  <thead>\n",
       "    <tr style=\"text-align: right;\">\n",
       "      <th></th>\n",
       "      <th>msno</th>\n",
       "      <th>is_churn</th>\n",
       "      <th>city</th>\n",
       "      <th>registered_via</th>\n",
       "      <th>registration_init_time_year</th>\n",
       "      <th>registration_init_time_month</th>\n",
       "      <th>registration_init_time_day</th>\n",
       "      <th>payment_method_id</th>\n",
       "      <th>payment_plan_days</th>\n",
       "      <th>plan_list_price</th>\n",
       "      <th>...</th>\n",
       "      <th>transaction_date_month</th>\n",
       "      <th>transaction_date_day</th>\n",
       "      <th>logs_count</th>\n",
       "      <th>num_25</th>\n",
       "      <th>num_50</th>\n",
       "      <th>num_75</th>\n",
       "      <th>num_985</th>\n",
       "      <th>num_100</th>\n",
       "      <th>num_unq</th>\n",
       "      <th>total_secs</th>\n",
       "    </tr>\n",
       "  </thead>\n",
       "  <tbody>\n",
       "    <tr>\n",
       "      <th>0</th>\n",
       "      <td>ugx0CjOMzazClkFzU2xasmDZaoIqOUAZPsH1q0teWCg=</td>\n",
       "      <td>1</td>\n",
       "      <td>5.0</td>\n",
       "      <td>3.0</td>\n",
       "      <td>2013</td>\n",
       "      <td>12</td>\n",
       "      <td>23</td>\n",
       "      <td>38</td>\n",
       "      <td>30</td>\n",
       "      <td>149</td>\n",
       "      <td>...</td>\n",
       "      <td>2</td>\n",
       "      <td>28</td>\n",
       "      <td>11.0</td>\n",
       "      <td>186.0</td>\n",
       "      <td>23.0</td>\n",
       "      <td>13.0</td>\n",
       "      <td>10.0</td>\n",
       "      <td>318.0</td>\n",
       "      <td>348.0</td>\n",
       "      <td>80598.557</td>\n",
       "    </tr>\n",
       "    <tr>\n",
       "      <th>1</th>\n",
       "      <td>f/NmvEzHfhINFEYZTR05prUdr+E+3+oewvweYz9cCQE=</td>\n",
       "      <td>1</td>\n",
       "      <td>13.0</td>\n",
       "      <td>3.0</td>\n",
       "      <td>2013</td>\n",
       "      <td>12</td>\n",
       "      <td>23</td>\n",
       "      <td>36</td>\n",
       "      <td>30</td>\n",
       "      <td>180</td>\n",
       "      <td>...</td>\n",
       "      <td>3</td>\n",
       "      <td>11</td>\n",
       "      <td>6.0</td>\n",
       "      <td>0.0</td>\n",
       "      <td>4.0</td>\n",
       "      <td>2.0</td>\n",
       "      <td>0.0</td>\n",
       "      <td>26.0</td>\n",
       "      <td>30.0</td>\n",
       "      <td>6986.509</td>\n",
       "    </tr>\n",
       "    <tr>\n",
       "      <th>2</th>\n",
       "      <td>zLo9f73nGGT1p21ltZC3ChiRnAVvgibMyazbCxvWPcg=</td>\n",
       "      <td>1</td>\n",
       "      <td>13.0</td>\n",
       "      <td>3.0</td>\n",
       "      <td>2013</td>\n",
       "      <td>12</td>\n",
       "      <td>27</td>\n",
       "      <td>15</td>\n",
       "      <td>90</td>\n",
       "      <td>300</td>\n",
       "      <td>...</td>\n",
       "      <td>3</td>\n",
       "      <td>14</td>\n",
       "      <td>20.0</td>\n",
       "      <td>239.0</td>\n",
       "      <td>57.0</td>\n",
       "      <td>32.0</td>\n",
       "      <td>22.0</td>\n",
       "      <td>205.0</td>\n",
       "      <td>432.0</td>\n",
       "      <td>67810.467</td>\n",
       "    </tr>\n",
       "    <tr>\n",
       "      <th>4</th>\n",
       "      <td>K6fja4+jmoZ5xG6BypqX80Uw/XKpMgrEMdG2edFOxnA=</td>\n",
       "      <td>1</td>\n",
       "      <td>13.0</td>\n",
       "      <td>7.0</td>\n",
       "      <td>2014</td>\n",
       "      <td>1</td>\n",
       "      <td>25</td>\n",
       "      <td>41</td>\n",
       "      <td>30</td>\n",
       "      <td>99</td>\n",
       "      <td>...</td>\n",
       "      <td>3</td>\n",
       "      <td>16</td>\n",
       "      <td>15.0</td>\n",
       "      <td>9.0</td>\n",
       "      <td>7.0</td>\n",
       "      <td>4.0</td>\n",
       "      <td>4.0</td>\n",
       "      <td>962.0</td>\n",
       "      <td>548.0</td>\n",
       "      <td>239882.241</td>\n",
       "    </tr>\n",
       "    <tr>\n",
       "      <th>5</th>\n",
       "      <td>ibIHVYBqxGwrSExE63/omeDD99M5vYB3CN2HzkEY+eM=</td>\n",
       "      <td>1</td>\n",
       "      <td>22.0</td>\n",
       "      <td>3.0</td>\n",
       "      <td>2014</td>\n",
       "      <td>1</td>\n",
       "      <td>26</td>\n",
       "      <td>40</td>\n",
       "      <td>30</td>\n",
       "      <td>149</td>\n",
       "      <td>...</td>\n",
       "      <td>3</td>\n",
       "      <td>16</td>\n",
       "      <td>4.0</td>\n",
       "      <td>6.0</td>\n",
       "      <td>1.0</td>\n",
       "      <td>1.0</td>\n",
       "      <td>4.0</td>\n",
       "      <td>37.0</td>\n",
       "      <td>48.0</td>\n",
       "      <td>10110.665</td>\n",
       "    </tr>\n",
       "  </tbody>\n",
       "</table>\n",
       "<p>5 rows × 31 columns</p>\n",
       "</div>"
      ],
      "text/plain": [
       "                                           msno  is_churn  city  \\\n",
       "0  ugx0CjOMzazClkFzU2xasmDZaoIqOUAZPsH1q0teWCg=         1   5.0   \n",
       "1  f/NmvEzHfhINFEYZTR05prUdr+E+3+oewvweYz9cCQE=         1  13.0   \n",
       "2  zLo9f73nGGT1p21ltZC3ChiRnAVvgibMyazbCxvWPcg=         1  13.0   \n",
       "4  K6fja4+jmoZ5xG6BypqX80Uw/XKpMgrEMdG2edFOxnA=         1  13.0   \n",
       "5  ibIHVYBqxGwrSExE63/omeDD99M5vYB3CN2HzkEY+eM=         1  22.0   \n",
       "\n",
       "   registered_via  registration_init_time_year  registration_init_time_month  \\\n",
       "0             3.0                         2013                            12   \n",
       "1             3.0                         2013                            12   \n",
       "2             3.0                         2013                            12   \n",
       "4             7.0                         2014                             1   \n",
       "5             3.0                         2014                             1   \n",
       "\n",
       "   registration_init_time_day  payment_method_id  payment_plan_days  \\\n",
       "0                          23                 38                 30   \n",
       "1                          23                 36                 30   \n",
       "2                          27                 15                 90   \n",
       "4                          25                 41                 30   \n",
       "5                          26                 40                 30   \n",
       "\n",
       "   plan_list_price     ...      transaction_date_month  transaction_date_day  \\\n",
       "0              149     ...                           2                    28   \n",
       "1              180     ...                           3                    11   \n",
       "2              300     ...                           3                    14   \n",
       "4               99     ...                           3                    16   \n",
       "5              149     ...                           3                    16   \n",
       "\n",
       "   logs_count  num_25  num_50  num_75  num_985  num_100  num_unq  total_secs  \n",
       "0        11.0   186.0    23.0    13.0     10.0    318.0    348.0   80598.557  \n",
       "1         6.0     0.0     4.0     2.0      0.0     26.0     30.0    6986.509  \n",
       "2        20.0   239.0    57.0    32.0     22.0    205.0    432.0   67810.467  \n",
       "4        15.0     9.0     7.0     4.0      4.0    962.0    548.0  239882.241  \n",
       "5         4.0     6.0     1.0     1.0      4.0     37.0     48.0   10110.665  \n",
       "\n",
       "[5 rows x 31 columns]"
      ]
     },
     "execution_count": 418,
     "metadata": {},
     "output_type": "execute_result"
    }
   ],
   "source": [
    "final.head()"
   ]
  },
  {
   "cell_type": "code",
   "execution_count": 419,
   "metadata": {},
   "outputs": [],
   "source": [
    "final.to_csv('final.csv',index=False) "
   ]
  },
  {
   "cell_type": "code",
   "execution_count": 2,
   "metadata": {},
   "outputs": [],
   "source": [
    "final=pd.read_csv('final.csv')"
   ]
  },
  {
   "cell_type": "code",
   "execution_count": 421,
   "metadata": {},
   "outputs": [
    {
     "data": {
      "text/plain": [
       "Index(['msno', 'is_churn', 'city', 'registered_via',\n",
       "       'registration_init_time_year', 'registration_init_time_month',\n",
       "       'registration_init_time_day', 'payment_method_id', 'payment_plan_days',\n",
       "       'plan_list_price', 'actual_amount_paid', 'is_cancel', 'trans_count',\n",
       "       'transaction_span', 'total_list_price', 'total_amount_paid',\n",
       "       'is_auto_renew', 'is_cancel_sum', 'difference_in_price_paid',\n",
       "       'amount_paid_perday', 'transaction_date_year', 'transaction_date_month',\n",
       "       'transaction_date_day', 'logs_count', 'num_25', 'num_50', 'num_75',\n",
       "       'num_985', 'num_100', 'num_unq', 'total_secs'],\n",
       "      dtype='object')"
      ]
     },
     "execution_count": 421,
     "metadata": {},
     "output_type": "execute_result"
    }
   ],
   "source": [
    "final.columns"
   ]
  },
  {
   "cell_type": "markdown",
   "metadata": {},
   "source": [
    "## Submission"
   ]
  },
  {
   "cell_type": "code",
   "execution_count": null,
   "metadata": {},
   "outputs": [],
   "source": [
    "# test data is prepared on the same way and nulls are filled with 0"
   ]
  },
  {
   "cell_type": "code",
   "execution_count": 26,
   "metadata": {},
   "outputs": [
    {
     "data": {
      "text/plain": [
       "(907471, 2)"
      ]
     },
     "execution_count": 26,
     "metadata": {},
     "output_type": "execute_result"
    }
   ],
   "source": [
    "test=pd.read_csv('sample_submission_v2.csv')\n",
    "test.shape"
   ]
  },
  {
   "cell_type": "code",
   "execution_count": 27,
   "metadata": {},
   "outputs": [],
   "source": [
    "a = pd.merge(test, members, on = 'msno', how = 'left')\n",
    "a = a.drop(['bd', 'gender'], axis = 1)"
   ]
  },
  {
   "cell_type": "code",
   "execution_count": 28,
   "metadata": {},
   "outputs": [],
   "source": [
    "a['registration_init_time'] = pd.to_datetime(a['registration_init_time'], format = \"%Y%m%d\")\n",
    "a['registration_init_time_year'] = a['registration_init_time'].apply(lambda date : date.year)\n",
    "a['registration_init_time_month'] = a['registration_init_time'].apply(lambda date : date.month)\n",
    "a['registration_init_time_day'] = a['registration_init_time'].apply(lambda date : date.day)"
   ]
  },
  {
   "cell_type": "code",
   "execution_count": 29,
   "metadata": {},
   "outputs": [
    {
     "data": {
      "text/plain": [
       "(907471, 7)"
      ]
     },
     "execution_count": 29,
     "metadata": {},
     "output_type": "execute_result"
    }
   ],
   "source": [
    "a = a.drop('registration_init_time', 1)\n",
    "a.shape"
   ]
  },
  {
   "cell_type": "code",
   "execution_count": 30,
   "metadata": {},
   "outputs": [
    {
     "data": {
      "text/plain": [
       "(907471, 21)"
      ]
     },
     "execution_count": 30,
     "metadata": {},
     "output_type": "execute_result"
    }
   ],
   "source": [
    "d = pd.merge(a, c, on = 'msno', how = 'left')\n",
    "d = pd.merge(d, b, on = 'msno', how = 'left')\n",
    "d.shape"
   ]
  },
  {
   "cell_type": "code",
   "execution_count": 31,
   "metadata": {},
   "outputs": [],
   "source": [
    "d['transaction_date'] = pd.to_datetime(d['transaction_date'], format = \"%Y%m%d\")\n",
    "d['transaction_date_year'] = d['transaction_date'].apply(lambda date : date.year)\n",
    "d['transaction_date_month'] = d['transaction_date'].apply(lambda date : date.month)\n",
    "d['transaction_date_day'] = d['transaction_date'].apply(lambda date : date.day)"
   ]
  },
  {
   "cell_type": "code",
   "execution_count": 32,
   "metadata": {},
   "outputs": [
    {
     "data": {
      "text/plain": [
       "(907471, 23)"
      ]
     },
     "execution_count": 32,
     "metadata": {},
     "output_type": "execute_result"
    }
   ],
   "source": [
    "d = d.drop('transaction_date', 1)\n",
    "d.shape"
   ]
  },
  {
   "cell_type": "code",
   "execution_count": 33,
   "metadata": {},
   "outputs": [
    {
     "data": {
      "text/html": [
       "<div>\n",
       "<style scoped>\n",
       "    .dataframe tbody tr th:only-of-type {\n",
       "        vertical-align: middle;\n",
       "    }\n",
       "\n",
       "    .dataframe tbody tr th {\n",
       "        vertical-align: top;\n",
       "    }\n",
       "\n",
       "    .dataframe thead th {\n",
       "        text-align: right;\n",
       "    }\n",
       "</style>\n",
       "<table border=\"1\" class=\"dataframe\">\n",
       "  <thead>\n",
       "    <tr style=\"text-align: right;\">\n",
       "      <th></th>\n",
       "      <th>msno</th>\n",
       "      <th>is_churn</th>\n",
       "      <th>city</th>\n",
       "      <th>registered_via</th>\n",
       "      <th>registration_init_time_year</th>\n",
       "      <th>registration_init_time_month</th>\n",
       "      <th>registration_init_time_day</th>\n",
       "      <th>payment_method_id</th>\n",
       "      <th>payment_plan_days</th>\n",
       "      <th>plan_list_price</th>\n",
       "      <th>...</th>\n",
       "      <th>transaction_date_day</th>\n",
       "      <th>logs_count</th>\n",
       "      <th>num_25</th>\n",
       "      <th>num_50</th>\n",
       "      <th>num_75</th>\n",
       "      <th>num_985</th>\n",
       "      <th>num_100</th>\n",
       "      <th>num_unq</th>\n",
       "      <th>total_secs</th>\n",
       "      <th>secs_per_song</th>\n",
       "    </tr>\n",
       "  </thead>\n",
       "  <tbody>\n",
       "    <tr>\n",
       "      <th>0</th>\n",
       "      <td>4n+fXlyJvfQnTeKXTWT507Ll4JVYGrOC8LHCfwBmPE4=</td>\n",
       "      <td>0</td>\n",
       "      <td>1.0</td>\n",
       "      <td>7.0</td>\n",
       "      <td>2015.0</td>\n",
       "      <td>7.0</td>\n",
       "      <td>18.0</td>\n",
       "      <td>41.0</td>\n",
       "      <td>30.0</td>\n",
       "      <td>99.0</td>\n",
       "      <td>...</td>\n",
       "      <td>18.0</td>\n",
       "      <td>NaN</td>\n",
       "      <td>NaN</td>\n",
       "      <td>NaN</td>\n",
       "      <td>NaN</td>\n",
       "      <td>NaN</td>\n",
       "      <td>NaN</td>\n",
       "      <td>NaN</td>\n",
       "      <td>NaN</td>\n",
       "      <td>NaN</td>\n",
       "    </tr>\n",
       "    <tr>\n",
       "      <th>1</th>\n",
       "      <td>aNmbC1GvFUxQyQUidCVmfbQ0YeCuwkPzEdQ0RwWyeZM=</td>\n",
       "      <td>0</td>\n",
       "      <td>4.0</td>\n",
       "      <td>9.0</td>\n",
       "      <td>2005.0</td>\n",
       "      <td>10.0</td>\n",
       "      <td>30.0</td>\n",
       "      <td>34.0</td>\n",
       "      <td>30.0</td>\n",
       "      <td>149.0</td>\n",
       "      <td>...</td>\n",
       "      <td>28.0</td>\n",
       "      <td>31.0</td>\n",
       "      <td>550.0</td>\n",
       "      <td>176.0</td>\n",
       "      <td>125.0</td>\n",
       "      <td>131.0</td>\n",
       "      <td>1701.0</td>\n",
       "      <td>2273.0</td>\n",
       "      <td>500802.64</td>\n",
       "      <td>186.657712</td>\n",
       "    </tr>\n",
       "    <tr>\n",
       "      <th>2</th>\n",
       "      <td>rFC9eSG/tMuzpre6cwcMLZHEYM89xY02qcz7HL4//jc=</td>\n",
       "      <td>0</td>\n",
       "      <td>4.0</td>\n",
       "      <td>7.0</td>\n",
       "      <td>2014.0</td>\n",
       "      <td>11.0</td>\n",
       "      <td>1.0</td>\n",
       "      <td>41.0</td>\n",
       "      <td>30.0</td>\n",
       "      <td>99.0</td>\n",
       "      <td>...</td>\n",
       "      <td>15.0</td>\n",
       "      <td>10.0</td>\n",
       "      <td>79.0</td>\n",
       "      <td>19.0</td>\n",
       "      <td>1.0</td>\n",
       "      <td>2.0</td>\n",
       "      <td>84.0</td>\n",
       "      <td>149.0</td>\n",
       "      <td>23814.27</td>\n",
       "      <td>128.725784</td>\n",
       "    </tr>\n",
       "    <tr>\n",
       "      <th>3</th>\n",
       "      <td>WZ59dLyrQcE7ft06MZ5dj40BnlYQY7PHgg/54+HaCSE=</td>\n",
       "      <td>0</td>\n",
       "      <td>NaN</td>\n",
       "      <td>NaN</td>\n",
       "      <td>NaN</td>\n",
       "      <td>NaN</td>\n",
       "      <td>NaN</td>\n",
       "      <td>41.0</td>\n",
       "      <td>30.0</td>\n",
       "      <td>99.0</td>\n",
       "      <td>...</td>\n",
       "      <td>27.0</td>\n",
       "      <td>NaN</td>\n",
       "      <td>NaN</td>\n",
       "      <td>NaN</td>\n",
       "      <td>NaN</td>\n",
       "      <td>NaN</td>\n",
       "      <td>NaN</td>\n",
       "      <td>NaN</td>\n",
       "      <td>NaN</td>\n",
       "      <td>NaN</td>\n",
       "    </tr>\n",
       "    <tr>\n",
       "      <th>4</th>\n",
       "      <td>aky/Iv8hMp1/V/yQHLtaVuEmmAxkB5GuasQZePJ7NU4=</td>\n",
       "      <td>0</td>\n",
       "      <td>1.0</td>\n",
       "      <td>13.0</td>\n",
       "      <td>2016.0</td>\n",
       "      <td>12.0</td>\n",
       "      <td>22.0</td>\n",
       "      <td>30.0</td>\n",
       "      <td>30.0</td>\n",
       "      <td>129.0</td>\n",
       "      <td>...</td>\n",
       "      <td>22.0</td>\n",
       "      <td>NaN</td>\n",
       "      <td>NaN</td>\n",
       "      <td>NaN</td>\n",
       "      <td>NaN</td>\n",
       "      <td>NaN</td>\n",
       "      <td>NaN</td>\n",
       "      <td>NaN</td>\n",
       "      <td>NaN</td>\n",
       "      <td>NaN</td>\n",
       "    </tr>\n",
       "  </tbody>\n",
       "</table>\n",
       "<p>5 rows × 32 columns</p>\n",
       "</div>"
      ],
      "text/plain": [
       "                                           msno  is_churn  city  \\\n",
       "0  4n+fXlyJvfQnTeKXTWT507Ll4JVYGrOC8LHCfwBmPE4=         0   1.0   \n",
       "1  aNmbC1GvFUxQyQUidCVmfbQ0YeCuwkPzEdQ0RwWyeZM=         0   4.0   \n",
       "2  rFC9eSG/tMuzpre6cwcMLZHEYM89xY02qcz7HL4//jc=         0   4.0   \n",
       "3  WZ59dLyrQcE7ft06MZ5dj40BnlYQY7PHgg/54+HaCSE=         0   NaN   \n",
       "4  aky/Iv8hMp1/V/yQHLtaVuEmmAxkB5GuasQZePJ7NU4=         0   1.0   \n",
       "\n",
       "   registered_via  registration_init_time_year  registration_init_time_month  \\\n",
       "0             7.0                       2015.0                           7.0   \n",
       "1             9.0                       2005.0                          10.0   \n",
       "2             7.0                       2014.0                          11.0   \n",
       "3             NaN                          NaN                           NaN   \n",
       "4            13.0                       2016.0                          12.0   \n",
       "\n",
       "   registration_init_time_day  payment_method_id  payment_plan_days  \\\n",
       "0                        18.0               41.0               30.0   \n",
       "1                        30.0               34.0               30.0   \n",
       "2                         1.0               41.0               30.0   \n",
       "3                         NaN               41.0               30.0   \n",
       "4                        22.0               30.0               30.0   \n",
       "\n",
       "   plan_list_price      ...        transaction_date_day  logs_count  num_25  \\\n",
       "0             99.0      ...                        18.0         NaN     NaN   \n",
       "1            149.0      ...                        28.0        31.0   550.0   \n",
       "2             99.0      ...                        15.0        10.0    79.0   \n",
       "3             99.0      ...                        27.0         NaN     NaN   \n",
       "4            129.0      ...                        22.0         NaN     NaN   \n",
       "\n",
       "   num_50  num_75  num_985  num_100  num_unq  total_secs  secs_per_song  \n",
       "0     NaN     NaN      NaN      NaN      NaN         NaN            NaN  \n",
       "1   176.0   125.0    131.0   1701.0   2273.0   500802.64     186.657712  \n",
       "2    19.0     1.0      2.0     84.0    149.0    23814.27     128.725784  \n",
       "3     NaN     NaN      NaN      NaN      NaN         NaN            NaN  \n",
       "4     NaN     NaN      NaN      NaN      NaN         NaN            NaN  \n",
       "\n",
       "[5 rows x 32 columns]"
      ]
     },
     "execution_count": 33,
     "metadata": {},
     "output_type": "execute_result"
    }
   ],
   "source": [
    "final_test = pd.merge(d, e, on = 'msno', how = 'left')\n",
    "final_test.head()"
   ]
  },
  {
   "cell_type": "code",
   "execution_count": 41,
   "metadata": {},
   "outputs": [],
   "source": [
    "final_test=final_test.fillna(0)"
   ]
  },
  {
   "cell_type": "code",
   "execution_count": 42,
   "metadata": {},
   "outputs": [],
   "source": [
    "final_test.to_csv('final_test.csv',index=False) "
   ]
  },
  {
   "cell_type": "code",
   "execution_count": 6,
   "metadata": {},
   "outputs": [],
   "source": [
    "final_test=pd.read_csv('final_test.csv')"
   ]
  },
  {
   "cell_type": "code",
   "execution_count": 423,
   "metadata": {},
   "outputs": [
    {
     "data": {
      "text/html": [
       "<div>\n",
       "<style scoped>\n",
       "    .dataframe tbody tr th:only-of-type {\n",
       "        vertical-align: middle;\n",
       "    }\n",
       "\n",
       "    .dataframe tbody tr th {\n",
       "        vertical-align: top;\n",
       "    }\n",
       "\n",
       "    .dataframe thead th {\n",
       "        text-align: right;\n",
       "    }\n",
       "</style>\n",
       "<table border=\"1\" class=\"dataframe\">\n",
       "  <thead>\n",
       "    <tr style=\"text-align: right;\">\n",
       "      <th></th>\n",
       "      <th>msno</th>\n",
       "      <th>is_churn</th>\n",
       "      <th>city</th>\n",
       "      <th>registered_via</th>\n",
       "      <th>registration_init_time_year</th>\n",
       "      <th>registration_init_time_month</th>\n",
       "      <th>registration_init_time_day</th>\n",
       "      <th>payment_method_id</th>\n",
       "      <th>payment_plan_days</th>\n",
       "      <th>plan_list_price</th>\n",
       "      <th>...</th>\n",
       "      <th>transaction_date_month</th>\n",
       "      <th>transaction_date_day</th>\n",
       "      <th>logs_count</th>\n",
       "      <th>num_25</th>\n",
       "      <th>num_50</th>\n",
       "      <th>num_75</th>\n",
       "      <th>num_985</th>\n",
       "      <th>num_100</th>\n",
       "      <th>num_unq</th>\n",
       "      <th>total_secs</th>\n",
       "    </tr>\n",
       "  </thead>\n",
       "  <tbody>\n",
       "    <tr>\n",
       "      <th>0</th>\n",
       "      <td>4n+fXlyJvfQnTeKXTWT507Ll4JVYGrOC8LHCfwBmPE4=</td>\n",
       "      <td>0</td>\n",
       "      <td>1.0</td>\n",
       "      <td>7.0</td>\n",
       "      <td>2015.0</td>\n",
       "      <td>7.0</td>\n",
       "      <td>18.0</td>\n",
       "      <td>41</td>\n",
       "      <td>30</td>\n",
       "      <td>99</td>\n",
       "      <td>...</td>\n",
       "      <td>3</td>\n",
       "      <td>18</td>\n",
       "      <td>0.0</td>\n",
       "      <td>0.0</td>\n",
       "      <td>0.0</td>\n",
       "      <td>0.0</td>\n",
       "      <td>0.0</td>\n",
       "      <td>0.0</td>\n",
       "      <td>0.0</td>\n",
       "      <td>0.00</td>\n",
       "    </tr>\n",
       "    <tr>\n",
       "      <th>1</th>\n",
       "      <td>aNmbC1GvFUxQyQUidCVmfbQ0YeCuwkPzEdQ0RwWyeZM=</td>\n",
       "      <td>0</td>\n",
       "      <td>4.0</td>\n",
       "      <td>9.0</td>\n",
       "      <td>2005.0</td>\n",
       "      <td>10.0</td>\n",
       "      <td>30.0</td>\n",
       "      <td>34</td>\n",
       "      <td>30</td>\n",
       "      <td>149</td>\n",
       "      <td>...</td>\n",
       "      <td>3</td>\n",
       "      <td>31</td>\n",
       "      <td>31.0</td>\n",
       "      <td>550.0</td>\n",
       "      <td>176.0</td>\n",
       "      <td>125.0</td>\n",
       "      <td>131.0</td>\n",
       "      <td>1701.0</td>\n",
       "      <td>2273.0</td>\n",
       "      <td>500802.64</td>\n",
       "    </tr>\n",
       "    <tr>\n",
       "      <th>2</th>\n",
       "      <td>rFC9eSG/tMuzpre6cwcMLZHEYM89xY02qcz7HL4//jc=</td>\n",
       "      <td>0</td>\n",
       "      <td>4.0</td>\n",
       "      <td>7.0</td>\n",
       "      <td>2014.0</td>\n",
       "      <td>11.0</td>\n",
       "      <td>1.0</td>\n",
       "      <td>41</td>\n",
       "      <td>30</td>\n",
       "      <td>99</td>\n",
       "      <td>...</td>\n",
       "      <td>3</td>\n",
       "      <td>15</td>\n",
       "      <td>10.0</td>\n",
       "      <td>79.0</td>\n",
       "      <td>19.0</td>\n",
       "      <td>1.0</td>\n",
       "      <td>2.0</td>\n",
       "      <td>84.0</td>\n",
       "      <td>149.0</td>\n",
       "      <td>23814.27</td>\n",
       "    </tr>\n",
       "    <tr>\n",
       "      <th>3</th>\n",
       "      <td>WZ59dLyrQcE7ft06MZ5dj40BnlYQY7PHgg/54+HaCSE=</td>\n",
       "      <td>0</td>\n",
       "      <td>0.0</td>\n",
       "      <td>0.0</td>\n",
       "      <td>0.0</td>\n",
       "      <td>0.0</td>\n",
       "      <td>0.0</td>\n",
       "      <td>41</td>\n",
       "      <td>30</td>\n",
       "      <td>99</td>\n",
       "      <td>...</td>\n",
       "      <td>3</td>\n",
       "      <td>27</td>\n",
       "      <td>0.0</td>\n",
       "      <td>0.0</td>\n",
       "      <td>0.0</td>\n",
       "      <td>0.0</td>\n",
       "      <td>0.0</td>\n",
       "      <td>0.0</td>\n",
       "      <td>0.0</td>\n",
       "      <td>0.00</td>\n",
       "    </tr>\n",
       "    <tr>\n",
       "      <th>4</th>\n",
       "      <td>aky/Iv8hMp1/V/yQHLtaVuEmmAxkB5GuasQZePJ7NU4=</td>\n",
       "      <td>0</td>\n",
       "      <td>1.0</td>\n",
       "      <td>13.0</td>\n",
       "      <td>2016.0</td>\n",
       "      <td>12.0</td>\n",
       "      <td>22.0</td>\n",
       "      <td>30</td>\n",
       "      <td>30</td>\n",
       "      <td>129</td>\n",
       "      <td>...</td>\n",
       "      <td>3</td>\n",
       "      <td>22</td>\n",
       "      <td>0.0</td>\n",
       "      <td>0.0</td>\n",
       "      <td>0.0</td>\n",
       "      <td>0.0</td>\n",
       "      <td>0.0</td>\n",
       "      <td>0.0</td>\n",
       "      <td>0.0</td>\n",
       "      <td>0.00</td>\n",
       "    </tr>\n",
       "  </tbody>\n",
       "</table>\n",
       "<p>5 rows × 31 columns</p>\n",
       "</div>"
      ],
      "text/plain": [
       "                                           msno  is_churn  city  \\\n",
       "0  4n+fXlyJvfQnTeKXTWT507Ll4JVYGrOC8LHCfwBmPE4=         0   1.0   \n",
       "1  aNmbC1GvFUxQyQUidCVmfbQ0YeCuwkPzEdQ0RwWyeZM=         0   4.0   \n",
       "2  rFC9eSG/tMuzpre6cwcMLZHEYM89xY02qcz7HL4//jc=         0   4.0   \n",
       "3  WZ59dLyrQcE7ft06MZ5dj40BnlYQY7PHgg/54+HaCSE=         0   0.0   \n",
       "4  aky/Iv8hMp1/V/yQHLtaVuEmmAxkB5GuasQZePJ7NU4=         0   1.0   \n",
       "\n",
       "   registered_via  registration_init_time_year  registration_init_time_month  \\\n",
       "0             7.0                       2015.0                           7.0   \n",
       "1             9.0                       2005.0                          10.0   \n",
       "2             7.0                       2014.0                          11.0   \n",
       "3             0.0                          0.0                           0.0   \n",
       "4            13.0                       2016.0                          12.0   \n",
       "\n",
       "   registration_init_time_day  payment_method_id  payment_plan_days  \\\n",
       "0                        18.0                 41                 30   \n",
       "1                        30.0                 34                 30   \n",
       "2                         1.0                 41                 30   \n",
       "3                         0.0                 41                 30   \n",
       "4                        22.0                 30                 30   \n",
       "\n",
       "   plan_list_price     ...      transaction_date_month  transaction_date_day  \\\n",
       "0               99     ...                           3                    18   \n",
       "1              149     ...                           3                    31   \n",
       "2               99     ...                           3                    15   \n",
       "3               99     ...                           3                    27   \n",
       "4              129     ...                           3                    22   \n",
       "\n",
       "   logs_count  num_25  num_50  num_75  num_985  num_100  num_unq  total_secs  \n",
       "0         0.0     0.0     0.0     0.0      0.0      0.0      0.0        0.00  \n",
       "1        31.0   550.0   176.0   125.0    131.0   1701.0   2273.0   500802.64  \n",
       "2        10.0    79.0    19.0     1.0      2.0     84.0    149.0    23814.27  \n",
       "3         0.0     0.0     0.0     0.0      0.0      0.0      0.0        0.00  \n",
       "4         0.0     0.0     0.0     0.0      0.0      0.0      0.0        0.00  \n",
       "\n",
       "[5 rows x 31 columns]"
      ]
     },
     "execution_count": 423,
     "metadata": {},
     "output_type": "execute_result"
    }
   ],
   "source": [
    "final_test.head()"
   ]
  },
  {
   "cell_type": "code",
   "execution_count": 155,
   "metadata": {},
   "outputs": [
    {
     "data": {
      "text/plain": [
       "Index(['city', 'registered_via', 'registration_init_time_year',\n",
       "       'registration_init_time_month', 'registration_init_time_day',\n",
       "       'payment_method_id', 'payment_plan_days', 'plan_list_price',\n",
       "       'actual_amount_paid', 'is_cancel', 'trans_count', 'transaction_span',\n",
       "       'total_list_price', 'total_amount_paid', 'is_auto_renew',\n",
       "       'is_cancel_sum', 'diff_in_price_paid', 'amt_per_day',\n",
       "       'transaction_date_year', 'transaction_date_month',\n",
       "       'transaction_date_day', 'logs_count', 'num_25', 'num_50', 'num_75',\n",
       "       'num_985', 'num_100', 'num_unq', 'total_secs', 'secs_per_song'],\n",
       "      dtype='object')"
      ]
     },
     "execution_count": 155,
     "metadata": {},
     "output_type": "execute_result"
    }
   ],
   "source": [
    "final_test.columns"
   ]
  },
  {
   "cell_type": "code",
   "execution_count": 424,
   "metadata": {},
   "outputs": [
    {
     "data": {
      "text/plain": [
       "(907471, 31)"
      ]
     },
     "execution_count": 424,
     "metadata": {},
     "output_type": "execute_result"
    }
   ],
   "source": [
    "final_test.shape"
   ]
  },
  {
   "cell_type": "code",
   "execution_count": 425,
   "metadata": {},
   "outputs": [
    {
     "data": {
      "text/plain": [
       "(754532, 31)"
      ]
     },
     "execution_count": 425,
     "metadata": {},
     "output_type": "execute_result"
    }
   ],
   "source": [
    "final.shape"
   ]
  },
  {
   "cell_type": "markdown",
   "metadata": {},
   "source": [
    "### Categorical Features :\n",
    "\n",
    "    city\n",
    "\n",
    "    registered_via  \n",
    "\n",
    "    registration_init_time_year \n",
    "\n",
    "    registration_init_time_month  \n",
    "    \n",
    "    registration_init_time_day  \n",
    "\n",
    "    payment_method_id      \n",
    "\n",
    "    payment_plan_days  \n",
    "\n",
    "    is_cancel        \n",
    "\n",
    "    is_auto_renew   \n",
    "\n",
    "    transaction_date_year \n",
    "\n",
    "    transaction_date_month\n",
    "\n",
    "    transaction_date_day \n",
    "    \n",
    "### Numerical features :\n",
    "    plan_list_price                 \n",
    "    \n",
    "    actual_amount_paid              \n",
    "    \n",
    "    trans_count                     \n",
    "    \n",
    "    transaction_span                \n",
    "    \n",
    "    total_list_price                \n",
    "    \n",
    "    total_amount_paid               \n",
    "    \n",
    "    is_cancel_sum                   \n",
    "    \n",
    "    difference_in_price_paid\n",
    "    \n",
    "    amount_paid_perday\n",
    "    \n",
    "    logs_count                      \n",
    "    \n",
    "    num_25                          \n",
    "    \n",
    "    num_50                          \n",
    "    \n",
    "    num_75                          \n",
    "    \n",
    "    num_985                         \n",
    "    \n",
    "    num_100                         \n",
    "    \n",
    "    num_unq                         \n",
    "    \n",
    "    total_secs                      \n",
    "    \n",
    "    "
   ]
  },
  {
   "cell_type": "markdown",
   "metadata": {},
   "source": [
    "## Test Train Split"
   ]
  },
  {
   "cell_type": "code",
   "execution_count": 3,
   "metadata": {},
   "outputs": [],
   "source": [
    "Y_train = final['is_churn'].values\n",
    "final.drop(['is_churn','msno'], axis=1, inplace=True)"
   ]
  },
  {
   "cell_type": "code",
   "execution_count": 4,
   "metadata": {},
   "outputs": [
    {
     "data": {
      "text/html": [
       "<div>\n",
       "<style scoped>\n",
       "    .dataframe tbody tr th:only-of-type {\n",
       "        vertical-align: middle;\n",
       "    }\n",
       "\n",
       "    .dataframe tbody tr th {\n",
       "        vertical-align: top;\n",
       "    }\n",
       "\n",
       "    .dataframe thead th {\n",
       "        text-align: right;\n",
       "    }\n",
       "</style>\n",
       "<table border=\"1\" class=\"dataframe\">\n",
       "  <thead>\n",
       "    <tr style=\"text-align: right;\">\n",
       "      <th></th>\n",
       "      <th>city</th>\n",
       "      <th>registered_via</th>\n",
       "      <th>registration_init_time_year</th>\n",
       "      <th>registration_init_time_month</th>\n",
       "      <th>registration_init_time_day</th>\n",
       "      <th>payment_method_id</th>\n",
       "      <th>payment_plan_days</th>\n",
       "      <th>plan_list_price</th>\n",
       "      <th>actual_amount_paid</th>\n",
       "      <th>is_cancel</th>\n",
       "      <th>...</th>\n",
       "      <th>transaction_date_month</th>\n",
       "      <th>transaction_date_day</th>\n",
       "      <th>logs_count</th>\n",
       "      <th>num_25</th>\n",
       "      <th>num_50</th>\n",
       "      <th>num_75</th>\n",
       "      <th>num_985</th>\n",
       "      <th>num_100</th>\n",
       "      <th>num_unq</th>\n",
       "      <th>total_secs</th>\n",
       "    </tr>\n",
       "  </thead>\n",
       "  <tbody>\n",
       "    <tr>\n",
       "      <th>0</th>\n",
       "      <td>5.0</td>\n",
       "      <td>3.0</td>\n",
       "      <td>2013</td>\n",
       "      <td>12</td>\n",
       "      <td>23</td>\n",
       "      <td>38</td>\n",
       "      <td>30</td>\n",
       "      <td>149</td>\n",
       "      <td>149</td>\n",
       "      <td>0</td>\n",
       "      <td>...</td>\n",
       "      <td>2</td>\n",
       "      <td>28</td>\n",
       "      <td>11.0</td>\n",
       "      <td>186.0</td>\n",
       "      <td>23.0</td>\n",
       "      <td>13.0</td>\n",
       "      <td>10.0</td>\n",
       "      <td>318.0</td>\n",
       "      <td>348.0</td>\n",
       "      <td>80598.557</td>\n",
       "    </tr>\n",
       "  </tbody>\n",
       "</table>\n",
       "<p>1 rows × 29 columns</p>\n",
       "</div>"
      ],
      "text/plain": [
       "   city  registered_via  registration_init_time_year  \\\n",
       "0   5.0             3.0                         2013   \n",
       "\n",
       "   registration_init_time_month  registration_init_time_day  \\\n",
       "0                            12                          23   \n",
       "\n",
       "   payment_method_id  payment_plan_days  plan_list_price  actual_amount_paid  \\\n",
       "0                 38                 30              149                 149   \n",
       "\n",
       "   is_cancel     ...      transaction_date_month  transaction_date_day  \\\n",
       "0          0     ...                           2                    28   \n",
       "\n",
       "   logs_count  num_25  num_50  num_75  num_985  num_100  num_unq  total_secs  \n",
       "0        11.0   186.0    23.0    13.0     10.0    318.0    348.0   80598.557  \n",
       "\n",
       "[1 rows x 29 columns]"
      ]
     },
     "execution_count": 4,
     "metadata": {},
     "output_type": "execute_result"
    }
   ],
   "source": [
    "X_train = final\n",
    "X_train.head(1)"
   ]
  },
  {
   "cell_type": "code",
   "execution_count": 7,
   "metadata": {},
   "outputs": [],
   "source": [
    "# train test split\n",
    "from sklearn.model_selection import train_test_split\n",
    "X_train, X_test, Y_train, Y_test = train_test_split(X_train, Y_train, test_size=0.2, stratify=Y_train)\n",
    "X_train, X_cv, Y_train, Y_cv = train_test_split(X_train, Y_train, test_size=0.2, stratify=Y_train)"
   ]
  },
  {
   "cell_type": "code",
   "execution_count": 8,
   "metadata": {},
   "outputs": [
    {
     "name": "stdout",
     "output_type": "stream",
     "text": [
      "(482900, 29) (482900,)\n",
      "(150907, 29) (150907,)\n",
      "(120725, 29) (120725,)\n"
     ]
    }
   ],
   "source": [
    "print(X_train.shape, Y_train.shape)\n",
    "print(X_test.shape, Y_test.shape)\n",
    "print(X_cv.shape, Y_cv.shape)"
   ]
  },
  {
   "cell_type": "markdown",
   "metadata": {},
   "source": [
    "## One Hot Encoding for Categorical features"
   ]
  },
  {
   "cell_type": "markdown",
   "metadata": {},
   "source": [
    "### city"
   ]
  },
  {
   "cell_type": "code",
   "execution_count": 18,
   "metadata": {},
   "outputs": [],
   "source": [
    "my_counter = Counter()\n",
    "for city in final['city'].values.astype(\"U\"):\n",
    "    my_counter.update(city.split())"
   ]
  },
  {
   "cell_type": "code",
   "execution_count": 19,
   "metadata": {},
   "outputs": [],
   "source": [
    "city_cat_dict = dict(my_counter)\n",
    "sorted_city_cat_dict = dict(sorted(city_cat_dict.items(), key=lambda kv: kv[1]))"
   ]
  },
  {
   "cell_type": "code",
   "execution_count": 20,
   "metadata": {},
   "outputs": [
    {
     "name": "stdout",
     "output_type": "stream",
     "text": [
      "(482900, 29) (482900,)\n",
      "(150907, 29) (150907,)\n",
      "(120725, 29) (120725,)\n",
      "====================================================================================================\n",
      "After vectorizations\n",
      "====================================================================================================\n",
      "Shape of Train data - one hot encoding (482900, 21)\n",
      "Shape of Test data - one hot encoding  (150907, 21)\n",
      "Shape of Cv data - one hot encoding  (120725, 21)\n",
      "====================================================================================================\n",
      "['19.0', '20.0', '16.0', '7.0', '3.0', '21.0', '17.0', '10.0', '8.0', '18.0', '11.0', '9.0', '12.0', '14.0', '6.0', '22.0', '15.0', '4.0', '5.0', '13.0', '1.0']\n"
     ]
    }
   ],
   "source": [
    "vectorizer_city_cat = CountVectorizer(vocabulary=list(sorted_city_cat_dict.keys()), lowercase=False, binary=True)\n",
    "vectorizer_city_cat.fit(X_train['city'].values.astype(\"U\"))\n",
    "\n",
    "print(X_train.shape, Y_train.shape)\n",
    "print(X_test.shape, Y_test.shape)\n",
    "print(X_cv.shape, Y_cv.shape)\n",
    "\n",
    "print(\"=\"*100)\n",
    "\n",
    "city_cat_one_hot_train = vectorizer_city_cat.fit_transform(X_train['city'].values.astype(\"U\"))\n",
    "city_cat_one_hot_test = vectorizer_city_cat.transform(X_test['city'].values.astype(\"U\"))\n",
    "city_cat_one_hot_cv = vectorizer_city_cat.transform(X_cv['city'].values.astype(\"U\"))\n",
    "\n",
    "\n",
    "print(\"After vectorizations\")\n",
    "print(\"=\"*100)\n",
    "\n",
    "print(\"Shape of Train data - one hot encoding\",city_cat_one_hot_train.shape)\n",
    "print(\"Shape of Test data - one hot encoding \",city_cat_one_hot_test.shape)\n",
    "print(\"Shape of Cv data - one hot encoding \",city_cat_one_hot_cv.shape)\n",
    "\n",
    "print(\"=\"*100)\n",
    "\n",
    "print(vectorizer_city_cat.get_feature_names())"
   ]
  },
  {
   "cell_type": "markdown",
   "metadata": {},
   "source": [
    "### registered_via "
   ]
  },
  {
   "cell_type": "code",
   "execution_count": 21,
   "metadata": {},
   "outputs": [],
   "source": [
    "my_counter = Counter()\n",
    "for registered_via in final['registered_via'].values.astype(\"U\"):\n",
    "    my_counter.update(registered_via.split())"
   ]
  },
  {
   "cell_type": "code",
   "execution_count": 22,
   "metadata": {},
   "outputs": [],
   "source": [
    "registered_via_cat_dict = dict(my_counter)\n",
    "sorted_registered_via_cat_dict = dict(sorted(registered_via_cat_dict.items(), key=lambda kv: kv[1]))"
   ]
  },
  {
   "cell_type": "code",
   "execution_count": 23,
   "metadata": {},
   "outputs": [
    {
     "name": "stdout",
     "output_type": "stream",
     "text": [
      "(482900, 29) (482900,)\n",
      "(150907, 29) (150907,)\n",
      "(120725, 29) (120725,)\n",
      "====================================================================================================\n",
      "After vectorizations\n",
      "====================================================================================================\n",
      "Shape of Train data - one hot encoding (482900, 5)\n",
      "Shape of Test data - one hot encoding  (150907, 5)\n",
      "Shape of Cv data - one hot encoding  (120725, 5)\n",
      "====================================================================================================\n",
      "['13.0', '4.0', '3.0', '9.0', '7.0']\n"
     ]
    }
   ],
   "source": [
    "vectorizer_registered_via_cat = CountVectorizer(vocabulary=list(sorted_registered_via_cat_dict.keys()), lowercase=False, binary=True)\n",
    "vectorizer_registered_via_cat.fit(X_train['registered_via'].values.astype(\"U\"))\n",
    "\n",
    "print(X_train.shape, Y_train.shape)\n",
    "print(X_test.shape, Y_test.shape)\n",
    "print(X_cv.shape, Y_cv.shape)\n",
    "\n",
    "print(\"=\"*100)\n",
    "\n",
    "registered_via_cat_one_hot_train = vectorizer_registered_via_cat.fit_transform(X_train['registered_via'].values.astype(\"U\"))\n",
    "registered_via_cat_one_hot_test = vectorizer_registered_via_cat.transform(X_test['registered_via'].values.astype(\"U\"))\n",
    "registered_via_cat_one_hot_cv = vectorizer_registered_via_cat.transform(X_cv['registered_via'].values.astype(\"U\"))\n",
    "\n",
    "print(\"After vectorizations\")\n",
    "print(\"=\"*100)\n",
    "\n",
    "print(\"Shape of Train data - one hot encoding\",registered_via_cat_one_hot_train.shape)\n",
    "print(\"Shape of Test data - one hot encoding \",registered_via_cat_one_hot_test.shape)\n",
    "print(\"Shape of Cv data - one hot encoding \",registered_via_cat_one_hot_cv.shape)\n",
    "\n",
    "print(\"=\"*100)\n",
    "\n",
    "print(vectorizer_registered_via_cat.get_feature_names())"
   ]
  },
  {
   "cell_type": "markdown",
   "metadata": {},
   "source": [
    "### registration_init_time_year"
   ]
  },
  {
   "cell_type": "code",
   "execution_count": 24,
   "metadata": {},
   "outputs": [],
   "source": [
    "my_counter = Counter()\n",
    "for registration_init_time_year in final['registration_init_time_year'].values.astype(\"U\"):\n",
    "    my_counter.update(registration_init_time_year.split())"
   ]
  },
  {
   "cell_type": "code",
   "execution_count": 25,
   "metadata": {},
   "outputs": [],
   "source": [
    "registration_init_time_year_cat_dict = dict(my_counter)\n",
    "sorted_registration_init_time_year_cat_dict = dict(sorted(registration_init_time_year_cat_dict.items(), key=lambda kv: kv[1]))"
   ]
  },
  {
   "cell_type": "code",
   "execution_count": 26,
   "metadata": {},
   "outputs": [
    {
     "name": "stdout",
     "output_type": "stream",
     "text": [
      "(482900, 29) (482900,)\n",
      "(150907, 29) (150907,)\n",
      "(120725, 29) (120725,)\n",
      "====================================================================================================\n",
      "After vectorizations\n",
      "====================================================================================================\n",
      "Shape of Train data - one hot encoding (482900, 14)\n",
      "Shape of Test data - one hot encoding  (150907, 14)\n",
      "Shape of Cv data - one hot encoding  (120725, 14)\n",
      "====================================================================================================\n",
      "['2004', '2005', '2009', '2008', '2006', '2007', '2017', '2010', '2011', '2012', '2014', '2013', '2015', '2016']\n"
     ]
    }
   ],
   "source": [
    "vectorizer_registration_init_time_year_cat = CountVectorizer(vocabulary=list(sorted_registration_init_time_year_cat_dict.keys()), lowercase=False, binary=True)\n",
    "vectorizer_registration_init_time_year_cat.fit(X_train['registration_init_time_year'].values.astype(\"U\"))\n",
    "\n",
    "print(X_train.shape, Y_train.shape)\n",
    "print(X_test.shape, Y_test.shape)\n",
    "print(X_cv.shape, Y_cv.shape)\n",
    "\n",
    "print(\"=\"*100)\n",
    "\n",
    "registration_init_time_year_cat_one_hot_train = vectorizer_registration_init_time_year_cat.fit_transform(X_train['registration_init_time_year'].values.astype(\"U\"))\n",
    "registration_init_time_year_cat_one_hot_test = vectorizer_registration_init_time_year_cat.transform(X_test['registration_init_time_year'].values.astype(\"U\"))\n",
    "registration_init_time_year_cat_one_hot_cv = vectorizer_registration_init_time_year_cat.transform(X_cv['registration_init_time_year'].values.astype(\"U\"))\n",
    "\n",
    "print(\"After vectorizations\")\n",
    "print(\"=\"*100)\n",
    "\n",
    "print(\"Shape of Train data - one hot encoding\",registration_init_time_year_cat_one_hot_train.shape)\n",
    "print(\"Shape of Test data - one hot encoding \",registration_init_time_year_cat_one_hot_test.shape)\n",
    "print(\"Shape of Cv data - one hot encoding \",registration_init_time_year_cat_one_hot_cv.shape)\n",
    "\n",
    "print(\"=\"*100)\n",
    "\n",
    "print(vectorizer_registration_init_time_year_cat.get_feature_names())"
   ]
  },
  {
   "cell_type": "markdown",
   "metadata": {},
   "source": [
    "### registration_init_time_month"
   ]
  },
  {
   "cell_type": "code",
   "execution_count": 27,
   "metadata": {},
   "outputs": [],
   "source": [
    "my_counter = Counter()\n",
    "for registration_init_time_month in final['registration_init_time_month'].values.astype(\"U\"):\n",
    "    my_counter.update(registration_init_time_month.split())"
   ]
  },
  {
   "cell_type": "code",
   "execution_count": 28,
   "metadata": {},
   "outputs": [],
   "source": [
    "registration_init_time_month_cat_dict = dict(my_counter)\n",
    "sorted_registration_init_time_month_cat_dict = dict(sorted(registration_init_time_month_cat_dict.items(), key=lambda kv: kv[1]))"
   ]
  },
  {
   "cell_type": "code",
   "execution_count": 29,
   "metadata": {},
   "outputs": [
    {
     "name": "stdout",
     "output_type": "stream",
     "text": [
      "(482900, 29) (482900,)\n",
      "(150907, 29) (150907,)\n",
      "(120725, 29) (120725,)\n",
      "====================================================================================================\n",
      "After vectorizations\n",
      "====================================================================================================\n",
      "Shape of Train data - one hot encoding (482900, 12)\n",
      "Shape of Test data - one hot encoding  (150907, 12)\n",
      "Shape of Cv data - one hot encoding  (120725, 12)\n",
      "====================================================================================================\n",
      "['4', '5', '6', '3', '9', '7', '8', '11', '10', '12', '2', '1']\n"
     ]
    }
   ],
   "source": [
    "vectorizer_registration_init_time_month_cat = CountVectorizer(vocabulary=list(sorted_registration_init_time_month_cat_dict.keys()), lowercase=False, binary=True)\n",
    "vectorizer_registration_init_time_month_cat.fit(X_train['registration_init_time_month'].values.astype(\"U\"))\n",
    "\n",
    "print(X_train.shape, Y_train.shape)\n",
    "print(X_test.shape, Y_test.shape)\n",
    "print(X_cv.shape, Y_cv.shape)\n",
    "\n",
    "print(\"=\"*100)\n",
    "\n",
    "registration_init_time_month_cat_one_hot_train = vectorizer_registration_init_time_month_cat.fit_transform(X_train['registration_init_time_month'].values.astype(\"U\"))\n",
    "registration_init_time_month_cat_one_hot_test = vectorizer_registration_init_time_month_cat.transform(X_test['registration_init_time_month'].values.astype(\"U\"))\n",
    "registration_init_time_month_cat_one_hot_cv = vectorizer_registration_init_time_month_cat.transform(X_cv['registration_init_time_month'].values.astype(\"U\"))\n",
    "\n",
    "print(\"After vectorizations\")\n",
    "print(\"=\"*100)\n",
    "\n",
    "print(\"Shape of Train data - one hot encoding\",registration_init_time_month_cat_one_hot_train.shape)\n",
    "print(\"Shape of Test data - one hot encoding \",registration_init_time_month_cat_one_hot_test.shape)\n",
    "print(\"Shape of Cv data - one hot encoding \",registration_init_time_month_cat_one_hot_cv.shape)\n",
    "\n",
    "print(\"=\"*100)\n",
    "\n",
    "print(vectorizer_registration_init_time_month_cat.get_feature_names())"
   ]
  },
  {
   "cell_type": "markdown",
   "metadata": {},
   "source": [
    "### registration_init_time_day"
   ]
  },
  {
   "cell_type": "code",
   "execution_count": 30,
   "metadata": {},
   "outputs": [],
   "source": [
    "my_counter = Counter()\n",
    "for registration_init_time_day in final['registration_init_time_day'].values.astype(\"U\"):\n",
    "    my_counter.update(registration_init_time_day.split())"
   ]
  },
  {
   "cell_type": "code",
   "execution_count": 31,
   "metadata": {},
   "outputs": [],
   "source": [
    "registration_init_time_day_cat_dict = dict(my_counter)\n",
    "sorted_registration_init_time_day_cat_dict = dict(sorted(registration_init_time_day_cat_dict.items(), key=lambda kv: kv[1]))"
   ]
  },
  {
   "cell_type": "code",
   "execution_count": 32,
   "metadata": {},
   "outputs": [
    {
     "name": "stdout",
     "output_type": "stream",
     "text": [
      "(482900, 29) (482900,)\n",
      "(150907, 29) (150907,)\n",
      "(120725, 29) (120725,)\n",
      "====================================================================================================\n",
      "After vectorizations\n",
      "====================================================================================================\n",
      "Shape of Train data - one hot encoding (482900, 31)\n",
      "Shape of Test data - one hot encoding  (150907, 31)\n",
      "Shape of Cv data - one hot encoding  (120725, 31)\n",
      "====================================================================================================\n",
      "['31', '2', '1', '30', '29', '13', '14', '3', '8', '27', '25', '24', '28', '22', '12', '15', '26', '7', '18', '11', '20', '5', '9', '21', '19', '4', '10', '23', '16', '17', '6']\n"
     ]
    }
   ],
   "source": [
    "vectorizer_registration_init_time_day_cat = CountVectorizer(vocabulary=list(sorted_registration_init_time_day_cat_dict.keys()), lowercase=False, binary=True)\n",
    "vectorizer_registration_init_time_day_cat.fit(X_train['registration_init_time_day'].values.astype(\"U\"))\n",
    "\n",
    "print(X_train.shape, Y_train.shape)\n",
    "print(X_test.shape, Y_test.shape)\n",
    "print(X_cv.shape, Y_cv.shape)\n",
    "\n",
    "print(\"=\"*100)\n",
    "\n",
    "registration_init_time_day_cat_one_hot_train = vectorizer_registration_init_time_day_cat.fit_transform(X_train['registration_init_time_day'].values.astype(\"U\"))\n",
    "registration_init_time_day_cat_one_hot_test = vectorizer_registration_init_time_day_cat.transform(X_test['registration_init_time_day'].values.astype(\"U\"))\n",
    "registration_init_time_day_cat_one_hot_cv = vectorizer_registration_init_time_day_cat.transform(X_cv['registration_init_time_day'].values.astype(\"U\"))\n",
    "\n",
    "print(\"After vectorizations\")\n",
    "print(\"=\"*100)\n",
    "\n",
    "print(\"Shape of Train data - one hot encoding\",registration_init_time_day_cat_one_hot_train.shape)\n",
    "print(\"Shape of Test data - one hot encoding \",registration_init_time_day_cat_one_hot_test.shape)\n",
    "print(\"Shape of Cv data - one hot encoding \",registration_init_time_day_cat_one_hot_cv.shape)\n",
    "\n",
    "print(\"=\"*100)\n",
    "\n",
    "print(vectorizer_registration_init_time_day_cat.get_feature_names())"
   ]
  },
  {
   "cell_type": "markdown",
   "metadata": {},
   "source": [
    "### payment_method_id"
   ]
  },
  {
   "cell_type": "code",
   "execution_count": 33,
   "metadata": {},
   "outputs": [],
   "source": [
    "my_counter = Counter()\n",
    "for payment_method_id in final['payment_method_id'].values.astype(\"U\"):\n",
    "    my_counter.update(payment_method_id.split())"
   ]
  },
  {
   "cell_type": "code",
   "execution_count": 34,
   "metadata": {},
   "outputs": [],
   "source": [
    "payment_method_id_dict = dict(my_counter)\n",
    "sorted_payment_method_id_dict_cat_dict = dict(sorted(payment_method_id_dict.items(), key=lambda kv: kv[1]))"
   ]
  },
  {
   "cell_type": "code",
   "execution_count": 35,
   "metadata": {},
   "outputs": [
    {
     "name": "stdout",
     "output_type": "stream",
     "text": [
      "(482900, 29) (482900,)\n",
      "(150907, 29) (150907,)\n",
      "(120725, 29) (120725,)\n",
      "====================================================================================================\n",
      "After vectorizations\n",
      "====================================================================================================\n",
      "Shape of Train data - one hot encoding (482900, 21)\n",
      "Shape of Test data - one hot encoding  (150907, 21)\n",
      "Shape of Cv data - one hot encoding  (120725, 21)\n",
      "====================================================================================================\n",
      "['19.0', '20.0', '16.0', '7.0', '3.0', '21.0', '17.0', '10.0', '8.0', '18.0', '11.0', '9.0', '12.0', '14.0', '6.0', '22.0', '15.0', '4.0', '5.0', '13.0', '1.0']\n"
     ]
    }
   ],
   "source": [
    "vectorizer_payment_method_id_cat = CountVectorizer(vocabulary=list(sorted_city_cat_dict.keys()), lowercase=False, binary=True)\n",
    "vectorizer_payment_method_id_cat.fit(X_train['payment_method_id'].values.astype(\"U\"))\n",
    "\n",
    "print(X_train.shape, Y_train.shape)\n",
    "print(X_test.shape, Y_test.shape)\n",
    "print(X_cv.shape, Y_cv.shape)\n",
    "\n",
    "print(\"=\"*100)\n",
    "\n",
    "payment_method_id_cat_one_hot_train = vectorizer_payment_method_id_cat.fit_transform(X_train['payment_method_id'].values.astype(\"U\"))\n",
    "payment_method_id_cat_one_hot_test = vectorizer_payment_method_id_cat.transform(X_test['payment_method_id'].values.astype(\"U\"))\n",
    "payment_method_id_cat_one_hot_cv = vectorizer_payment_method_id_cat.transform(X_cv['payment_method_id'].values.astype(\"U\"))\n",
    "\n",
    "print(\"After vectorizations\")\n",
    "print(\"=\"*100)\n",
    "\n",
    "print(\"Shape of Train data - one hot encoding\",payment_method_id_cat_one_hot_train.shape)\n",
    "print(\"Shape of Test data - one hot encoding \",payment_method_id_cat_one_hot_test.shape)\n",
    "print(\"Shape of Cv data - one hot encoding \",payment_method_id_cat_one_hot_cv.shape)\n",
    "\n",
    "\n",
    "print(\"=\"*100)\n",
    "\n",
    "print(vectorizer_payment_method_id_cat.get_feature_names())"
   ]
  },
  {
   "cell_type": "markdown",
   "metadata": {},
   "source": [
    "### payment_plan_days"
   ]
  },
  {
   "cell_type": "code",
   "execution_count": 36,
   "metadata": {},
   "outputs": [],
   "source": [
    "my_counter = Counter()\n",
    "for payment_plan_days in final['payment_plan_days'].values.astype(\"U\"):\n",
    "    my_counter.update(payment_plan_days.split())"
   ]
  },
  {
   "cell_type": "code",
   "execution_count": 37,
   "metadata": {},
   "outputs": [],
   "source": [
    "payment_plan_days_dict = dict(my_counter)\n",
    "sorted_payment_plan_days_dict_cat_dict = dict(sorted(payment_plan_days_dict.items(), key=lambda kv: kv[1]))"
   ]
  },
  {
   "cell_type": "code",
   "execution_count": 38,
   "metadata": {},
   "outputs": [
    {
     "name": "stdout",
     "output_type": "stream",
     "text": [
      "(482900, 29) (482900,)\n",
      "(150907, 29) (150907,)\n",
      "(120725, 29) (120725,)\n",
      "====================================================================================================\n",
      "After vectorizations\n",
      "====================================================================================================\n",
      "Shape of Train data - one hot encoding (482900, 27)\n",
      "Shape of Test data - one hot encoding  (150907, 27)\n",
      "Shape of Cv data - one hot encoding  (120725, 27)\n",
      "====================================================================================================\n",
      "['230', '35', '80', '415', '270', '70', '14', '110', '10', '1', '450', '240', '365', '400', '200', '45', '395', '60', '7', '120', '100', '360', '180', '90', '195', '410', '30']\n"
     ]
    }
   ],
   "source": [
    "vectorizer_payment_plan_days_cat = CountVectorizer(vocabulary=list(sorted_payment_plan_days_dict_cat_dict.keys()), lowercase=False, binary=True)\n",
    "vectorizer_payment_plan_days_cat.fit(X_train['payment_plan_days'].values.astype(\"U\"))\n",
    "\n",
    "print(X_train.shape, Y_train.shape)\n",
    "print(X_test.shape, Y_test.shape)\n",
    "print(X_cv.shape, Y_cv.shape)\n",
    "\n",
    "print(\"=\"*100)\n",
    "\n",
    "payment_plan_days_cat_one_hot_train = vectorizer_payment_plan_days_cat.fit_transform(X_train['payment_plan_days'].values.astype(\"U\"))\n",
    "payment_plan_days_cat_one_hot_test = vectorizer_payment_plan_days_cat.transform(X_test['payment_plan_days'].values.astype(\"U\"))\n",
    "payment_plan_days_cat_one_hot_cv = vectorizer_payment_plan_days_cat.transform(X_cv['payment_plan_days'].values.astype(\"U\"))\n",
    "\n",
    "print(\"After vectorizations\")\n",
    "print(\"=\"*100)\n",
    "\n",
    "print(\"Shape of Train data - one hot encoding\",payment_plan_days_cat_one_hot_train.shape)\n",
    "print(\"Shape of Test data - one hot encoding \",payment_plan_days_cat_one_hot_test.shape)\n",
    "print(\"Shape of Cv data - one hot encoding \",payment_plan_days_cat_one_hot_cv.shape)\n",
    "\n",
    "print(\"=\"*100)\n",
    "\n",
    "print(vectorizer_payment_plan_days_cat.get_feature_names())"
   ]
  },
  {
   "cell_type": "markdown",
   "metadata": {},
   "source": [
    "### is_cancel"
   ]
  },
  {
   "cell_type": "code",
   "execution_count": 39,
   "metadata": {},
   "outputs": [],
   "source": [
    "my_counter = Counter()\n",
    "for is_cancel in final['is_cancel'].values.astype(\"U\"):\n",
    "    my_counter.update(is_cancel.split())"
   ]
  },
  {
   "cell_type": "code",
   "execution_count": 40,
   "metadata": {},
   "outputs": [],
   "source": [
    "is_cancel_cat_dict = dict(my_counter)\n",
    "sorted_is_cancel_cat_dict_cat_dict = dict(sorted(is_cancel_cat_dict.items(), key=lambda kv: kv[1]))"
   ]
  },
  {
   "cell_type": "code",
   "execution_count": 41,
   "metadata": {},
   "outputs": [
    {
     "name": "stdout",
     "output_type": "stream",
     "text": [
      "(482900, 29) (482900,)\n",
      "(150907, 29) (150907,)\n",
      "(120725, 29) (120725,)\n",
      "====================================================================================================\n",
      "After vectorizations\n",
      "====================================================================================================\n",
      "Shape of Train data - one hot encoding (482900, 2)\n",
      "Shape of Test data - one hot encoding  (150907, 2)\n",
      "Shape of Cv data - one hot encoding  (120725, 2)\n",
      "====================================================================================================\n",
      "['1', '0']\n"
     ]
    }
   ],
   "source": [
    "vectorizer_is_cancel_cat = CountVectorizer(vocabulary=list(sorted_is_cancel_cat_dict_cat_dict.keys()), lowercase=False, binary=True)\n",
    "vectorizer_is_cancel_cat.fit(X_train['is_cancel'].values.astype(\"U\"))\n",
    "\n",
    "print(X_train.shape, Y_train.shape)\n",
    "print(X_test.shape, Y_test.shape)\n",
    "print(X_cv.shape, Y_cv.shape)\n",
    "\n",
    "print(\"=\"*100)\n",
    "\n",
    "is_cancel_cat_one_hot_train = vectorizer_is_cancel_cat.fit_transform(X_train['is_cancel'].values.astype(\"U\"))\n",
    "is_cancel_cat_one_hot_test = vectorizer_is_cancel_cat.transform(X_test['is_cancel'].values.astype(\"U\"))\n",
    "is_cancel_cat_one_hot_cv = vectorizer_is_cancel_cat.transform(X_cv['is_cancel'].values.astype(\"U\"))\n",
    "\n",
    "print(\"After vectorizations\")\n",
    "print(\"=\"*100)\n",
    "\n",
    "print(\"Shape of Train data - one hot encoding\",is_cancel_cat_one_hot_train.shape)\n",
    "print(\"Shape of Test data - one hot encoding \",is_cancel_cat_one_hot_test.shape)\n",
    "print(\"Shape of Cv data - one hot encoding \",is_cancel_cat_one_hot_cv.shape)\n",
    "\n",
    "print(\"=\"*100)\n",
    "\n",
    "print(vectorizer_is_cancel_cat.get_feature_names())"
   ]
  },
  {
   "cell_type": "markdown",
   "metadata": {},
   "source": [
    "### is_auto_renew"
   ]
  },
  {
   "cell_type": "code",
   "execution_count": 42,
   "metadata": {},
   "outputs": [],
   "source": [
    "my_counter = Counter()\n",
    "for is_auto_renew in final['is_auto_renew'].values.astype(\"U\"):\n",
    "    my_counter.update(is_auto_renew.split())"
   ]
  },
  {
   "cell_type": "code",
   "execution_count": 43,
   "metadata": {},
   "outputs": [],
   "source": [
    "is_auto_renew_cat_dict = dict(my_counter)\n",
    "sorted_is_auto_renew_cat_dict = dict(sorted(is_auto_renew_cat_dict.items(), key=lambda kv: kv[1]))"
   ]
  },
  {
   "cell_type": "code",
   "execution_count": 44,
   "metadata": {},
   "outputs": [
    {
     "name": "stdout",
     "output_type": "stream",
     "text": [
      "(482900, 29) (482900,)\n",
      "(150907, 29) (150907,)\n",
      "(120725, 29) (120725,)\n",
      "====================================================================================================\n",
      "After vectorizations\n",
      "====================================================================================================\n",
      "Shape of Train data - one hot encoding (482900, 2)\n",
      "Shape of Test data - one hot encoding  (150907, 2)\n",
      "Shape of Cv data - one hot encoding  (120725, 2)\n",
      "====================================================================================================\n",
      "['0', '1']\n"
     ]
    }
   ],
   "source": [
    "vectorizer_is_auto_renew_cat = CountVectorizer(vocabulary=list(sorted_is_auto_renew_cat_dict.keys()), lowercase=False, binary=True)\n",
    "vectorizer_is_auto_renew_cat.fit(X_train['is_auto_renew'].values.astype(\"U\"))\n",
    "\n",
    "print(X_train.shape, Y_train.shape)\n",
    "print(X_test.shape, Y_test.shape)\n",
    "print(X_cv.shape, Y_cv.shape)\n",
    "\n",
    "\n",
    "print(\"=\"*100)\n",
    "\n",
    "is_auto_renew_cat_one_hot_train = vectorizer_is_auto_renew_cat.fit_transform(X_train['is_auto_renew'].values.astype(\"U\"))\n",
    "is_auto_renew_cat_one_hot_test = vectorizer_is_auto_renew_cat.transform(X_test['is_auto_renew'].values.astype(\"U\"))\n",
    "is_auto_renew_cat_one_hot_cv = vectorizer_is_auto_renew_cat.transform(X_cv['is_auto_renew'].values.astype(\"U\"))\n",
    "\n",
    "print(\"After vectorizations\")\n",
    "print(\"=\"*100)\n",
    "\n",
    "print(\"Shape of Train data - one hot encoding\",is_auto_renew_cat_one_hot_train.shape)\n",
    "print(\"Shape of Test data - one hot encoding \",is_auto_renew_cat_one_hot_test.shape)\n",
    "print(\"Shape of Cv data - one hot encoding \",is_auto_renew_cat_one_hot_cv.shape)\n",
    "\n",
    "print(\"=\"*100)\n",
    "\n",
    "print(vectorizer_is_auto_renew_cat.get_feature_names())"
   ]
  },
  {
   "cell_type": "markdown",
   "metadata": {},
   "source": [
    "### transaction_date_year"
   ]
  },
  {
   "cell_type": "code",
   "execution_count": 45,
   "metadata": {},
   "outputs": [],
   "source": [
    "my_counter = Counter()\n",
    "for transaction_date_year in final['transaction_date_year'].values.astype(\"U\"):\n",
    "    my_counter.update(transaction_date_year.split())"
   ]
  },
  {
   "cell_type": "code",
   "execution_count": 46,
   "metadata": {},
   "outputs": [],
   "source": [
    "transaction_date_year_cat_dict = dict(my_counter)\n",
    "sorted_transaction_date_year_cat_dict = dict(sorted(transaction_date_year_cat_dict.items(), key=lambda kv: kv[1]))"
   ]
  },
  {
   "cell_type": "code",
   "execution_count": 47,
   "metadata": {},
   "outputs": [
    {
     "name": "stdout",
     "output_type": "stream",
     "text": [
      "(482900, 29) (482900,)\n",
      "(150907, 29) (150907,)\n",
      "(120725, 29) (120725,)\n",
      "====================================================================================================\n",
      "After vectorizations\n",
      "====================================================================================================\n",
      "Shape of Train data - one hot encoding (482900, 3)\n",
      "Shape of Test data - one hot encoding  (150907, 3)\n",
      "Shape of Cv data - one hot encoding  (120725, 3)\n",
      "====================================================================================================\n",
      "['2015', '2016', '2017']\n"
     ]
    }
   ],
   "source": [
    "vectorizer_transaction_date_year_cat = CountVectorizer(vocabulary=list(sorted_transaction_date_year_cat_dict.keys()), lowercase=False, binary=True)\n",
    "vectorizer_transaction_date_year_cat.fit(X_train['transaction_date_year'].values.astype(\"U\"))\n",
    "\n",
    "print(X_train.shape, Y_train.shape)\n",
    "print(X_test.shape, Y_test.shape)\n",
    "print(X_cv.shape, Y_cv.shape)\n",
    "\n",
    "\n",
    "print(\"=\"*100)\n",
    "\n",
    "transaction_date_year_cat_one_hot_train = vectorizer_transaction_date_year_cat.fit_transform(X_train['transaction_date_year'].values.astype(\"U\"))\n",
    "transaction_date_year_cat_one_hot_test = vectorizer_transaction_date_year_cat.transform(X_test['transaction_date_year'].values.astype(\"U\"))\n",
    "transaction_date_year_cat_one_hot_cv = vectorizer_transaction_date_year_cat.transform(X_cv['transaction_date_year'].values.astype(\"U\"))\n",
    "\n",
    "print(\"After vectorizations\")\n",
    "print(\"=\"*100)\n",
    "\n",
    "print(\"Shape of Train data - one hot encoding\",transaction_date_year_cat_one_hot_train.shape)\n",
    "print(\"Shape of Test data - one hot encoding \",transaction_date_year_cat_one_hot_test.shape)\n",
    "print(\"Shape of Cv data - one hot encoding \",transaction_date_year_cat_one_hot_cv.shape)\n",
    "\n",
    "print(\"=\"*100)\n",
    "\n",
    "print(vectorizer_transaction_date_year_cat.get_feature_names())"
   ]
  },
  {
   "cell_type": "markdown",
   "metadata": {},
   "source": [
    "### transaction_date_month"
   ]
  },
  {
   "cell_type": "code",
   "execution_count": 48,
   "metadata": {},
   "outputs": [],
   "source": [
    "my_counter = Counter()\n",
    "for transaction_date_month in final['transaction_date_month'].values.astype(\"U\"):\n",
    "    my_counter.update(transaction_date_month.split())"
   ]
  },
  {
   "cell_type": "code",
   "execution_count": 49,
   "metadata": {},
   "outputs": [],
   "source": [
    "transaction_date_month_cat_dict = dict(my_counter)\n",
    "sorted_transaction_date_month_cat_dict = dict(sorted(transaction_date_month_cat_dict.items(), key=lambda kv: kv[1]))"
   ]
  },
  {
   "cell_type": "code",
   "execution_count": 50,
   "metadata": {},
   "outputs": [
    {
     "name": "stdout",
     "output_type": "stream",
     "text": [
      "(482900, 29) (482900,)\n",
      "(150907, 29) (150907,)\n",
      "(120725, 29) (120725,)\n",
      "====================================================================================================\n",
      "After vectorizations\n",
      "====================================================================================================\n",
      "Shape of Train data - one hot encoding (482900, 12)\n",
      "Shape of Test data - one hot encoding  (150907, 12)\n",
      "Shape of Cv data - one hot encoding  (120725, 12)\n",
      "====================================================================================================\n",
      "['6', '5', '4', '7', '10', '11', '8', '12', '9', '1', '2', '3']\n"
     ]
    }
   ],
   "source": [
    "vectorizer_transaction_date_month_cat = CountVectorizer(vocabulary=list(sorted_transaction_date_month_cat_dict.keys()), lowercase=False, binary=True)\n",
    "vectorizer_transaction_date_month_cat.fit(X_train['transaction_date_month'].values.astype(\"U\"))\n",
    "\n",
    "print(X_train.shape, Y_train.shape)\n",
    "print(X_test.shape, Y_test.shape)\n",
    "print(X_cv.shape, Y_cv.shape)\n",
    "\n",
    "print(\"=\"*100)\n",
    "\n",
    "transaction_date_month_cat_one_hot_train = vectorizer_transaction_date_month_cat.fit_transform(X_train['transaction_date_month'].values.astype(\"U\"))\n",
    "transaction_date_month_cat_one_hot_test = vectorizer_transaction_date_month_cat.transform(X_test['transaction_date_month'].values.astype(\"U\"))\n",
    "transaction_date_month_cat_one_hot_cv = vectorizer_transaction_date_month_cat.transform(X_cv['transaction_date_month'].values.astype(\"U\"))\n",
    "\n",
    "print(\"After vectorizations\")\n",
    "print(\"=\"*100)\n",
    "\n",
    "print(\"Shape of Train data - one hot encoding\",transaction_date_month_cat_one_hot_train.shape)\n",
    "print(\"Shape of Test data - one hot encoding \",transaction_date_month_cat_one_hot_test.shape)\n",
    "print(\"Shape of Cv data - one hot encoding \",transaction_date_month_cat_one_hot_cv.shape)\n",
    "\n",
    "print(\"=\"*100)\n",
    "\n",
    "print(vectorizer_transaction_date_month_cat.get_feature_names())"
   ]
  },
  {
   "cell_type": "markdown",
   "metadata": {},
   "source": [
    "### transaction_date_day"
   ]
  },
  {
   "cell_type": "code",
   "execution_count": 51,
   "metadata": {},
   "outputs": [],
   "source": [
    "my_counter = Counter()\n",
    "for transaction_date_day in final['transaction_date_day'].values.astype(\"U\"):\n",
    "    my_counter.update(transaction_date_day.split())"
   ]
  },
  {
   "cell_type": "code",
   "execution_count": 52,
   "metadata": {},
   "outputs": [],
   "source": [
    "transaction_date_day_cat_dict = dict(my_counter)\n",
    "sorted_transaction_date_day_cat_dict = dict(sorted(transaction_date_day_cat_dict.items(), key=lambda kv: kv[1]))"
   ]
  },
  {
   "cell_type": "code",
   "execution_count": 53,
   "metadata": {},
   "outputs": [
    {
     "name": "stdout",
     "output_type": "stream",
     "text": [
      "(482900, 29) (482900,)\n",
      "(150907, 29) (150907,)\n",
      "(120725, 29) (120725,)\n",
      "====================================================================================================\n",
      "After vectorizations\n",
      "====================================================================================================\n",
      "Shape of Train data - one hot encoding (482900, 31)\n",
      "Shape of Test data - one hot encoding  (150907, 31)\n",
      "Shape of Cv data - one hot encoding  (120725, 31)\n",
      "====================================================================================================\n",
      "['30', '29', '28', '13', '2', '1', '3', '14', '7', '4', '8', '10', '23', '24', '12', '22', '26', '11', '17', '25', '18', '15', '21', '9', '19', '6', '27', '5', '20', '16', '31']\n"
     ]
    }
   ],
   "source": [
    "vectorizer_transaction_date_day_cat = CountVectorizer(vocabulary=list(sorted_transaction_date_day_cat_dict.keys()), lowercase=False, binary=True)\n",
    "vectorizer_transaction_date_day_cat.fit(X_train['transaction_date_day'].values.astype(\"U\"))\n",
    "\n",
    "print(X_train.shape, Y_train.shape)\n",
    "print(X_test.shape, Y_test.shape)\n",
    "print(X_cv.shape, Y_cv.shape)\n",
    "\n",
    "\n",
    "print(\"=\"*100)\n",
    "\n",
    "transaction_date_day_cat_one_hot_train = vectorizer_transaction_date_day_cat.fit_transform(X_train['transaction_date_day'].values.astype(\"U\"))\n",
    "transaction_date_day_cat_one_hot_test = vectorizer_transaction_date_day_cat.transform(X_test['transaction_date_day'].values.astype(\"U\"))\n",
    "transaction_date_day_cat_one_hot_cv = vectorizer_transaction_date_day_cat.transform(X_cv['transaction_date_day'].values.astype(\"U\"))\n",
    "print(\"After vectorizations\")\n",
    "print(\"=\"*100)\n",
    "\n",
    "print(\"Shape of Train data - one hot encoding\",transaction_date_day_cat_one_hot_train.shape)\n",
    "print(\"Shape of Test data - one hot encoding \",transaction_date_day_cat_one_hot_test.shape)\n",
    "print(\"Shape of Cv data - one hot encoding \",transaction_date_day_cat_one_hot_cv.shape)\n",
    "\n",
    "print(\"=\"*100)\n",
    "\n",
    "print(vectorizer_transaction_date_day_cat.get_feature_names())"
   ]
  },
  {
   "cell_type": "markdown",
   "metadata": {},
   "source": [
    "## Numerical Features"
   ]
  },
  {
   "cell_type": "markdown",
   "metadata": {},
   "source": [
    "### plan_list_price"
   ]
  },
  {
   "cell_type": "code",
   "execution_count": 54,
   "metadata": {},
   "outputs": [],
   "source": [
    "from sklearn.preprocessing import StandardScaler"
   ]
  },
  {
   "cell_type": "code",
   "execution_count": 55,
   "metadata": {},
   "outputs": [],
   "source": [
    "sc = StandardScaler()\n"
   ]
  },
  {
   "cell_type": "code",
   "execution_count": 56,
   "metadata": {},
   "outputs": [],
   "source": [
    "data_for_normalization_train = X_train['plan_list_price']\n",
    "data_for_normalization_train=data_for_normalization_train.values.reshape(-1,1)\n",
    "\n",
    "data_for_normalization_test = X_test['plan_list_price']\n",
    "data_for_normalization_test=data_for_normalization_test.values.reshape(-1,1)\n",
    "\n",
    "data_for_normalization_cv = X_cv['plan_list_price']\n",
    "data_for_normalization_cv=data_for_normalization_cv.values.reshape(-1,1)\n",
    "\n",
    "plan_list_price_train = sc.fit_transform(data_for_normalization_train)\n",
    "plan_list_price_test = sc.transform(data_for_normalization_test)\n",
    "plan_list_price_cv = sc.transform(data_for_normalization_cv)"
   ]
  },
  {
   "cell_type": "markdown",
   "metadata": {},
   "source": [
    "### actual_amount_paid"
   ]
  },
  {
   "cell_type": "code",
   "execution_count": 57,
   "metadata": {},
   "outputs": [],
   "source": [
    "data_for_normalization_train = X_train['actual_amount_paid']\n",
    "data_for_normalization_train=data_for_normalization_train.values.reshape(-1,1)\n",
    "\n",
    "data_for_normalization_test = X_test['actual_amount_paid']\n",
    "data_for_normalization_test=data_for_normalization_test.values.reshape(-1,1)\n",
    "\n",
    "data_for_normalization_cv = X_cv['actual_amount_paid']\n",
    "data_for_normalization_cv=data_for_normalization_cv.values.reshape(-1,1)\n",
    "\n",
    "actual_amount_paid_train = sc.fit_transform(data_for_normalization_train)\n",
    "actual_amount_paid_test = sc.transform(data_for_normalization_test)\n",
    "actual_amount_paid_cv = sc.transform(data_for_normalization_cv)"
   ]
  },
  {
   "cell_type": "markdown",
   "metadata": {},
   "source": [
    "### trans_count"
   ]
  },
  {
   "cell_type": "code",
   "execution_count": 58,
   "metadata": {},
   "outputs": [],
   "source": [
    "data_for_normalization_train = X_train['trans_count']\n",
    "data_for_normalization_train=data_for_normalization_train.values.reshape(-1,1)\n",
    "\n",
    "data_for_normalization_test = X_test['trans_count']\n",
    "data_for_normalization_test=data_for_normalization_test.values.reshape(-1,1)\n",
    "\n",
    "data_for_normalization_cv = X_cv['trans_count']\n",
    "data_for_normalization_cv=data_for_normalization_cv.values.reshape(-1,1)\n",
    "\n",
    "trans_count_train = sc.fit_transform(data_for_normalization_train)\n",
    "trans_count_test = sc.transform(data_for_normalization_test)\n",
    "trans_count_cv = sc.transform(data_for_normalization_cv)"
   ]
  },
  {
   "cell_type": "markdown",
   "metadata": {},
   "source": [
    "### transaction_span"
   ]
  },
  {
   "cell_type": "code",
   "execution_count": 59,
   "metadata": {},
   "outputs": [],
   "source": [
    "data_for_normalization_train = X_train['transaction_span']\n",
    "data_for_normalization_train=data_for_normalization_train.values.reshape(-1,1)\n",
    "\n",
    "data_for_normalization_test = X_test['transaction_span']\n",
    "data_for_normalization_test=data_for_normalization_test.values.reshape(-1,1)\n",
    "\n",
    "data_for_normalization_cv = X_cv['transaction_span']\n",
    "data_for_normalization_cv=data_for_normalization_cv.values.reshape(-1,1)\n",
    "\n",
    "transaction_span_train = sc.fit_transform(data_for_normalization_train)\n",
    "transaction_span_test = sc.transform(data_for_normalization_test)\n",
    "transaction_span_cv = sc.transform(data_for_normalization_cv)"
   ]
  },
  {
   "cell_type": "markdown",
   "metadata": {},
   "source": [
    "### total_list_price"
   ]
  },
  {
   "cell_type": "code",
   "execution_count": 60,
   "metadata": {},
   "outputs": [],
   "source": [
    "data_for_normalization_train = X_train['total_list_price']\n",
    "data_for_normalization_train=data_for_normalization_train.values.reshape(-1,1)\n",
    "\n",
    "data_for_normalization_test = X_test['total_list_price']\n",
    "data_for_normalization_test=data_for_normalization_test.values.reshape(-1,1)\n",
    "\n",
    "data_for_normalization_cv = X_cv['total_list_price']\n",
    "data_for_normalization_cv=data_for_normalization_cv.values.reshape(-1,1)\n",
    "\n",
    "total_list_price_train = sc.fit_transform(data_for_normalization_train)\n",
    "total_list_price_test = sc.transform(data_for_normalization_test)\n",
    "total_list_price_cv = sc.transform(data_for_normalization_cv)"
   ]
  },
  {
   "cell_type": "markdown",
   "metadata": {},
   "source": [
    "### total_amount_paid"
   ]
  },
  {
   "cell_type": "code",
   "execution_count": 61,
   "metadata": {},
   "outputs": [],
   "source": [
    "data_for_normalization_train = X_train['total_amount_paid']\n",
    "data_for_normalization_train=data_for_normalization_train.values.reshape(-1,1)\n",
    "\n",
    "data_for_normalization_test = X_test['total_amount_paid']\n",
    "data_for_normalization_test=data_for_normalization_test.values.reshape(-1,1)\n",
    "\n",
    "data_for_normalization_cv = X_cv['total_amount_paid']\n",
    "data_for_normalization_cv=data_for_normalization_cv.values.reshape(-1,1)\n",
    "\n",
    "total_amount_paid_train = sc.fit_transform(data_for_normalization_train)\n",
    "total_amount_paid_test = sc.transform(data_for_normalization_test)\n",
    "total_amount_paid_cv = sc.transform(data_for_normalization_cv)"
   ]
  },
  {
   "cell_type": "markdown",
   "metadata": {},
   "source": [
    "### is_cancel_sum"
   ]
  },
  {
   "cell_type": "code",
   "execution_count": 62,
   "metadata": {},
   "outputs": [],
   "source": [
    "data_for_normalization_train = X_train['is_cancel_sum']\n",
    "data_for_normalization_train=data_for_normalization_train.values.reshape(-1,1)\n",
    "\n",
    "data_for_normalization_test = X_test['is_cancel_sum']\n",
    "data_for_normalization_test=data_for_normalization_test.values.reshape(-1,1)\n",
    "\n",
    "data_for_normalization_cv = X_cv['is_cancel_sum']\n",
    "data_for_normalization_cv=data_for_normalization_cv.values.reshape(-1,1)\n",
    "\n",
    "is_cancel_sum_train = sc.fit_transform(data_for_normalization_train)\n",
    "is_cancel_sum_test = sc.transform(data_for_normalization_test)\n",
    "is_cancel_sum_cv = sc.transform(data_for_normalization_cv)"
   ]
  },
  {
   "cell_type": "markdown",
   "metadata": {},
   "source": [
    "### diff_in_price_paid"
   ]
  },
  {
   "cell_type": "code",
   "execution_count": 74,
   "metadata": {},
   "outputs": [],
   "source": [
    "data_for_normalization_train = X_train['difference_in_price_paid']\n",
    "data_for_normalization_train=data_for_normalization_train.values.reshape(-1,1)\n",
    "\n",
    "data_for_normalization_test = X_test['difference_in_price_paid']\n",
    "data_for_normalization_test=data_for_normalization_test.values.reshape(-1,1)\n",
    "\n",
    "data_for_normalization_cv = X_cv['difference_in_price_paid']\n",
    "data_for_normalization_cv=data_for_normalization_cv.values.reshape(-1,1)\n",
    "\n",
    "diff_in_price_paid_train = sc.fit_transform(data_for_normalization_train)\n",
    "diff_in_price_paid_test = sc.transform(data_for_normalization_test)\n",
    "diff_in_price_paid_cv = sc.transform(data_for_normalization_cv)"
   ]
  },
  {
   "cell_type": "markdown",
   "metadata": {},
   "source": [
    "### amt_per_day"
   ]
  },
  {
   "cell_type": "code",
   "execution_count": 78,
   "metadata": {},
   "outputs": [],
   "source": [
    "data_for_normalization_train = X_train['amount_paid_perday']\n",
    "data_for_normalization_train=data_for_normalization_train.values.reshape(-1,1)\n",
    "\n",
    "data_for_normalization_test = X_test['amount_paid_perday']\n",
    "data_for_normalization_test=data_for_normalization_test.values.reshape(-1,1)\n",
    "\n",
    "data_for_normalization_cv = X_cv['amount_paid_perday']\n",
    "data_for_normalization_cv=data_for_normalization_cv.values.reshape(-1,1)\n",
    "\n",
    "amt_per_day_train = sc.fit_transform(data_for_normalization_train)\n",
    "amt_per_day_test = sc.transform(data_for_normalization_test)\n",
    "amt_per_day_cv = sc.transform(data_for_normalization_cv)"
   ]
  },
  {
   "cell_type": "markdown",
   "metadata": {},
   "source": [
    "### logs_count"
   ]
  },
  {
   "cell_type": "code",
   "execution_count": 65,
   "metadata": {},
   "outputs": [],
   "source": [
    "data_for_normalization_train = X_train['logs_count']\n",
    "data_for_normalization_train=data_for_normalization_train.values.reshape(-1,1)\n",
    "\n",
    "data_for_normalization_test = X_test['logs_count']\n",
    "data_for_normalization_test=data_for_normalization_test.values.reshape(-1,1)\n",
    "\n",
    "data_for_normalization_cv = X_cv['logs_count']\n",
    "data_for_normalization_cv=data_for_normalization_cv.values.reshape(-1,1)\n",
    "\n",
    "logs_count_train = sc.fit_transform(data_for_normalization_train)\n",
    "logs_count_test = sc.transform(data_for_normalization_test)\n",
    "logs_count_cv = sc.transform(data_for_normalization_cv)"
   ]
  },
  {
   "cell_type": "markdown",
   "metadata": {},
   "source": [
    "### num_25"
   ]
  },
  {
   "cell_type": "code",
   "execution_count": 66,
   "metadata": {},
   "outputs": [],
   "source": [
    "data_for_normalization_train = X_train['num_25']\n",
    "data_for_normalization_train=data_for_normalization_train.values.reshape(-1,1)\n",
    "\n",
    "data_for_normalization_test = X_test['num_25']\n",
    "data_for_normalization_test=data_for_normalization_test.values.reshape(-1,1)\n",
    "\n",
    "data_for_normalization_cv = X_cv['num_25']\n",
    "data_for_normalization_cv=data_for_normalization_cv.values.reshape(-1,1)\n",
    "\n",
    "num_25_train = sc.fit_transform(data_for_normalization_train)\n",
    "num_25_test = sc.transform(data_for_normalization_test)\n",
    "num_25_cv = sc.transform(data_for_normalization_cv)"
   ]
  },
  {
   "cell_type": "markdown",
   "metadata": {},
   "source": [
    "### num_50"
   ]
  },
  {
   "cell_type": "code",
   "execution_count": 67,
   "metadata": {},
   "outputs": [],
   "source": [
    "data_for_normalization_train = X_train['num_50']\n",
    "data_for_normalization_train=data_for_normalization_train.values.reshape(-1,1)\n",
    "\n",
    "data_for_normalization_test = X_test['num_50']\n",
    "data_for_normalization_test=data_for_normalization_test.values.reshape(-1,1)\n",
    "\n",
    "data_for_normalization_cv = X_cv['num_50']\n",
    "data_for_normalization_cv=data_for_normalization_cv.values.reshape(-1,1)\n",
    "\n",
    "num_50_train = sc.fit_transform(data_for_normalization_train)\n",
    "num_50_test = sc.transform(data_for_normalization_test)\n",
    "num_50_cv = sc.transform(data_for_normalization_cv)"
   ]
  },
  {
   "cell_type": "markdown",
   "metadata": {},
   "source": [
    "### num_75"
   ]
  },
  {
   "cell_type": "code",
   "execution_count": 68,
   "metadata": {},
   "outputs": [],
   "source": [
    "data_for_normalization_train = X_train['num_75']\n",
    "data_for_normalization_train=data_for_normalization_train.values.reshape(-1,1)\n",
    "\n",
    "data_for_normalization_test = X_test['num_75']\n",
    "data_for_normalization_test=data_for_normalization_test.values.reshape(-1,1)\n",
    "\n",
    "data_for_normalization_cv = X_cv['num_75']\n",
    "data_for_normalization_cv=data_for_normalization_cv.values.reshape(-1,1)\n",
    "\n",
    "num_75_train = sc.fit_transform(data_for_normalization_train)\n",
    "num_75_test = sc.transform(data_for_normalization_test)\n",
    "num_75_cv = sc.transform(data_for_normalization_cv)"
   ]
  },
  {
   "cell_type": "markdown",
   "metadata": {},
   "source": [
    "### num_985"
   ]
  },
  {
   "cell_type": "code",
   "execution_count": 69,
   "metadata": {},
   "outputs": [],
   "source": [
    "data_for_normalization_train = X_train['num_985']\n",
    "data_for_normalization_train=data_for_normalization_train.values.reshape(-1,1)\n",
    "\n",
    "data_for_normalization_test = X_test['num_985']\n",
    "data_for_normalization_test=data_for_normalization_test.values.reshape(-1,1)\n",
    "\n",
    "data_for_normalization_cv = X_cv['num_985']\n",
    "data_for_normalization_cv=data_for_normalization_cv.values.reshape(-1,1)\n",
    "\n",
    "num_985_train = sc.fit_transform(data_for_normalization_train)\n",
    "num_985_test = sc.transform(data_for_normalization_test)\n",
    "num_985_cv = sc.transform(data_for_normalization_cv)"
   ]
  },
  {
   "cell_type": "markdown",
   "metadata": {},
   "source": [
    "### num_100"
   ]
  },
  {
   "cell_type": "code",
   "execution_count": 70,
   "metadata": {},
   "outputs": [],
   "source": [
    "data_for_normalization_train = X_train['num_100']\n",
    "data_for_normalization_train=data_for_normalization_train.values.reshape(-1,1)\n",
    "\n",
    "data_for_normalization_test = X_test['num_100']\n",
    "data_for_normalization_test=data_for_normalization_test.values.reshape(-1,1)\n",
    "\n",
    "data_for_normalization_cv = X_cv['num_100']\n",
    "data_for_normalization_cv=data_for_normalization_cv.values.reshape(-1,1)\n",
    "\n",
    "num_100_train = sc.fit_transform(data_for_normalization_train)\n",
    "num_100_test = sc.transform(data_for_normalization_test)\n",
    "num_100_cv = sc.transform(data_for_normalization_cv)"
   ]
  },
  {
   "cell_type": "markdown",
   "metadata": {},
   "source": [
    "### num_unq"
   ]
  },
  {
   "cell_type": "code",
   "execution_count": 71,
   "metadata": {},
   "outputs": [],
   "source": [
    "data_for_normalization_train = X_train['num_unq']\n",
    "data_for_normalization_train=data_for_normalization_train.values.reshape(-1,1)\n",
    "\n",
    "data_for_normalization_test = X_test['num_unq']\n",
    "data_for_normalization_test=data_for_normalization_test.values.reshape(-1,1)\n",
    "\n",
    "data_for_normalization_cv = X_cv['num_unq']\n",
    "data_for_normalization_cv=data_for_normalization_cv.values.reshape(-1,1)\n",
    "\n",
    "num_unq_train = sc.fit_transform(data_for_normalization_train)\n",
    "num_unq_test = sc.transform(data_for_normalization_test)\n",
    "num_unq_cv = sc.transform(data_for_normalization_cv)"
   ]
  },
  {
   "cell_type": "markdown",
   "metadata": {},
   "source": [
    "### total_secs"
   ]
  },
  {
   "cell_type": "code",
   "execution_count": 72,
   "metadata": {},
   "outputs": [],
   "source": [
    "data_for_normalization_train = X_train['total_secs']\n",
    "data_for_normalization_train=data_for_normalization_train.values.reshape(-1,1)\n",
    "\n",
    "data_for_normalization_test = X_test['total_secs']\n",
    "data_for_normalization_test=data_for_normalization_test.values.reshape(-1,1)\n",
    "\n",
    "data_for_normalization_cv = X_cv['total_secs']\n",
    "data_for_normalization_cv=data_for_normalization_cv.values.reshape(-1,1)\n",
    "\n",
    "total_secs_train = sc.fit_transform(data_for_normalization_train)\n",
    "total_secs_test = sc.transform(data_for_normalization_test)\n",
    "total_secs_cv = sc.transform(data_for_normalization_cv)"
   ]
  },
  {
   "cell_type": "markdown",
   "metadata": {},
   "source": [
    "## Merging all the features"
   ]
  },
  {
   "cell_type": "code",
   "execution_count": 79,
   "metadata": {},
   "outputs": [],
   "source": [
    "from scipy.sparse import hstack\n",
    "\n",
    "X_train_merge = hstack((city_cat_one_hot_train,registered_via_cat_one_hot_train,registration_init_time_year_cat_one_hot_train,\n",
    "                       registration_init_time_month_cat_one_hot_train,registration_init_time_day_cat_one_hot_train,\n",
    "                       payment_method_id_cat_one_hot_train,payment_plan_days_cat_one_hot_train,is_cancel_cat_one_hot_train,\n",
    "                       is_auto_renew_cat_one_hot_train,transaction_date_year_cat_one_hot_train,\n",
    "                       transaction_date_month_cat_one_hot_train,transaction_date_day_cat_one_hot_train,\n",
    "                       plan_list_price_train,actual_amount_paid_train,trans_count_train,transaction_span_train,\n",
    "                       total_list_price_train,total_amount_paid_train,is_cancel_sum_train,diff_in_price_paid_train,\n",
    "                       amt_per_day_train,logs_count_train,num_25_train,num_50_train,num_75_train,num_985_train,\n",
    "                       num_100_train,num_unq_train,total_secs_train)).tocsr()\n",
    "\n",
    "X_test_merge = hstack((city_cat_one_hot_test,registered_via_cat_one_hot_test,registration_init_time_year_cat_one_hot_test,\n",
    "                      registration_init_time_month_cat_one_hot_test,registration_init_time_day_cat_one_hot_test,\n",
    "                      payment_method_id_cat_one_hot_test,payment_plan_days_cat_one_hot_test,is_cancel_cat_one_hot_test,\n",
    "                      is_auto_renew_cat_one_hot_test,transaction_date_year_cat_one_hot_test,\n",
    "                      transaction_date_month_cat_one_hot_test,transaction_date_day_cat_one_hot_test,\n",
    "                      plan_list_price_test,actual_amount_paid_test,trans_count_test,transaction_span_test,\n",
    "                      total_list_price_test,total_amount_paid_test,is_cancel_sum_test,diff_in_price_paid_test,\n",
    "                      amt_per_day_test,logs_count_test,num_25_test,num_50_test,num_75_test,num_985_test,\n",
    "                      num_100_test,num_unq_test,total_secs_test)).tocsr()\n",
    "\n",
    "X_cv_merge = hstack((city_cat_one_hot_cv,registered_via_cat_one_hot_cv,registration_init_time_year_cat_one_hot_cv,\n",
    "                      registration_init_time_month_cat_one_hot_cv,registration_init_time_day_cat_one_hot_cv,\n",
    "                      payment_method_id_cat_one_hot_cv,payment_plan_days_cat_one_hot_cv,is_cancel_cat_one_hot_cv,\n",
    "                      is_auto_renew_cat_one_hot_cv,transaction_date_year_cat_one_hot_cv,\n",
    "                      transaction_date_month_cat_one_hot_cv,transaction_date_day_cat_one_hot_cv,\n",
    "                      plan_list_price_cv,actual_amount_paid_cv,trans_count_cv,transaction_span_cv,\n",
    "                      total_list_price_cv,total_amount_paid_cv,is_cancel_sum_cv,diff_in_price_paid_cv,\n",
    "                      amt_per_day_cv,logs_count_cv,num_25_cv,num_50_cv,num_75_cv,num_985_cv,\n",
    "                      num_100_cv,num_unq_cv,total_secs_cv)).tocsr()"
   ]
  },
  {
   "cell_type": "markdown",
   "metadata": {},
   "source": [
    "## ML Models"
   ]
  },
  {
   "cell_type": "code",
   "execution_count": 80,
   "metadata": {},
   "outputs": [],
   "source": [
    "import os\n",
    "os.environ['KMP_DUPLICATE_LIB_OK']='True'\n",
    "\n",
    "\n",
    "from sklearn.model_selection import RandomizedSearchCV\n",
    "import warnings\n",
    "warnings.filterwarnings(\"ignore\")\n",
    "\n",
    "from sklearn.metrics import log_loss\n",
    "from datetime import datetime"
   ]
  },
  {
   "cell_type": "code",
   "execution_count": 84,
   "metadata": {},
   "outputs": [],
   "source": [
    "def misclassified_points(test_y, predict_y):\n",
    "    C = confusion_matrix(test_y, predict_y)\n",
    "    print(\"Number of misclassified points \",(len(test_y)-np.trace(C))/len(test_y)*100)\n",
    "   "
   ]
  },
  {
   "cell_type": "markdown",
   "metadata": {},
   "source": [
    "## Random model"
   ]
  },
  {
   "cell_type": "code",
   "execution_count": 85,
   "metadata": {},
   "outputs": [
    {
     "name": "stdout",
     "output_type": "stream",
     "text": [
      "Log loss on Cross Validation Data using Random Model 0.8843798790866191\n",
      "Log loss on Test Data using Random Model 0.886895760566191\n",
      "Number of misclassified points  95.55686614935026\n"
     ]
    }
   ],
   "source": [
    "test_data_len = X_test_merge.shape[0]\n",
    "cv_data_len = X_cv_merge.shape[0]\n",
    "\n",
    "# we create a output array that has exactly same size as the CV data\n",
    "cv_predicted_y = np.zeros((cv_data_len,2))\n",
    "for i in range(cv_data_len):\n",
    "    rand_probs = np.random.rand(1,2)\n",
    "    cv_predicted_y[i] = ((rand_probs/sum(sum(rand_probs)))[0])\n",
    "print(\"Log loss on Cross Validation Data using Random Model\",log_loss(Y_cv,cv_predicted_y, eps=1e-15))\n",
    "\n",
    "\n",
    "# Test-Set error.\n",
    "#we create a output array that has exactly same as the test data\n",
    "test_predicted_y = np.zeros((test_data_len,2))\n",
    "for i in range(test_data_len):\n",
    "    rand_probs = np.random.rand(1,2)\n",
    "    test_predicted_y[i] = ((rand_probs/sum(sum(rand_probs)))[0])\n",
    "print(\"Log loss on Test Data using Random Model\",log_loss(Y_test,test_predicted_y, eps=1e-15))\n",
    "\n",
    "predicted_y =np.argmax(test_predicted_y, axis=1)\n",
    "misclassified_points(Y_test, predicted_y+1)"
   ]
  },
  {
   "cell_type": "markdown",
   "metadata": {},
   "source": [
    "### Logistic Regression with l2 penalty (with class balance)"
   ]
  },
  {
   "cell_type": "code",
   "execution_count": 87,
   "metadata": {},
   "outputs": [
    {
     "name": "stdout",
     "output_type": "stream",
     "text": [
      "for alpha = 1e-07\n",
      "Log Loss : 0.20705939189388692\n",
      "for alpha = 1e-06\n",
      "Log Loss : 0.2013977027770745\n",
      "for alpha = 1e-05\n",
      "Log Loss : 0.19525944282218677\n",
      "for alpha = 0.0001\n",
      "Log Loss : 0.19668499530263045\n",
      "for alpha = 0.001\n",
      "Log Loss : 0.1999286577343005\n",
      "for alpha = 0.01\n",
      "Log Loss : 0.20623024226655895\n",
      "for alpha = 0.1\n",
      "Log Loss : 0.2108546410339655\n",
      "for alpha = 1\n",
      "Log Loss : 0.2169415264151701\n",
      "for alpha = 10\n",
      "Log Loss : 0.2200078371133053\n",
      "for alpha = 100\n",
      "Log Loss : 0.22038330868428987\n",
      "for alpha = 1000\n",
      "Log Loss : 0.22043171889546198\n"
     ]
    },
    {
     "data": {
      "image/png": "[encoded data removed]",
      "text/plain": [
       "<Figure size 432x288 with 1 Axes>"
      ]
     },
     "metadata": {},
     "output_type": "display_data"
    },
    {
     "name": "stdout",
     "output_type": "stream",
     "text": [
      "For values of best alpha =  1e-05 The train log loss is: 0.21968502918946137\n",
      "For values of best alpha =  1e-05 The cross validation log loss is: 0.2200078371133053\n",
      "For values of best alpha =  1e-05 The test log loss is: 0.2205487235366889\n",
      "Number of misclassified points  6.3191236987018495\n"
     ]
    }
   ],
   "source": [
    "alpha = [10**x for x in range(-7, 4)]\n",
    "cv_log_error_array = []\n",
    "for i in alpha:\n",
    "    print(\"for alpha =\", i)\n",
    "    clf = SGDClassifier(alpha=i, penalty='l2', loss='log', random_state=42,class_weight='balanced')\n",
    "    clf.fit(X_train_merge, Y_train)\n",
    "    sig_clf = CalibratedClassifierCV(clf, method=\"sigmoid\")\n",
    "    sig_clf.fit(X_train_merge, Y_train)\n",
    "    sig_clf_probs = sig_clf.predict_proba(X_cv_merge)\n",
    "    cv_log_error_array.append(log_loss(Y_cv, sig_clf_probs, labels=clf.classes_, eps=1e-15))\n",
    "    print(\"Log Loss :\",log_loss(Y_cv, sig_clf_probs)) \n",
    "\n",
    "fig, ax = plt.subplots()\n",
    "ax.plot(alpha, cv_log_error_array,c='g')\n",
    "for i, txt in enumerate(np.round(cv_log_error_array,3)):\n",
    "    ax.annotate((alpha[i],str(txt)), (alpha[i],cv_log_error_array[i]))\n",
    "plt.grid()\n",
    "plt.title(\"Cross Validation Error for each alpha\")\n",
    "plt.xlabel(\"Alpha i's\")\n",
    "plt.ylabel(\"Error measure\")\n",
    "plt.show()\n",
    "\n",
    "\n",
    "best_alpha = np.argmin(cv_log_error_array)\n",
    "clf = SGDClassifier(alpha=i, penalty='l2', loss='log', random_state=42,class_weight='balanced')\n",
    "clf.fit(X_train_merge, Y_train)\n",
    "sig_clf = CalibratedClassifierCV(clf, method=\"sigmoid\")\n",
    "sig_clf.fit(X_train_merge, Y_train)\n",
    "\n",
    "predict_y = sig_clf.predict_proba(X_train_merge)\n",
    "print('For values of best alpha = ', alpha[best_alpha], \"The train log loss is:\",log_loss(Y_train, predict_y, labels=clf.classes_, eps=1e-15))\n",
    "predict_y = sig_clf.predict_proba(X_cv_merge)\n",
    "print('For values of best alpha = ', alpha[best_alpha], \"The cross validation log loss is:\",log_loss(Y_cv, predict_y, labels=clf.classes_, eps=1e-15))\n",
    "predict_y = sig_clf.predict_proba(X_test_merge)\n",
    "print('For values of best alpha = ', alpha[best_alpha], \"The test log loss is:\",log_loss(Y_test, predict_y, labels=clf.classes_, eps=1e-15))\n",
    "misclassified_points(Y_test, sig_clf.predict(X_test_merge))"
   ]
  },
  {
   "cell_type": "markdown",
   "metadata": {},
   "source": [
    "### Logistic Regression with l1 penalty (with class balance)"
   ]
  },
  {
   "cell_type": "code",
   "execution_count": 88,
   "metadata": {},
   "outputs": [
    {
     "name": "stdout",
     "output_type": "stream",
     "text": [
      "for alpha = 1e-07\n",
      "Log Loss : 0.27197598847234206\n",
      "for alpha = 1e-06\n",
      "Log Loss : 0.26315066597815573\n",
      "for alpha = 1e-05\n",
      "Log Loss : 0.2394194993903096\n",
      "for alpha = 0.0001\n",
      "Log Loss : 0.2156289100409345\n",
      "for alpha = 0.001\n",
      "Log Loss : 0.20336071029222963\n",
      "for alpha = 0.01\n",
      "Log Loss : 0.2111665836080776\n",
      "for alpha = 0.1\n",
      "Log Loss : 0.23166156678750946\n",
      "for alpha = 1\n",
      "Log Loss : 0.30168897255186927\n",
      "for alpha = 10\n",
      "Log Loss : 0.3016889725518692\n",
      "for alpha = 100\n",
      "Log Loss : 0.30168897255186944\n",
      "for alpha = 1000\n",
      "Log Loss : 0.30168897255186944\n"
     ]
    },
    {
     "data": {
      "image/png": "[encoded data removed]",
      "text/plain": [
       "<Figure size 432x288 with 1 Axes>"
      ]
     },
     "metadata": {},
     "output_type": "display_data"
    },
    {
     "name": "stdout",
     "output_type": "stream",
     "text": [
      "For values of best alpha =  0.001 The train log loss is: 0.3016841720881732\n",
      "For values of best alpha =  0.001 The cross validation log loss is: 0.3016889725518692\n",
      "For values of best alpha =  0.001 The test log loss is: 0.3016840995278699\n",
      "Number of misclassified points  8.96313623622496\n"
     ]
    }
   ],
   "source": [
    "alpha = [10**x for x in range(-7, 4)]\n",
    "cv_log_error_array = []\n",
    "for i in alpha:\n",
    "    print(\"for alpha =\", i)\n",
    "    clf = SGDClassifier(alpha=i, penalty='l1', loss='log', random_state=42,class_weight='balanced')\n",
    "    clf.fit(X_train_merge, Y_train)\n",
    "    sig_clf = CalibratedClassifierCV(clf, method=\"sigmoid\")\n",
    "    sig_clf.fit(X_train_merge, Y_train)\n",
    "    sig_clf_probs = sig_clf.predict_proba(X_cv_merge)\n",
    "    cv_log_error_array.append(log_loss(Y_cv, sig_clf_probs, labels=clf.classes_, eps=1e-15))\n",
    "    print(\"Log Loss :\",log_loss(Y_cv, sig_clf_probs)) \n",
    "\n",
    "fig, ax = plt.subplots()\n",
    "ax.plot(alpha, cv_log_error_array,c='g')\n",
    "for i, txt in enumerate(np.round(cv_log_error_array,3)):\n",
    "    ax.annotate((alpha[i],str(txt)), (alpha[i],cv_log_error_array[i]))\n",
    "plt.grid()\n",
    "plt.title(\"Cross Validation Error for each alpha\")\n",
    "plt.xlabel(\"Alpha i's\")\n",
    "plt.ylabel(\"Error measure\")\n",
    "plt.show()\n",
    "\n",
    "\n",
    "best_alpha = np.argmin(cv_log_error_array)\n",
    "clf = SGDClassifier(alpha=i, penalty='l1', loss='log', random_state=42,class_weight='balanced')\n",
    "clf.fit(X_train_merge, Y_train)\n",
    "sig_clf = CalibratedClassifierCV(clf, method=\"sigmoid\")\n",
    "sig_clf.fit(X_train_merge, Y_train)\n",
    "\n",
    "predict_y = sig_clf.predict_proba(X_train_merge)\n",
    "print('For values of best alpha = ', alpha[best_alpha], \"The train log loss is:\",log_loss(Y_train, predict_y, labels=clf.classes_, eps=1e-15))\n",
    "predict_y = sig_clf.predict_proba(X_cv_merge)\n",
    "print('For values of best alpha = ', alpha[best_alpha], \"The cross validation log loss is:\",log_loss(Y_cv, predict_y, labels=clf.classes_, eps=1e-15))\n",
    "predict_y = sig_clf.predict_proba(X_test_merge)\n",
    "print('For values of best alpha = ', alpha[best_alpha], \"The test log loss is:\",log_loss(Y_test, predict_y, labels=clf.classes_, eps=1e-15))\n",
    "misclassified_points(Y_test, sig_clf.predict(X_test_merge))"
   ]
  },
  {
   "cell_type": "markdown",
   "metadata": {},
   "source": [
    "### Logistic Regression with l2 penalty (without class balance)"
   ]
  },
  {
   "cell_type": "code",
   "execution_count": 89,
   "metadata": {},
   "outputs": [
    {
     "name": "stdout",
     "output_type": "stream",
     "text": [
      "for alpha = 1e-07\n",
      "Log Loss : 0.2105082175694251\n",
      "for alpha = 1e-06\n",
      "Log Loss : 0.19620424417742433\n",
      "for alpha = 1e-05\n",
      "Log Loss : 0.19649982020168968\n",
      "for alpha = 0.0001\n",
      "Log Loss : 0.19659166623220548\n",
      "for alpha = 0.001\n",
      "Log Loss : 0.19847672289624615\n",
      "for alpha = 0.01\n",
      "Log Loss : 0.20331280766391385\n",
      "for alpha = 0.1\n",
      "Log Loss : 0.2064340233857327\n",
      "for alpha = 1\n",
      "Log Loss : 0.21157849076999277\n",
      "for alpha = 10\n",
      "Log Loss : 0.21347334729978149\n",
      "for alpha = 100\n",
      "Log Loss : 0.2137292094344189\n",
      "for alpha = 1000\n",
      "Log Loss : 0.21375553694346036\n"
     ]
    },
    {
     "data": {
      "image/png": "[encoded data removed]",
      "text/plain": [
       "<Figure size 432x288 with 1 Axes>"
      ]
     },
     "metadata": {},
     "output_type": "display_data"
    },
    {
     "name": "stdout",
     "output_type": "stream",
     "text": [
      "For values of best alpha =  1e-06 The train log loss is: 0.21332534750859208\n",
      "For values of best alpha =  1e-06 The cross validation log loss is: 0.21347334729978149\n",
      "For values of best alpha =  1e-06 The test log loss is: 0.2140415286287361\n",
      "Number of misclassified points  6.0500838264626555\n"
     ]
    }
   ],
   "source": [
    "alpha = [10**x for x in range(-7, 4)]\n",
    "cv_log_error_array = []\n",
    "for i in alpha:\n",
    "    print(\"for alpha =\", i)\n",
    "    clf = SGDClassifier(alpha=i, penalty='l2', loss='log', random_state=42)\n",
    "    clf.fit(X_train_merge, Y_train)\n",
    "    sig_clf = CalibratedClassifierCV(clf, method=\"sigmoid\")\n",
    "    sig_clf.fit(X_train_merge, Y_train)\n",
    "    sig_clf_probs = sig_clf.predict_proba(X_cv_merge)\n",
    "    cv_log_error_array.append(log_loss(Y_cv, sig_clf_probs, labels=clf.classes_, eps=1e-15))\n",
    "    print(\"Log Loss :\",log_loss(Y_cv, sig_clf_probs)) \n",
    "\n",
    "fig, ax = plt.subplots()\n",
    "ax.plot(alpha, cv_log_error_array,c='g')\n",
    "for i, txt in enumerate(np.round(cv_log_error_array,3)):\n",
    "    ax.annotate((alpha[i],str(txt)), (alpha[i],cv_log_error_array[i]))\n",
    "plt.grid()\n",
    "plt.title(\"Cross Validation Error for each alpha\")\n",
    "plt.xlabel(\"Alpha i's\")\n",
    "plt.ylabel(\"Error measure\")\n",
    "plt.show()\n",
    "\n",
    "\n",
    "best_alpha = np.argmin(cv_log_error_array)\n",
    "clf = SGDClassifier(alpha=i, penalty='l2', loss='log', random_state=42)\n",
    "clf.fit(X_train_merge, Y_train)\n",
    "sig_clf = CalibratedClassifierCV(clf, method=\"sigmoid\")\n",
    "sig_clf.fit(X_train_merge, Y_train)\n",
    "\n",
    "predict_y = sig_clf.predict_proba(X_train_merge)\n",
    "print('For values of best alpha = ', alpha[best_alpha], \"The train log loss is:\",log_loss(Y_train, predict_y, labels=clf.classes_, eps=1e-15))\n",
    "predict_y = sig_clf.predict_proba(X_cv_merge)\n",
    "print('For values of best alpha = ', alpha[best_alpha], \"The cross validation log loss is:\",log_loss(Y_cv, predict_y, labels=clf.classes_, eps=1e-15))\n",
    "predict_y = sig_clf.predict_proba(X_test_merge)\n",
    "print('For values of best alpha = ', alpha[best_alpha], \"The test log loss is:\",log_loss(Y_test, predict_y, labels=clf.classes_, eps=1e-15))\n",
    "misclassified_points(Y_test, sig_clf.predict(X_test_merge))"
   ]
  },
  {
   "cell_type": "markdown",
   "metadata": {},
   "source": [
    "### Logistic Regression with l1 penalty (without class balance)"
   ]
  },
  {
   "cell_type": "code",
   "execution_count": 90,
   "metadata": {},
   "outputs": [
    {
     "name": "stdout",
     "output_type": "stream",
     "text": [
      "for alpha = 1e-07\n",
      "Log Loss : 0.2379382460911227\n",
      "for alpha = 1e-06\n",
      "Log Loss : 0.21124736656343274\n",
      "for alpha = 1e-05\n",
      "Log Loss : 0.195112149796236\n",
      "for alpha = 0.0001\n",
      "Log Loss : 0.19642570675191026\n",
      "for alpha = 0.001\n",
      "Log Loss : 0.19993730730539436\n",
      "for alpha = 0.01\n",
      "Log Loss : 0.2071696137205371\n",
      "for alpha = 0.1\n",
      "Log Loss : 0.22584673387275692\n",
      "for alpha = 1\n",
      "Log Loss : 0.3016889725518693\n",
      "for alpha = 10\n",
      "Log Loss : 0.30168897255186927\n",
      "for alpha = 100\n",
      "Log Loss : 0.3016889725518692\n",
      "for alpha = 1000\n",
      "Log Loss : 0.30168897255186944\n"
     ]
    },
    {
     "data": {
      "image/png": "[encoded data removed]",
      "text/plain": [
       "<Figure size 432x288 with 1 Axes>"
      ]
     },
     "metadata": {},
     "output_type": "display_data"
    },
    {
     "name": "stdout",
     "output_type": "stream",
     "text": [
      "For values of best alpha =  1e-05 The train log loss is: 0.30168417208817333\n",
      "For values of best alpha =  1e-05 The cross validation log loss is: 0.30168897255186927\n",
      "For values of best alpha =  1e-05 The test log loss is: 0.30168409952787006\n",
      "Number of misclassified points  8.96313623622496\n"
     ]
    }
   ],
   "source": [
    "alpha = [10**x for x in range(-7, 4)]\n",
    "cv_log_error_array = []\n",
    "for i in alpha:\n",
    "    print(\"for alpha =\", i)\n",
    "    clf = SGDClassifier(alpha=i, penalty='l1', loss='log', random_state=42)\n",
    "    clf.fit(X_train_merge, Y_train)\n",
    "    sig_clf = CalibratedClassifierCV(clf, method=\"sigmoid\")\n",
    "    sig_clf.fit(X_train_merge, Y_train)\n",
    "    sig_clf_probs = sig_clf.predict_proba(X_cv_merge)\n",
    "    cv_log_error_array.append(log_loss(Y_cv, sig_clf_probs, labels=clf.classes_, eps=1e-15))\n",
    "    print(\"Log Loss :\",log_loss(Y_cv, sig_clf_probs)) \n",
    "\n",
    "fig, ax = plt.subplots()\n",
    "ax.plot(alpha, cv_log_error_array,c='g')\n",
    "for i, txt in enumerate(np.round(cv_log_error_array,3)):\n",
    "    ax.annotate((alpha[i],str(txt)), (alpha[i],cv_log_error_array[i]))\n",
    "plt.grid()\n",
    "plt.title(\"Cross Validation Error for each alpha\")\n",
    "plt.xlabel(\"Alpha i's\")\n",
    "plt.ylabel(\"Error measure\")\n",
    "plt.show()\n",
    "\n",
    "\n",
    "best_alpha = np.argmin(cv_log_error_array)\n",
    "clf = SGDClassifier(alpha=i, penalty='l1', loss='log', random_state=42)\n",
    "clf.fit(X_train_merge, Y_train)\n",
    "sig_clf = CalibratedClassifierCV(clf, method=\"sigmoid\")\n",
    "sig_clf.fit(X_train_merge, Y_train)\n",
    "\n",
    "predict_y = sig_clf.predict_proba(X_train_merge)\n",
    "print('For values of best alpha = ', alpha[best_alpha], \"The train log loss is:\",log_loss(Y_train, predict_y, labels=clf.classes_, eps=1e-15))\n",
    "predict_y = sig_clf.predict_proba(X_cv_merge)\n",
    "print('For values of best alpha = ', alpha[best_alpha], \"The cross validation log loss is:\",log_loss(Y_cv, predict_y, labels=clf.classes_, eps=1e-15))\n",
    "predict_y = sig_clf.predict_proba(X_test_merge)\n",
    "print('For values of best alpha = ', alpha[best_alpha], \"The test log loss is:\",log_loss(Y_test, predict_y, labels=clf.classes_, eps=1e-15))\n",
    "misclassified_points(Y_test, sig_clf.predict(X_test_merge))"
   ]
  },
  {
   "cell_type": "markdown",
   "metadata": {},
   "source": [
    "### SVM with l2 penalty (with class balance)"
   ]
  },
  {
   "cell_type": "code",
   "execution_count": 91,
   "metadata": {},
   "outputs": [
    {
     "name": "stdout",
     "output_type": "stream",
     "text": [
      "for alpha = 1e-07\n",
      "Log Loss : 0.20884500666909317\n",
      "for alpha = 1e-06\n",
      "Log Loss : 0.2011878067926459\n",
      "for alpha = 1e-05\n",
      "Log Loss : 0.1982557928619149\n",
      "for alpha = 0.0001\n",
      "Log Loss : 0.19923402025362444\n",
      "for alpha = 0.001\n",
      "Log Loss : 0.20197016917971375\n",
      "for alpha = 0.01\n",
      "Log Loss : 0.20732989787366998\n",
      "for alpha = 0.1\n",
      "Log Loss : 0.21368641719782594\n",
      "for alpha = 1\n",
      "Log Loss : 0.22792626653754441\n",
      "for alpha = 10\n",
      "Log Loss : 0.22006548481442936\n",
      "for alpha = 100\n",
      "Log Loss : 0.22043580466041177\n",
      "for alpha = 1000\n",
      "Log Loss : 0.2204358050323445\n"
     ]
    },
    {
     "data": {
      "image/png": "[encoded data removed]",
      "text/plain": [
       "<Figure size 432x288 with 1 Axes>"
      ]
     },
     "metadata": {},
     "output_type": "display_data"
    },
    {
     "name": "stdout",
     "output_type": "stream",
     "text": [
      "For values of best alpha =  1e-05 The train log loss is: 0.2198512903408357\n",
      "For values of best alpha =  1e-05 The cross validation log loss is: 0.22006548481442936\n",
      "For values of best alpha =  1e-05 The test log loss is: 0.22079300108797295\n",
      "Number of misclassified points  6.330388915027135\n"
     ]
    }
   ],
   "source": [
    "alpha = [10**x for x in range(-7, 4)]\n",
    "cv_log_error_array = []\n",
    "for i in alpha:\n",
    "    print(\"for alpha =\", i)\n",
    "    clf = SGDClassifier(alpha=i, penalty='l2', loss='hinge', random_state=42,class_weight='balanced')\n",
    "    clf.fit(X_train_merge, Y_train)\n",
    "    sig_clf = CalibratedClassifierCV(clf, method=\"sigmoid\")\n",
    "    sig_clf.fit(X_train_merge, Y_train)\n",
    "    sig_clf_probs = sig_clf.predict_proba(X_cv_merge)\n",
    "    cv_log_error_array.append(log_loss(Y_cv, sig_clf_probs, labels=clf.classes_, eps=1e-15))\n",
    "    print(\"Log Loss :\",log_loss(Y_cv, sig_clf_probs)) \n",
    "\n",
    "fig, ax = plt.subplots()\n",
    "ax.plot(alpha, cv_log_error_array,c='g')\n",
    "for i, txt in enumerate(np.round(cv_log_error_array,3)):\n",
    "    ax.annotate((alpha[i],str(txt)), (alpha[i],cv_log_error_array[i]))\n",
    "plt.grid()\n",
    "plt.title(\"Cross Validation Error for each alpha\")\n",
    "plt.xlabel(\"Alpha i's\")\n",
    "plt.ylabel(\"Error measure\")\n",
    "plt.show()\n",
    "\n",
    "\n",
    "best_alpha = np.argmin(cv_log_error_array)\n",
    "clf = SGDClassifier(alpha=i, penalty='l2', loss='hinge', random_state=42,class_weight='balanced')\n",
    "clf.fit(X_train_merge, Y_train)\n",
    "sig_clf = CalibratedClassifierCV(clf, method=\"sigmoid\")\n",
    "sig_clf.fit(X_train_merge, Y_train)\n",
    "\n",
    "predict_y = sig_clf.predict_proba(X_train_merge)\n",
    "print('For values of best alpha = ', alpha[best_alpha], \"The train log loss is:\",log_loss(Y_train, predict_y, labels=clf.classes_, eps=1e-15))\n",
    "predict_y = sig_clf.predict_proba(X_cv_merge)\n",
    "print('For values of best alpha = ', alpha[best_alpha], \"The cross validation log loss is:\",log_loss(Y_cv, predict_y, labels=clf.classes_, eps=1e-15))\n",
    "predict_y = sig_clf.predict_proba(X_test_merge)\n",
    "print('For values of best alpha = ', alpha[best_alpha], \"The test log loss is:\",log_loss(Y_test, predict_y, labels=clf.classes_, eps=1e-15))\n",
    "misclassified_points(Y_test, sig_clf.predict(X_test_merge))"
   ]
  },
  {
   "cell_type": "markdown",
   "metadata": {},
   "source": [
    "### SVM with l1 penalty (with class balance)"
   ]
  },
  {
   "cell_type": "code",
   "execution_count": 92,
   "metadata": {},
   "outputs": [
    {
     "name": "stdout",
     "output_type": "stream",
     "text": [
      "for alpha = 1e-07\n",
      "Log Loss : 0.25641081788576336\n",
      "for alpha = 1e-06\n",
      "Log Loss : 0.2638853760251815\n",
      "for alpha = 1e-05\n",
      "Log Loss : 0.24017002936638202\n",
      "for alpha = 0.0001\n",
      "Log Loss : 0.21717318909634176\n",
      "for alpha = 0.001\n",
      "Log Loss : 0.20750185656466022\n",
      "for alpha = 0.01\n",
      "Log Loss : 0.21046539566628655\n",
      "for alpha = 0.1\n",
      "Log Loss : 0.23325667482131876\n",
      "for alpha = 1\n",
      "Log Loss : 0.3016889725518692\n",
      "for alpha = 10\n",
      "Log Loss : 0.3016889725518693\n",
      "for alpha = 100\n",
      "Log Loss : 0.3016889725518692\n",
      "for alpha = 1000\n",
      "Log Loss : 0.3016889725518692\n"
     ]
    },
    {
     "data": {
      "image/png": "[encoded data removed]",
      "text/plain": [
       "<Figure size 432x288 with 1 Axes>"
      ]
     },
     "metadata": {},
     "output_type": "display_data"
    },
    {
     "name": "stdout",
     "output_type": "stream",
     "text": [
      "For values of best alpha =  0.001 The train log loss is: 0.3016841720881734\n",
      "For values of best alpha =  0.001 The cross validation log loss is: 0.3016889725518693\n",
      "For values of best alpha =  0.001 The test log loss is: 0.3016840995278701\n",
      "Number of misclassified points  8.96313623622496\n"
     ]
    }
   ],
   "source": [
    "alpha = [10**x for x in range(-7, 4)]\n",
    "cv_log_error_array = []\n",
    "for i in alpha:\n",
    "    print(\"for alpha =\", i)\n",
    "    clf = SGDClassifier(alpha=i, penalty='l1', loss='hinge', random_state=42,class_weight='balanced')\n",
    "    clf.fit(X_train_merge, Y_train)\n",
    "    sig_clf = CalibratedClassifierCV(clf, method=\"sigmoid\")\n",
    "    sig_clf.fit(X_train_merge, Y_train)\n",
    "    sig_clf_probs = sig_clf.predict_proba(X_cv_merge)\n",
    "    cv_log_error_array.append(log_loss(Y_cv, sig_clf_probs, labels=clf.classes_, eps=1e-15))\n",
    "    print(\"Log Loss :\",log_loss(Y_cv, sig_clf_probs)) \n",
    "\n",
    "fig, ax = plt.subplots()\n",
    "ax.plot(alpha, cv_log_error_array,c='g')\n",
    "for i, txt in enumerate(np.round(cv_log_error_array,3)):\n",
    "    ax.annotate((alpha[i],str(txt)), (alpha[i],cv_log_error_array[i]))\n",
    "plt.grid()\n",
    "plt.title(\"Cross Validation Error for each alpha\")\n",
    "plt.xlabel(\"Alpha i's\")\n",
    "plt.ylabel(\"Error measure\")\n",
    "plt.show()\n",
    "\n",
    "\n",
    "best_alpha = np.argmin(cv_log_error_array)\n",
    "clf = SGDClassifier(alpha=i, penalty='l1', loss='hinge', random_state=42,class_weight='balanced')\n",
    "clf.fit(X_train_merge, Y_train)\n",
    "sig_clf = CalibratedClassifierCV(clf, method=\"sigmoid\")\n",
    "sig_clf.fit(X_train_merge, Y_train)\n",
    "\n",
    "predict_y = sig_clf.predict_proba(X_train_merge)\n",
    "print('For values of best alpha = ', alpha[best_alpha], \"The train log loss is:\",log_loss(Y_train, predict_y, labels=clf.classes_, eps=1e-15))\n",
    "predict_y = sig_clf.predict_proba(X_cv_merge)\n",
    "print('For values of best alpha = ', alpha[best_alpha], \"The cross validation log loss is:\",log_loss(Y_cv, predict_y, labels=clf.classes_, eps=1e-15))\n",
    "predict_y = sig_clf.predict_proba(X_test_merge)\n",
    "print('For values of best alpha = ', alpha[best_alpha], \"The test log loss is:\",log_loss(Y_test, predict_y, labels=clf.classes_, eps=1e-15))\n",
    "misclassified_points(Y_test, sig_clf.predict(X_test_merge))"
   ]
  },
  {
   "cell_type": "markdown",
   "metadata": {},
   "source": [
    "### SVM with l2 penalty (without class balance)"
   ]
  },
  {
   "cell_type": "code",
   "execution_count": 93,
   "metadata": {},
   "outputs": [
    {
     "name": "stdout",
     "output_type": "stream",
     "text": [
      "for alpha = 1e-07\n",
      "Log Loss : 0.20858422690527365\n",
      "for alpha = 1e-06\n",
      "Log Loss : 0.21011461403592696\n",
      "for alpha = 1e-05\n",
      "Log Loss : 0.21477596769412338\n",
      "for alpha = 0.0001\n",
      "Log Loss : 0.22172711751358803\n",
      "for alpha = 0.001\n",
      "Log Loss : 0.2248027409631247\n",
      "for alpha = 0.01\n",
      "Log Loss : 0.2270514875820985\n",
      "for alpha = 0.1\n",
      "Log Loss : 0.22897129854894058\n",
      "for alpha = 1\n",
      "Log Loss : 0.22466307537327387\n",
      "for alpha = 10\n",
      "Log Loss : 0.21375823444601\n",
      "for alpha = 100\n",
      "Log Loss : 0.2137582242388131\n",
      "for alpha = 1000\n",
      "Log Loss : 0.21375822263478822\n"
     ]
    },
    {
     "data": {
      "image/png": "[encoded data removed]",
      "text/plain": [
       "<Figure size 432x288 with 1 Axes>"
      ]
     },
     "metadata": {},
     "output_type": "display_data"
    },
    {
     "name": "stdout",
     "output_type": "stream",
     "text": [
      "For values of best alpha =  1e-07 The train log loss is: 0.2136020778863768\n",
      "For values of best alpha =  1e-07 The cross validation log loss is: 0.21375823444601\n",
      "For values of best alpha =  1e-07 The test log loss is: 0.2143279877806894\n",
      "Number of misclassified points  6.050746486246497\n"
     ]
    }
   ],
   "source": [
    "alpha = [10**x for x in range(-7, 4)]\n",
    "cv_log_error_array = []\n",
    "for i in alpha:\n",
    "    print(\"for alpha =\", i)\n",
    "    clf = SGDClassifier(alpha=i, penalty='l2', loss='hinge', random_state=42)\n",
    "    clf.fit(X_train_merge, Y_train)\n",
    "    sig_clf = CalibratedClassifierCV(clf, method=\"sigmoid\")\n",
    "    sig_clf.fit(X_train_merge, Y_train)\n",
    "    sig_clf_probs = sig_clf.predict_proba(X_cv_merge)\n",
    "    cv_log_error_array.append(log_loss(Y_cv, sig_clf_probs, labels=clf.classes_, eps=1e-15))\n",
    "    print(\"Log Loss :\",log_loss(Y_cv, sig_clf_probs)) \n",
    "\n",
    "fig, ax = plt.subplots()\n",
    "ax.plot(alpha, cv_log_error_array,c='g')\n",
    "for i, txt in enumerate(np.round(cv_log_error_array,3)):\n",
    "    ax.annotate((alpha[i],str(txt)), (alpha[i],cv_log_error_array[i]))\n",
    "plt.grid()\n",
    "plt.title(\"Cross Validation Error for each alpha\")\n",
    "plt.xlabel(\"Alpha i's\")\n",
    "plt.ylabel(\"Error measure\")\n",
    "plt.show()\n",
    "\n",
    "\n",
    "best_alpha = np.argmin(cv_log_error_array)\n",
    "clf = SGDClassifier(alpha=i, penalty='l2', loss='hinge', random_state=42)\n",
    "clf.fit(X_train_merge, Y_train)\n",
    "sig_clf = CalibratedClassifierCV(clf, method=\"sigmoid\")\n",
    "sig_clf.fit(X_train_merge, Y_train)\n",
    "\n",
    "predict_y = sig_clf.predict_proba(X_train_merge)\n",
    "print('For values of best alpha = ', alpha[best_alpha], \"The train log loss is:\",log_loss(Y_train, predict_y, labels=clf.classes_, eps=1e-15))\n",
    "predict_y = sig_clf.predict_proba(X_cv_merge)\n",
    "print('For values of best alpha = ', alpha[best_alpha], \"The cross validation log loss is:\",log_loss(Y_cv, predict_y, labels=clf.classes_, eps=1e-15))\n",
    "predict_y = sig_clf.predict_proba(X_test_merge)\n",
    "print('For values of best alpha = ', alpha[best_alpha], \"The test log loss is:\",log_loss(Y_test, predict_y, labels=clf.classes_, eps=1e-15))\n",
    "misclassified_points(Y_test, sig_clf.predict(X_test_merge))"
   ]
  },
  {
   "cell_type": "markdown",
   "metadata": {},
   "source": [
    "### SVM with l1 penalty (without class balance)"
   ]
  },
  {
   "cell_type": "code",
   "execution_count": 94,
   "metadata": {},
   "outputs": [
    {
     "name": "stdout",
     "output_type": "stream",
     "text": [
      "for alpha = 1e-07\n",
      "Log Loss : 0.2568548084115286\n",
      "for alpha = 1e-06\n",
      "Log Loss : 0.23550670575858831\n",
      "for alpha = 1e-05\n",
      "Log Loss : 0.21854778485284154\n",
      "for alpha = 0.0001\n",
      "Log Loss : 0.22198526705927396\n",
      "for alpha = 0.001\n",
      "Log Loss : 0.22586481938224684\n",
      "for alpha = 0.01\n",
      "Log Loss : 0.22491457228395254\n",
      "for alpha = 0.1\n",
      "Log Loss : 0.22384725556666293\n",
      "for alpha = 1\n",
      "Log Loss : 0.30168897255186944\n",
      "for alpha = 10\n",
      "Log Loss : 0.30168897255186927\n",
      "for alpha = 100\n",
      "Log Loss : 0.3016889725518694\n",
      "for alpha = 1000\n",
      "Log Loss : 0.3016889725518692\n"
     ]
    },
    {
     "data": {
      "image/png": "[encoded data removed]",
      "text/plain": [
       "<Figure size 432x288 with 1 Axes>"
      ]
     },
     "metadata": {},
     "output_type": "display_data"
    },
    {
     "name": "stdout",
     "output_type": "stream",
     "text": [
      "For values of best alpha =  1e-05 The train log loss is: 0.30168417208817333\n",
      "For values of best alpha =  1e-05 The cross validation log loss is: 0.30168897255186927\n",
      "For values of best alpha =  1e-05 The test log loss is: 0.30168409952787\n",
      "Number of misclassified points  8.96313623622496\n"
     ]
    }
   ],
   "source": [
    "alpha = [10**x for x in range(-7, 4)]\n",
    "cv_log_error_array = []\n",
    "for i in alpha:\n",
    "    print(\"for alpha =\", i)\n",
    "    clf = SGDClassifier(alpha=i, penalty='l1', loss='hinge', random_state=42)\n",
    "    clf.fit(X_train_merge, Y_train)\n",
    "    sig_clf = CalibratedClassifierCV(clf, method=\"sigmoid\")\n",
    "    sig_clf.fit(X_train_merge, Y_train)\n",
    "    sig_clf_probs = sig_clf.predict_proba(X_cv_merge)\n",
    "    cv_log_error_array.append(log_loss(Y_cv, sig_clf_probs, labels=clf.classes_, eps=1e-15))\n",
    "    print(\"Log Loss :\",log_loss(Y_cv, sig_clf_probs)) \n",
    "\n",
    "fig, ax = plt.subplots()\n",
    "ax.plot(alpha, cv_log_error_array,c='g')\n",
    "for i, txt in enumerate(np.round(cv_log_error_array,3)):\n",
    "    ax.annotate((alpha[i],str(txt)), (alpha[i],cv_log_error_array[i]))\n",
    "plt.grid()\n",
    "plt.title(\"Cross Validation Error for each alpha\")\n",
    "plt.xlabel(\"Alpha i's\")\n",
    "plt.ylabel(\"Error measure\")\n",
    "plt.show()\n",
    "\n",
    "\n",
    "best_alpha = np.argmin(cv_log_error_array)\n",
    "clf = SGDClassifier(alpha=i, penalty='l1', loss='hinge', random_state=42)\n",
    "clf.fit(X_train_merge, Y_train)\n",
    "sig_clf = CalibratedClassifierCV(clf, method=\"sigmoid\")\n",
    "sig_clf.fit(X_train_merge, Y_train)\n",
    "\n",
    "predict_y = sig_clf.predict_proba(X_train_merge)\n",
    "print('For values of best alpha = ', alpha[best_alpha], \"The train log loss is:\",log_loss(Y_train, predict_y, labels=clf.classes_, eps=1e-15))\n",
    "predict_y = sig_clf.predict_proba(X_cv_merge)\n",
    "print('For values of best alpha = ', alpha[best_alpha], \"The cross validation log loss is:\",log_loss(Y_cv, predict_y, labels=clf.classes_, eps=1e-15))\n",
    "predict_y = sig_clf.predict_proba(X_test_merge)\n",
    "print('For values of best alpha = ', alpha[best_alpha], \"The test log loss is:\",log_loss(Y_test, predict_y, labels=clf.classes_, eps=1e-15))\n",
    "misclassified_points(Y_test, sig_clf.predict(X_test_merge))"
   ]
  },
  {
   "cell_type": "markdown",
   "metadata": {},
   "source": [
    "### Light GBM with Class Balance"
   ]
  },
  {
   "cell_type": "code",
   "execution_count": 95,
   "metadata": {},
   "outputs": [],
   "source": [
    "import lightgbm as lgb\n",
    "from lightgbm import LGBMClassifier"
   ]
  },
  {
   "cell_type": "code",
   "execution_count": 96,
   "metadata": {
    "scrolled": true
   },
   "outputs": [
    {
     "name": "stdout",
     "output_type": "stream",
     "text": [
      "Fitting 5 folds for each of 10 candidates, totalling 50 fits\n"
     ]
    },
    {
     "name": "stderr",
     "output_type": "stream",
     "text": [
      "[Parallel(n_jobs=-1)]: Using backend LokyBackend with 4 concurrent workers.\n",
      "[Parallel(n_jobs=-1)]: Done   5 tasks      | elapsed:  3.6min\n",
      "[Parallel(n_jobs=-1)]: Done  10 tasks      | elapsed:  5.2min\n",
      "[Parallel(n_jobs=-1)]: Done  17 tasks      | elapsed: 34.1min\n",
      "[Parallel(n_jobs=-1)]: Done  24 tasks      | elapsed: 72.5min\n",
      "[Parallel(n_jobs=-1)]: Done  33 tasks      | elapsed: 84.3min\n",
      "[Parallel(n_jobs=-1)]: Done  42 tasks      | elapsed: 91.8min\n",
      "[Parallel(n_jobs=-1)]: Done  50 out of  50 | elapsed: 99.0min finished\n"
     ]
    },
    {
     "data": {
      "text/plain": [
       "RandomizedSearchCV(cv=5, error_score=nan,\n",
       "                   estimator=LGBMClassifier(boosting_type='gbdt',\n",
       "                                            class_weight='balanced',\n",
       "                                            colsample_bytree=1.0,\n",
       "                                            eval_metric='logloss',\n",
       "                                            importance_type='split',\n",
       "                                            learning_rate=0.1, max_depth=-1,\n",
       "                                            min_child_samples=20,\n",
       "                                            min_child_weight=0.001,\n",
       "                                            min_split_gain=0.0,\n",
       "                                            n_estimators=100, n_jobs=-1,\n",
       "                                            num_leaves=31, objective='binary',\n",
       "                                            random_state=None, r...\n",
       "                                        'learning_rate': [0.01, 0.03, 0.05, 0.1,\n",
       "                                                          0.15, 0.2, 0.001,\n",
       "                                                          0.005, 0.0001,\n",
       "                                                          0.0005],\n",
       "                                        'max_depth': [3, 5, 7, 10, 15, 25, 50,\n",
       "                                                      70, 85, 100],\n",
       "                                        'n_estimators': [100, 200, 500, 1000,\n",
       "                                                         2000, 3500, 5000,\n",
       "                                                         7000],\n",
       "                                        'num_leaves ': [31, 51, 71, 100, 200,\n",
       "                                                        500, 750, 1000, 1500,\n",
       "                                                        2000, 2500, 3000, 3500,\n",
       "                                                        4000],\n",
       "                                        'subsample': [0.1, 0.3, 0.5, 1]},\n",
       "                   pre_dispatch='2*n_jobs', random_state=None, refit=True,\n",
       "                   return_train_score=True, scoring='neg_log_loss', verbose=10)"
      ]
     },
     "execution_count": 96,
     "metadata": {},
     "output_type": "execute_result"
    }
   ],
   "source": [
    "x_cfl=LGBMClassifier(objective = 'binary', eval_metric = 'logloss',class_weight='balanced')\n",
    "\n",
    "prams={\n",
    "    'learning_rate':[0.01,0.03,0.05,0.1,0.15,0.2,0.001,0.005,0.0001,0.0005],\n",
    "     'n_estimators':[100,200,500,1000,2000,3500,5000,7000],\n",
    "     'max_depth':[3,5,7,10,15,25,50,70,85,100],\n",
    "    'colsample_bytree':[0.1,0.3,0.5,1],\n",
    "    'subsample':[0.1,0.3,0.5,1],\n",
    "    'num_leaves ':[31,51,71,100,200,500,750,1000,1500,2000,2500,3000,3500,4000],\n",
    "    'feature_fraction': [0.1,0.2,0.3,0.4,0.5,0.6,0.7,0.8,0.9]\n",
    "}\n",
    "random_cfl=RandomizedSearchCV(x_cfl,param_distributions=prams,verbose=10,return_train_score=True,scoring = \"neg_log_loss\",n_jobs=-1,\n",
    "                             cv=5)\n",
    "random_cfl.fit(X_train_merge,Y_train)"
   ]
  },
  {
   "cell_type": "code",
   "execution_count": 98,
   "metadata": {},
   "outputs": [
    {
     "name": "stdout",
     "output_type": "stream",
     "text": [
      "{'subsample': 0.3, 'num_leaves ': 1500, 'n_estimators': 1000, 'max_depth': 5, 'learning_rate': 0.2, 'feature_fraction': 0.2, 'colsample_bytree': 0.5}\n"
     ]
    }
   ],
   "source": [
    "print (random_cfl.best_params_)"
   ]
  },
  {
   "cell_type": "code",
   "execution_count": 99,
   "metadata": {},
   "outputs": [
    {
     "data": {
      "text/plain": [
       "CalibratedClassifierCV(base_estimator=LGBMClassifier(boosting_type='gbdt',\n",
       "                                                     class_weight='balanced',\n",
       "                                                     colsample_bytree=0.5,\n",
       "                                                     eval_metric='logloss',\n",
       "                                                     feature_fraction=0.2,\n",
       "                                                     importance_type='split',\n",
       "                                                     learning_rate=0.2,\n",
       "                                                     max_depth=5,\n",
       "                                                     min_child_samples=20,\n",
       "                                                     min_child_weight=0.001,\n",
       "                                                     min_split_gain=0.0,\n",
       "                                                     n_estimators=1000,\n",
       "                                                     n_jobs=-1, num_leaves=1500,\n",
       "                                                     objective='binary',\n",
       "                                                     random_state=None,\n",
       "                                                     reg_alpha=0.0,\n",
       "                                                     reg_lambda=0.0,\n",
       "                                                     silent=True, subsample=0.3,\n",
       "                                                     subsample_for_bin=200000,\n",
       "                                                     subsample_freq=0),\n",
       "                       cv=None, method='sigmoid')"
      ]
     },
     "execution_count": 99,
     "metadata": {},
     "output_type": "execute_result"
    }
   ],
   "source": [
    "x_cfl=LGBMClassifier(objective ='binary', eval_metric = 'logloss',class_weight='balanced',subsample=0.3,num_leaves =1500,\n",
    "                    n_estimators=1000,max_depth=5,learning_rate=0.2,colsample_bytree=0.5,feature_fraction=0.2)\n",
    "x_cfl.fit(X_train_merge,Y_train)\n",
    "c_cfl=CalibratedClassifierCV(x_cfl,method='sigmoid')\n",
    "c_cfl.fit(X_train_merge,Y_train)"
   ]
  },
  {
   "cell_type": "code",
   "execution_count": 100,
   "metadata": {},
   "outputs": [
    {
     "name": "stdout",
     "output_type": "stream",
     "text": [
      "train loss 0.13059710340514294\n",
      "cv loss 0.16021901509061195\n",
      "test loss 0.161853181247459\n"
     ]
    }
   ],
   "source": [
    "predict_y = c_cfl.predict_proba(X_train_merge)\n",
    "print ('train loss',log_loss(Y_train, predict_y))\n",
    "predict_y = c_cfl.predict_proba(X_cv_merge)\n",
    "print ('cv loss',log_loss(Y_cv, predict_y))\n",
    "predict_y = c_cfl.predict_proba(X_test_merge)\n",
    "print ('test loss',log_loss(Y_test, predict_y))"
   ]
  },
  {
   "cell_type": "markdown",
   "metadata": {},
   "source": [
    "### Light GBM without Class Balance"
   ]
  },
  {
   "cell_type": "code",
   "execution_count": 101,
   "metadata": {},
   "outputs": [
    {
     "name": "stdout",
     "output_type": "stream",
     "text": [
      "Fitting 5 folds for each of 10 candidates, totalling 50 fits\n"
     ]
    },
    {
     "name": "stderr",
     "output_type": "stream",
     "text": [
      "[Parallel(n_jobs=-1)]: Using backend LokyBackend with 4 concurrent workers.\n",
      "[Parallel(n_jobs=-1)]: Done   5 tasks      | elapsed:  1.6min\n",
      "[Parallel(n_jobs=-1)]: Done  10 tasks      | elapsed:  2.5min\n",
      "[Parallel(n_jobs=-1)]: Done  17 tasks      | elapsed: 44.0min\n",
      "[Parallel(n_jobs=-1)]: Done  24 tasks      | elapsed: 112.3min\n",
      "[Parallel(n_jobs=-1)]: Done  33 tasks      | elapsed: 160.9min\n",
      "[Parallel(n_jobs=-1)]: Done  42 tasks      | elapsed: 198.7min\n",
      "[Parallel(n_jobs=-1)]: Done  50 out of  50 | elapsed: 213.5min finished\n"
     ]
    },
    {
     "data": {
      "text/plain": [
       "RandomizedSearchCV(cv=5, error_score=nan,\n",
       "                   estimator=LGBMClassifier(boosting_type='gbdt',\n",
       "                                            class_weight=None,\n",
       "                                            colsample_bytree=1.0,\n",
       "                                            importance_type='split',\n",
       "                                            learning_rate=0.1, max_depth=-1,\n",
       "                                            min_child_samples=20,\n",
       "                                            min_child_weight=0.001,\n",
       "                                            min_split_gain=0.0,\n",
       "                                            n_estimators=100, n_jobs=-1,\n",
       "                                            num_leaves=31, objective=None,\n",
       "                                            random_state=None, reg_alpha=0.0,\n",
       "                                            reg_lambda=0.0, sile...\n",
       "                                        'learning_rate': [0.01, 0.03, 0.05, 0.1,\n",
       "                                                          0.15, 0.2, 0.001,\n",
       "                                                          0.005, 0.0001,\n",
       "                                                          0.0005],\n",
       "                                        'max_depth': [3, 5, 7, 10, 15, 25, 50,\n",
       "                                                      70, 85, 100],\n",
       "                                        'n_estimators': [100, 200, 500, 1000,\n",
       "                                                         2000, 3500, 5000,\n",
       "                                                         7000],\n",
       "                                        'num_leaves ': [31, 51, 71, 100, 200,\n",
       "                                                        500, 750, 1000, 1500,\n",
       "                                                        2000, 2500, 3000, 3500,\n",
       "                                                        4000],\n",
       "                                        'subsample': [0.1, 0.3, 0.5, 1]},\n",
       "                   pre_dispatch='2*n_jobs', random_state=None, refit=True,\n",
       "                   return_train_score=True, scoring='neg_log_loss', verbose=10)"
      ]
     },
     "execution_count": 101,
     "metadata": {},
     "output_type": "execute_result"
    }
   ],
   "source": [
    "x_cfl=LGBMClassifier()\n",
    "\n",
    "prams={\n",
    "    'learning_rate':[0.01,0.03,0.05,0.1,0.15,0.2,0.001,0.005,0.0001,0.0005],\n",
    "     'n_estimators':[100,200,500,1000,2000,3500,5000,7000],\n",
    "     'max_depth':[3,5,7,10,15,25,50,70,85,100],\n",
    "    'colsample_bytree':[0.1,0.3,0.5,1],\n",
    "    'subsample':[0.1,0.3,0.5,1],\n",
    "    'num_leaves ':[31,51,71,100,200,500,750,1000,1500,2000,2500,3000,3500,4000],\n",
    "    'feature_fraction': [0.1,0.2,0.3,0.4,0.5,0.6,0.7,0.8,0.9]\n",
    "\n",
    "}\n",
    "random_cfl=RandomizedSearchCV(x_cfl,param_distributions=prams,verbose=10,return_train_score=True,scoring = \"neg_log_loss\",n_jobs=-1,\n",
    "                             cv=5)\n",
    "random_cfl.fit(X_train_merge,Y_train)"
   ]
  },
  {
   "cell_type": "code",
   "execution_count": 102,
   "metadata": {},
   "outputs": [
    {
     "name": "stdout",
     "output_type": "stream",
     "text": [
      "{'subsample': 0.3, 'num_leaves ': 31, 'n_estimators': 1000, 'max_depth': 70, 'learning_rate': 0.03, 'feature_fraction': 0.7, 'colsample_bytree': 0.1}\n"
     ]
    }
   ],
   "source": [
    "print (random_cfl.best_params_)"
   ]
  },
  {
   "cell_type": "code",
   "execution_count": 103,
   "metadata": {},
   "outputs": [
    {
     "data": {
      "text/plain": [
       "CalibratedClassifierCV(base_estimator=LGBMClassifier(boosting_type='gbdt',\n",
       "                                                     class_weight=None,\n",
       "                                                     colsample_bytree=0.1,\n",
       "                                                     feature_fraction=0.7,\n",
       "                                                     importance_type='split',\n",
       "                                                     learning_rate=0.03,\n",
       "                                                     max_depth=70,\n",
       "                                                     min_child_samples=20,\n",
       "                                                     min_child_weight=0.001,\n",
       "                                                     min_split_gain=0.0,\n",
       "                                                     n_estimators=1000,\n",
       "                                                     n_jobs=-1, num_leaves=31,\n",
       "                                                     objective=None,\n",
       "                                                     random_state=None,\n",
       "                                                     reg_alpha=0.0,\n",
       "                                                     reg_lambda=0.0,\n",
       "                                                     silent=True, subsample=0.3,\n",
       "                                                     subsample_for_bin=200000,\n",
       "                                                     subsample_freq=0),\n",
       "                       cv=None, method='sigmoid')"
      ]
     },
     "execution_count": 103,
     "metadata": {},
     "output_type": "execute_result"
    }
   ],
   "source": [
    "x_cfl=LGBMClassifier(subsample=0.3,num_leaves =31,n_estimators=1000,max_depth=70,learning_rate=0.03,\n",
    "                     colsample_bytree=0.1,feature_fraction=0.7)\n",
    "x_cfl.fit(X_train_merge,Y_train)\n",
    "c_cfl=CalibratedClassifierCV(x_cfl,method='sigmoid')\n",
    "c_cfl.fit(X_train_merge,Y_train)"
   ]
  },
  {
   "cell_type": "code",
   "execution_count": 104,
   "metadata": {},
   "outputs": [
    {
     "name": "stdout",
     "output_type": "stream",
     "text": [
      "train loss 0.15358697139957098\n",
      "cv loss 0.16284991124008388\n",
      "test loss 0.16586360715384366\n"
     ]
    }
   ],
   "source": [
    "predict_y = c_cfl.predict_proba(X_train_merge)\n",
    "print ('train loss',log_loss(Y_train, predict_y))\n",
    "predict_y = c_cfl.predict_proba(X_cv_merge)\n",
    "print ('cv loss',log_loss(Y_cv, predict_y))\n",
    "predict_y = c_cfl.predict_proba(X_test_merge)\n",
    "print ('test loss',log_loss(Y_test, predict_y))"
   ]
  },
  {
   "cell_type": "code",
   "execution_count": null,
   "metadata": {},
   "outputs": [],
   "source": []
  },
  {
   "cell_type": "code",
   "execution_count": null,
   "metadata": {},
   "outputs": [],
   "source": []
  },
  {
   "cell_type": "code",
   "execution_count": 110,
   "metadata": {
    "scrolled": false
   },
   "outputs": [
    {
     "name": "stdout",
     "output_type": "stream",
     "text": [
      "Fitting 5 folds for each of 10 candidates, totalling 50 fits\n"
     ]
    },
    {
     "name": "stderr",
     "output_type": "stream",
     "text": [
      "[Parallel(n_jobs=-1)]: Using backend LokyBackend with 4 concurrent workers.\n",
      "[Parallel(n_jobs=-1)]: Done   5 tasks      | elapsed:    7.9s\n",
      "[Parallel(n_jobs=-1)]: Done  10 tasks      | elapsed: 19.3min\n",
      "[Parallel(n_jobs=-1)]: Done  17 tasks      | elapsed: 49.1min\n",
      "[Parallel(n_jobs=-1)]: Done  24 tasks      | elapsed: 113.5min\n",
      "[Parallel(n_jobs=-1)]: Done  33 tasks      | elapsed: 224.0min\n",
      "[Parallel(n_jobs=-1)]: Done  42 tasks      | elapsed: 224.4min\n",
      "[Parallel(n_jobs=-1)]: Done  50 out of  50 | elapsed: 279.3min finished\n"
     ]
    },
    {
     "data": {
      "text/plain": [
       "RandomizedSearchCV(cv=5, error_score=nan,\n",
       "                   estimator=LGBMClassifier(boosting_type='gbdt',\n",
       "                                            class_weight='balanced',\n",
       "                                            colsample_bytree=1.0,\n",
       "                                            eval_metric='logloss',\n",
       "                                            importance_type='split',\n",
       "                                            learning_rate=0.1, max_depth=-1,\n",
       "                                            min_child_samples=20,\n",
       "                                            min_child_weight=0.001,\n",
       "                                            min_split_gain=0.0,\n",
       "                                            n_estimators=100, n_jobs=-1,\n",
       "                                            num_leaves=31, objective='binary',\n",
       "                                            random_state=None, r...\n",
       "                                        'min_child_weight': [0.1, 0.01, 0.001,\n",
       "                                                             0.0001, 1e-05,\n",
       "                                                             1e-06],\n",
       "                                        'n_estimators': [100, 200, 500, 1000,\n",
       "                                                         2000, 3500, 5000,\n",
       "                                                         7000],\n",
       "                                        'num_leaves ': [31, 51, 71, 100, 200,\n",
       "                                                        500, 750, 1000, 1500,\n",
       "                                                        2000, 2500, 3000, 3500,\n",
       "                                                        4000],\n",
       "                                        'random_state ': [42],\n",
       "                                        'subsample': [0.1, 0.2, 0.3, 0.4, 0.5,\n",
       "                                                      0.6, 0.7, 0.8, 0.9, 1]},\n",
       "                   pre_dispatch='2*n_jobs', random_state=None, refit=True,\n",
       "                   return_train_score=True, scoring='neg_log_loss', verbose=10)"
      ]
     },
     "execution_count": 110,
     "metadata": {},
     "output_type": "execute_result"
    }
   ],
   "source": [
    "x_cfl=LGBMClassifier(objective = 'binary', eval_metric = 'logloss',class_weight='balanced')\n",
    "\n",
    "prams={\n",
    "    'boosting_type':['gbdt','rf','dart','goss'],\n",
    "    'learning_rate':[0.01,0.03,0.05,0.1,0.15,0.2,0.001,0.005,0.0001,0.0005],\n",
    "     'n_estimators':[100,200,500,1000,2000,3500,5000,7000],\n",
    "     'max_depth':[3,5,7,10,15,25,50,70,85,100],\n",
    "    'colsample_bytree':[0.1,0.2,0.3,0.4,0.5,0.6,0.7,0.8,0.9,1],\n",
    "    'subsample':[0.1,0.2,0.3,0.4,0.5,0.6,0.7,0.8,0.9,1],\n",
    "    'num_leaves ':[31,51,71,100,200,500,750,1000,1500,2000,2500,3000,3500,4000],\n",
    "    'feature_fraction': [0.1,0.2,0.3,0.4,0.5,0.6,0.7,0.8,0.9],\n",
    "    'random_state ':[42],\n",
    "    'min_child_samples':[10,20,40,80,160,320],\n",
    "    'min_child_weight':[0.1,0.01,0.001,0.0001,0.00001,0.000001]\n",
    "}\n",
    "random_cfl=RandomizedSearchCV(x_cfl,param_distributions=prams,verbose=10,return_train_score=True,scoring = \"neg_log_loss\",n_jobs=-1,\n",
    "                             cv=5)\n",
    "random_cfl.fit(X_train_merge,Y_train)"
   ]
  },
  {
   "cell_type": "code",
   "execution_count": 111,
   "metadata": {},
   "outputs": [
    {
     "name": "stdout",
     "output_type": "stream",
     "text": [
      "{'subsample': 0.6, 'random_state ': 42, 'num_leaves ': 2000, 'n_estimators': 2000, 'min_child_weight': 1e-06, 'min_child_samples': 320, 'max_depth': 85, 'learning_rate': 0.2, 'feature_fraction': 0.6, 'colsample_bytree': 0.7, 'boosting_type': 'gbdt'}\n"
     ]
    }
   ],
   "source": [
    "print (random_cfl.best_params_)"
   ]
  },
  {
   "cell_type": "code",
   "execution_count": 113,
   "metadata": {},
   "outputs": [
    {
     "data": {
      "text/plain": [
       "CalibratedClassifierCV(base_estimator=LGBMClassifier(boosting_type='gbdt',\n",
       "                                                     class_weight='balanced',\n",
       "                                                     colsample_bytree=0.7,\n",
       "                                                     eval_metric='logloss',\n",
       "                                                     feature_fraction=0.6,\n",
       "                                                     importance_type='split',\n",
       "                                                     learning_rate=0.2,\n",
       "                                                     max_depth=85,\n",
       "                                                     min_child_samples=320,\n",
       "                                                     min_child_weight=1e-06,\n",
       "                                                     min_split_gain=0.0,\n",
       "                                                     n_estimators=2000,\n",
       "                                                     n_jobs=-1, num_leaves=2000,\n",
       "                                                     objective='binary',\n",
       "                                                     random_state=42,\n",
       "                                                     reg_alpha=0.0,\n",
       "                                                     reg_lambda=0.0,\n",
       "                                                     silent=True, subsample=0.6,\n",
       "                                                     subsample_for_bin=200000,\n",
       "                                                     subsample_freq=0),\n",
       "                       cv=None, method='sigmoid')"
      ]
     },
     "execution_count": 113,
     "metadata": {},
     "output_type": "execute_result"
    }
   ],
   "source": [
    "x_cfl=LGBMClassifier(objective ='binary', eval_metric = 'logloss',class_weight='balanced',subsample=0.6,\n",
    "                     random_state =42,num_leaves =2000,min_child_weight=1e-06,min_child_samples=320,boosting_type='gbdt',\n",
    "                    n_estimators=2000,max_depth=85,learning_rate=0.2,colsample_bytree=0.7,feature_fraction=0.6)\n",
    "x_cfl.fit(X_train_merge,Y_train)\n",
    "c_cfl=CalibratedClassifierCV(x_cfl,method='sigmoid')\n",
    "c_cfl.fit(X_train_merge,Y_train)"
   ]
  },
  {
   "cell_type": "code",
   "execution_count": 114,
   "metadata": {},
   "outputs": [
    {
     "name": "stdout",
     "output_type": "stream",
     "text": [
      "train loss 0.06450546297020252\n",
      "cv loss 0.1842045397364159\n",
      "test loss 0.18719478882188345\n"
     ]
    }
   ],
   "source": [
    "predict_y = c_cfl.predict_proba(X_train_merge)\n",
    "print ('train loss',log_loss(Y_train, predict_y))\n",
    "predict_y = c_cfl.predict_proba(X_cv_merge)\n",
    "print ('cv loss',log_loss(Y_cv, predict_y))\n",
    "predict_y = c_cfl.predict_proba(X_test_merge)\n",
    "print ('test loss',log_loss(Y_test, predict_y))"
   ]
  },
  {
   "cell_type": "markdown",
   "metadata": {},
   "source": [
    "### Summary"
   ]
  },
  {
   "cell_type": "code",
   "execution_count": 73,
   "metadata": {},
   "outputs": [
    {
     "name": "stdout",
     "output_type": "stream",
     "text": [
      "+-------------------------------------------------------------+---------------------+---------------------+\n",
      "|                            Model                            |    Train log loss   |    Test log loss    |\n",
      "+-------------------------------------------------------------+---------------------+---------------------+\n",
      "|  Logistic Regression with l2 penalty (with class balance)   | 0.22286641206524002 | 0.09880498155077859 |\n",
      "|   Logistic Regression with l1 penalty (with class balance)  | 0.30168492564884297 | 0.09391116600747505 |\n",
      "| Logistic Regression with l2 penalty (without class balance) | 0.20845082735825843 | 0.13441988284221684 |\n",
      "| Logistic Regression with l1 penalty (without class balance) | 0.30168492564884436 | 0.09391116600746319 |\n",
      "|           SVM with l2 penalty (with class balance)          | 0.22274221022915308 | 0.09761945480396333 |\n",
      "|           SVM with l1 penalty (with class balance)          |  0.3016849256488436 | 0.09391116600747441 |\n",
      "|         SVM with l2 penalty (without class balance)         |  0.2109374368763923 | 0.13070482919331325 |\n",
      "|         SVM with l1 penalty (without class balance)         | 0.30168492564884447 | 0.09391116600742398 |\n",
      "|                 Light GBM with Class Balance                | 0.07755079716933437 | 0.12857999767632128 |\n",
      "|               Light GBM without Class Balance               | 0.09796563076029288 | 0.18481715444520885 |\n",
      "+-------------------------------------------------------------+---------------------+---------------------+\n"
     ]
    }
   ],
   "source": [
    "from prettytable import PrettyTable\n",
    "\n",
    "x = PrettyTable([\"Model\",\"Train log loss\",\"Test log loss\"])\n",
    "\n",
    "x.add_row([\"Logistic Regression with l2 penalty (with class balance) \",\"0.22286641206524002\",\"0.09880498155077859\"])\n",
    "x.add_row([\"Logistic Regression with l1 penalty (with class balance)\",\"0.30168492564884297\",\"0.09391116600747505\"])\n",
    "x.add_row([\"Logistic Regression with l2 penalty (without class balance)\",\"0.20845082735825843\",\"0.13441988284221684\"])\n",
    "x.add_row([\"Logistic Regression with l1 penalty (without class balance)\",\"0.30168492564884436\",\"0.09391116600746319\"])\n",
    "x.add_row([\"SVM with l2 penalty (with class balance)\",\"0.22274221022915308\",\"0.09761945480396333\"])\n",
    "x.add_row([\"SVM with l1 penalty (with class balance)\",\"0.3016849256488436\",\"0.09391116600747441\"])\n",
    "x.add_row([\"SVM with l2 penalty (without class balance)\",\"0.2109374368763923\",\"0.13070482919331325\"])\n",
    "x.add_row([\"SVM with l1 penalty (without class balance)\",\"0.30168492564884447\",\"0.09391116600742398\"])\n",
    "x.add_row([\"Light GBM with Class Balance\",\"0.07755079716933437\",\"0.12857999767632128\"])\n",
    "x.add_row([\"Light GBM without Class Balance\",\"0.09796563076029288\",\"0.18481715444520885\"])\n",
    "\n",
    "print(x)"
   ]
  },
  {
   "cell_type": "markdown",
   "metadata": {},
   "source": [
    "SVM with l1 penalty (without class balance) gives the best test log loss but there is quite difference train and test loss.\n",
    "\n",
    "Light GBM with class balance gives closer train and test loss, Light gbm withclass balance is the best model ."
   ]
  }
 ],
 "metadata": {
  "kernelspec": {
   "display_name": "Python 3",
   "language": "python",
   "name": "python3"
  },
  "language_info": {
   "codemirror_mode": {
    "name": "ipython",
    "version": 3
   },
   "file_extension": ".py",
   "mimetype": "text/x-python",
   "name": "python",
   "nbconvert_exporter": "python",
   "pygments_lexer": "ipython3",
   "version": "3.6.5"
  }
 },
 "nbformat": 4,
 "nbformat_minor": 2
}
